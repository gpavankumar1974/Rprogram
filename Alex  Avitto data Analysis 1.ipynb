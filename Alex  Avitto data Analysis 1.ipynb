{
 "cells": [
  {
   "cell_type": "code",
   "execution_count": 1,
   "metadata": {},
   "outputs": [],
   "source": [
    "analysis.anova <- read.csv(\"C:/Users/radhapavan/Desktop/Alex/anova.csv\", sep=\",\", header = TRUE)\n"
   ]
  },
  {
   "cell_type": "code",
   "execution_count": 2,
   "metadata": {},
   "outputs": [
    {
     "name": "stdout",
     "output_type": "stream",
     "text": [
      "'data.frame':\t1048575 obs. of  3 variables:\n",
      " $ X                   : int  0 1 2 3 4 5 6 7 8 9 ...\n",
      " $ parent_category_name: Factor w/ 9 levels \"Animals\",\"Consumer electronics\",..: 6 4 2 6 9 6 4 6 6 6 ...\n",
      " $ deal_probability    : num  0.128 0 0.432 0.803 0.208 ...\n"
     ]
    }
   ],
   "source": [
    "str(analysis.anova)"
   ]
  },
  {
   "cell_type": "code",
   "execution_count": 5,
   "metadata": {},
   "outputs": [
    {
     "data": {
      "text/html": [
       "TRUE"
      ],
      "text/latex": [
       "TRUE"
      ],
      "text/markdown": [
       "TRUE"
      ],
      "text/plain": [
       "[1] TRUE"
      ]
     },
     "metadata": {},
     "output_type": "display_data"
    }
   ],
   "source": [
    "is.factor(analysis.anova$parent_category_name)"
   ]
  },
  {
   "cell_type": "code",
   "execution_count": 6,
   "metadata": {},
   "outputs": [
    {
     "data": {
      "text/html": [
       "<ol class=list-inline>\n",
       "\t<li>'Animals'</li>\n",
       "\t<li>'Consumer electronics'</li>\n",
       "\t<li>'For business'</li>\n",
       "\t<li>'For home and cottages'</li>\n",
       "\t<li>'Hobbies and Recreation'</li>\n",
       "\t<li>'Personal things'</li>\n",
       "\t<li>'The property'</li>\n",
       "\t<li>'The services'</li>\n",
       "\t<li>'Transport'</li>\n",
       "</ol>\n"
      ],
      "text/latex": [
       "\\begin{enumerate*}\n",
       "\\item 'Animals'\n",
       "\\item 'Consumer electronics'\n",
       "\\item 'For business'\n",
       "\\item 'For home and cottages'\n",
       "\\item 'Hobbies and Recreation'\n",
       "\\item 'Personal things'\n",
       "\\item 'The property'\n",
       "\\item 'The services'\n",
       "\\item 'Transport'\n",
       "\\end{enumerate*}\n"
      ],
      "text/markdown": [
       "1. 'Animals'\n",
       "2. 'Consumer electronics'\n",
       "3. 'For business'\n",
       "4. 'For home and cottages'\n",
       "5. 'Hobbies and Recreation'\n",
       "6. 'Personal things'\n",
       "7. 'The property'\n",
       "8. 'The services'\n",
       "9. 'Transport'\n",
       "\n",
       "\n"
      ],
      "text/plain": [
       "[1] \"Animals\"                \"Consumer electronics\"   \"For business\"          \n",
       "[4] \"For home and cottages\"  \"Hobbies and Recreation\" \"Personal things\"       \n",
       "[7] \"The property\"           \"The services\"           \"Transport\"             "
      ]
     },
     "metadata": {},
     "output_type": "display_data"
    }
   ],
   "source": [
    "levels(analysis.anova$parent_category_name)"
   ]
  },
  {
   "cell_type": "code",
   "execution_count": 7,
   "metadata": {},
   "outputs": [
    {
     "name": "stderr",
     "output_type": "stream",
     "text": [
      "\n",
      "Attaching package: 'dplyr'\n",
      "\n",
      "The following objects are masked from 'package:stats':\n",
      "\n",
      "    filter, lag\n",
      "\n",
      "The following objects are masked from 'package:base':\n",
      "\n",
      "    intersect, setdiff, setequal, union\n",
      "\n"
     ]
    }
   ],
   "source": [
    "library(dplyr)"
   ]
  },
  {
   "cell_type": "markdown",
   "metadata": {},
   "source": [
    "<h1> First Basic data summary </h1>\n"
   ]
  },
  {
   "cell_type": "code",
   "execution_count": 8,
   "metadata": {},
   "outputs": [
    {
     "data": {
      "text/html": [
       "<table>\n",
       "<thead><tr><th scope=col>parent_category_name</th><th scope=col>count</th><th scope=col>mean</th><th scope=col>sd</th></tr></thead>\n",
       "<tbody>\n",
       "\t<tr><td>Animals               </td><td> 36597                </td><td>0.23661539            </td><td>0.2869582             </td></tr>\n",
       "\t<tr><td>Consumer electronics  </td><td>120880                </td><td>0.17496128            </td><td>0.2787824             </td></tr>\n",
       "\t<tr><td>For business          </td><td> 12629                </td><td>0.11146424            </td><td>0.2178563             </td></tr>\n",
       "\t<tr><td>For home and cottages </td><td>124477                </td><td>0.17958620            </td><td>0.3065312             </td></tr>\n",
       "\t<tr><td>Hobbies and Recreation</td><td> 60152                </td><td>0.12320775            </td><td>0.2594957             </td></tr>\n",
       "\t<tr><td>Personal things       </td><td>486510                </td><td>0.07596101            </td><td>0.2092683             </td></tr>\n",
       "\t<tr><td>The property          </td><td>106565                </td><td>0.14201891            </td><td>0.1916491             </td></tr>\n",
       "\t<tr><td>The services          </td><td> 44885                </td><td>0.40239752            </td><td>0.3461604             </td></tr>\n",
       "\t<tr><td>Transport             </td><td> 55880                </td><td>0.26201842            </td><td>0.2920424             </td></tr>\n",
       "</tbody>\n",
       "</table>\n"
      ],
      "text/latex": [
       "\\begin{tabular}{r|llll}\n",
       " parent\\_category\\_name & count & mean & sd\\\\\n",
       "\\hline\n",
       "\t Animals                &  36597                 & 0.23661539             & 0.2869582             \\\\\n",
       "\t Consumer electronics   & 120880                 & 0.17496128             & 0.2787824             \\\\\n",
       "\t For business           &  12629                 & 0.11146424             & 0.2178563             \\\\\n",
       "\t For home and cottages  & 124477                 & 0.17958620             & 0.3065312             \\\\\n",
       "\t Hobbies and Recreation &  60152                 & 0.12320775             & 0.2594957             \\\\\n",
       "\t Personal things        & 486510                 & 0.07596101             & 0.2092683             \\\\\n",
       "\t The property           & 106565                 & 0.14201891             & 0.1916491             \\\\\n",
       "\t The services           &  44885                 & 0.40239752             & 0.3461604             \\\\\n",
       "\t Transport              &  55880                 & 0.26201842             & 0.2920424             \\\\\n",
       "\\end{tabular}\n"
      ],
      "text/markdown": [
       "\n",
       "parent_category_name | count | mean | sd | \n",
       "|---|---|---|---|---|---|---|---|---|\n",
       "| Animals                |  36597                 | 0.23661539             | 0.2869582              | \n",
       "| Consumer electronics   | 120880                 | 0.17496128             | 0.2787824              | \n",
       "| For business           |  12629                 | 0.11146424             | 0.2178563              | \n",
       "| For home and cottages  | 124477                 | 0.17958620             | 0.3065312              | \n",
       "| Hobbies and Recreation |  60152                 | 0.12320775             | 0.2594957              | \n",
       "| Personal things        | 486510                 | 0.07596101             | 0.2092683              | \n",
       "| The property           | 106565                 | 0.14201891             | 0.1916491              | \n",
       "| The services           |  44885                 | 0.40239752             | 0.3461604              | \n",
       "| Transport              |  55880                 | 0.26201842             | 0.2920424              | \n",
       "\n",
       "\n"
      ],
      "text/plain": [
       "  parent_category_name   count  mean       sd       \n",
       "1 Animals                 36597 0.23661539 0.2869582\n",
       "2 Consumer electronics   120880 0.17496128 0.2787824\n",
       "3 For business            12629 0.11146424 0.2178563\n",
       "4 For home and cottages  124477 0.17958620 0.3065312\n",
       "5 Hobbies and Recreation  60152 0.12320775 0.2594957\n",
       "6 Personal things        486510 0.07596101 0.2092683\n",
       "7 The property           106565 0.14201891 0.1916491\n",
       "8 The services            44885 0.40239752 0.3461604\n",
       "9 Transport               55880 0.26201842 0.2920424"
      ]
     },
     "metadata": {},
     "output_type": "display_data"
    }
   ],
   "source": [
    "group_by(analysis.anova, parent_category_name) %>%\n",
    "  summarise(\n",
    "    count = n(),\n",
    "    mean = mean(deal_probability, na.rm = TRUE),\n",
    "    sd = sd(deal_probability, na.rm = TRUE)\n",
    "  )"
   ]
  },
  {
   "cell_type": "code",
   "execution_count": 13,
   "metadata": {},
   "outputs": [
    {
     "name": "stderr",
     "output_type": "stream",
     "text": [
      "Warning message in bxp(structure(list(stats = structure(c(0, 0, 0.11023, 0.38391, :\n",
      "\"some notches went outside hinges ('box'): maybe set notch=FALSE\""
     ]
    },
    {
     "data": {
      "image/png": "[encoded data removed]",
      "text/plain": [
       "Plot with title \"Boxplot of deal_probability of 9 Types of parent_category_name \""
      ]
     },
     "metadata": {},
     "output_type": "display_data"
    }
   ],
   "source": [
    "boxplot(analysis.anova$deal_probability~analysis.anova$parent_category_name, main=\"Boxplot of deal_probability of 9 Types of parent_category_name \", las=2,\n",
    "col = c(\"red\",\"sienna\",\"palevioletred1\",\"royalblue2\",\"red\",\"sienna\",\"palevioletred1\", \"royalblue2\",\"red\",\"sienna\",\"palevioletred1\",\"royalblue2\"), , par(mar = c(12, 5, 4, 2) + 0.1), ylab =\"Deal Prob\",  notch = TRUE,    varwidth = TRUE)\n",
    "\n",
    "abline(h=0.6,col=\"red\") # for line above"
   ]
  },
  {
   "cell_type": "markdown",
   "metadata": {},
   "source": [
    "<h1> With GGPLOT </h1>"
   ]
  },
  {
   "cell_type": "code",
   "execution_count": 14,
   "metadata": {},
   "outputs": [
    {
     "data": {},
     "metadata": {},
     "output_type": "display_data"
    },
    {
     "data": {
      "image/png": "[encoded data removed]",
      "text/plain": [
       "plot without title"
      ]
     },
     "metadata": {},
     "output_type": "display_data"
    }
   ],
   "source": [
    "## issue with this\n",
    "library(ggplot2)\n",
    "ggplot(analysis.anova, aes(x=parent_category_name, y=deal_probability,  fill=parent_category_name)) + \n",
    "     geom_boxplot() + \n",
    "     theme(axis.text.x = element_text(angle = 90, vjust=0.5, hjust=1))"
   ]
  },
  {
   "cell_type": "markdown",
   "metadata": {},
   "source": [
    "<h1> ANOVA - Oneway Models </h1> <h3> Parent Category Name is the Levels / Factors/categories. Finding this data against Deal_probability is will give is this significant."
   ]
  },
  {
   "cell_type": "code",
   "execution_count": 15,
   "metadata": {},
   "outputs": [
    {
     "name": "stdout",
     "output_type": "stream",
     "text": [
      "Call:\n",
      "   aov(formula = analysis.anova$deal_probability ~ analysis.anova$parent_category_name)\n",
      "\n",
      "Terms:\n",
      "                analysis.anova$parent_category_name Residuals\n",
      "Sum of Squares                              6628.69  64117.90\n",
      "Deg. of Freedom                                   8   1048566\n",
      "\n",
      "Residual standard error: 0.2472816\n",
      "Estimated effects may be unbalanced\n"
     ]
    }
   ],
   "source": [
    "model1<- aov(analysis.anova$deal_probability~analysis.anova$parent_category_name)\n",
    "print(model1)"
   ]
  },
  {
   "cell_type": "code",
   "execution_count": 16,
   "metadata": {},
   "outputs": [
    {
     "data": {
      "text/plain": [
       "                                         Df Sum Sq Mean Sq F value Pr(>F)    \n",
       "analysis.anova$parent_category_name       8   6629   828.6   13550 <2e-16 ***\n",
       "Residuals                           1048566  64118     0.1                   \n",
       "---\n",
       "Signif. codes:  0 '***' 0.001 '**' 0.01 '*' 0.05 '.' 0.1 ' ' 1"
      ]
     },
     "metadata": {},
     "output_type": "display_data"
    }
   ],
   "source": [
    "summary(model1)"
   ]
  },
  {
   "cell_type": "code",
   "execution_count": 17,
   "metadata": {},
   "outputs": [
    {
     "name": "stdout",
     "output_type": "stream",
     "text": [
      "\n",
      "\tOne-way analysis of means (not assuming equal variances)\n",
      "\n",
      "data:  analysis.anova$deal_probability and analysis.anova$parent_category_name\n",
      "F = 10188, num df = 8, denom df = 150150, p-value < 2.2e-16\n",
      "\n"
     ]
    }
   ],
   "source": [
    "model2 <-  oneway.test(analysis.anova$deal_probability~analysis.anova$parent_category_name)\n",
    "print(model2)"
   ]
  },
  {
   "cell_type": "code",
   "execution_count": 19,
   "metadata": {},
   "outputs": [
    {
     "name": "stdout",
     "output_type": "stream",
     "text": [
      "\n",
      "\tKruskal-Wallis rank sum test\n",
      "\n",
      "data:  analysis.anova$deal_probability by analysis.anova$parent_category_name\n",
      "Kruskal-Wallis chi-squared = 163440, df = 8, p-value < 2.2e-16\n",
      "\n"
     ]
    }
   ],
   "source": [
    "# Chisquare\n",
    "model3 <- kruskal.test(analysis.anova$deal_probability~analysis.anova$parent_category_name)\n",
    "print(model3)"
   ]
  },
  {
   "cell_type": "markdown",
   "metadata": {},
   "source": [
    "<h3> Pairwise T-test </h3>"
   ]
  },
  {
   "cell_type": "code",
   "execution_count": 21,
   "metadata": {},
   "outputs": [
    {
     "data": {
      "text/plain": [
       "\n",
       "\tPairwise comparisons using t tests with non-pooled SD \n",
       "\n",
       "data:  analysis.anova$deal_probability and analysis.anova$parent_category_name \n",
       "\n",
       "                       Animals Consumer electronics For business\n",
       "Consumer electronics   < 2e-16 -                    -           \n",
       "For business           < 2e-16 < 2e-16              -           \n",
       "For home and cottages  < 2e-16 9.2e-05              < 2e-16     \n",
       "Hobbies and Recreation < 2e-16 < 2e-16              1.1e-07     \n",
       "Personal things        < 2e-16 < 2e-16              < 2e-16     \n",
       "The property           < 2e-16 < 2e-16              < 2e-16     \n",
       "The services           < 2e-16 < 2e-16              < 2e-16     \n",
       "Transport              < 2e-16 < 2e-16              < 2e-16     \n",
       "                       For home and cottages Hobbies and Recreation\n",
       "Consumer electronics   -                     -                     \n",
       "For business           -                     -                     \n",
       "For home and cottages  -                     -                     \n",
       "Hobbies and Recreation < 2e-16               -                     \n",
       "Personal things        < 2e-16               < 2e-16               \n",
       "The property           < 2e-16               < 2e-16               \n",
       "The services           < 2e-16               < 2e-16               \n",
       "Transport              < 2e-16               < 2e-16               \n",
       "                       Personal things The property The services\n",
       "Consumer electronics   -               -            -           \n",
       "For business           -               -            -           \n",
       "For home and cottages  -               -            -           \n",
       "Hobbies and Recreation -               -            -           \n",
       "Personal things        -               -            -           \n",
       "The property           < 2e-16         -            -           \n",
       "The services           < 2e-16         < 2e-16      -           \n",
       "Transport              < 2e-16         < 2e-16      < 2e-16     \n",
       "\n",
       "P value adjustment method: BH "
      ]
     },
     "metadata": {},
     "output_type": "display_data"
    }
   ],
   "source": [
    "pairwise.t.test(analysis.anova$deal_probability, analysis.anova$parent_category_name,\n",
    "                 p.adjust.method = \"BH\", pool.sd = FALSE)"
   ]
  },
  {
   "cell_type": "code",
   "execution_count": 22,
   "metadata": {},
   "outputs": [
    {
     "data": {
      "image/png": "[encoded data removed]",
      "text/plain": [
       "Plot with title \"\""
      ]
     },
     "metadata": {},
     "output_type": "display_data"
    }
   ],
   "source": [
    "#normality plot\t\t\t \n",
    "plot(model1, 2)\t\t"
   ]
  },
  {
   "cell_type": "code",
   "execution_count": null,
   "metadata": {},
   "outputs": [],
   "source": []
  }
 ],
 "metadata": {
  "kernelspec": {
   "display_name": "R",
   "language": "R",
   "name": "ir"
  },
  "language_info": {
   "codemirror_mode": "r",
   "file_extension": ".r",
   "mimetype": "text/x-r-source",
   "name": "R",
   "pygments_lexer": "r",
   "version": "3.4.4"
  }
 },
 "nbformat": 4,
 "nbformat_minor": 2
}
