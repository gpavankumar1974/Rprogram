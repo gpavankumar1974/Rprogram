{
 "cells": [
  {
   "cell_type": "code",
   "execution_count": 2,
   "metadata": {},
   "outputs": [],
   "source": [
    "library(readr)\n",
    "analysis.anova <- read.csv(\"D:/Alex/anova.csv\", sep=\",\", header = TRUE)"
   ]
  },
  {
   "cell_type": "code",
   "execution_count": 3,
   "metadata": {},
   "outputs": [
    {
     "name": "stdout",
     "output_type": "stream",
     "text": [
      "'data.frame':\t1048575 obs. of  3 variables:\n",
      " $ X                   : int  0 1 2 3 4 5 6 7 8 9 ...\n",
      " $ parent_category_name: Factor w/ 9 levels \"Animals\",\"Consumer electronics\",..: 6 4 2 6 9 6 4 6 6 6 ...\n",
      " $ deal_probability    : num  0.128 0 0.432 0.803 0.208 ...\n"
     ]
    }
   ],
   "source": [
    "str(analysis.anova)"
   ]
  },
  {
   "cell_type": "code",
   "execution_count": 4,
   "metadata": {},
   "outputs": [
    {
     "data": {
      "text/html": [
       "TRUE"
      ],
      "text/latex": [
       "TRUE"
      ],
      "text/markdown": [
       "TRUE"
      ],
      "text/plain": [
       "[1] TRUE"
      ]
     },
     "metadata": {},
     "output_type": "display_data"
    }
   ],
   "source": [
    "is.factor(analysis.anova$parent_category_name)"
   ]
  },
  {
   "cell_type": "code",
   "execution_count": 5,
   "metadata": {},
   "outputs": [
    {
     "data": {
      "text/html": [
       "<ol class=list-inline>\n",
       "\t<li>'Animals'</li>\n",
       "\t<li>'Consumer electronics'</li>\n",
       "\t<li>'For business'</li>\n",
       "\t<li>'For home and cottages'</li>\n",
       "\t<li>'Hobbies and Recreation'</li>\n",
       "\t<li>'Personal things'</li>\n",
       "\t<li>'The property'</li>\n",
       "\t<li>'The services'</li>\n",
       "\t<li>'Transport'</li>\n",
       "</ol>\n"
      ],
      "text/latex": [
       "\\begin{enumerate*}\n",
       "\\item 'Animals'\n",
       "\\item 'Consumer electronics'\n",
       "\\item 'For business'\n",
       "\\item 'For home and cottages'\n",
       "\\item 'Hobbies and Recreation'\n",
       "\\item 'Personal things'\n",
       "\\item 'The property'\n",
       "\\item 'The services'\n",
       "\\item 'Transport'\n",
       "\\end{enumerate*}\n"
      ],
      "text/markdown": [
       "1. 'Animals'\n",
       "2. 'Consumer electronics'\n",
       "3. 'For business'\n",
       "4. 'For home and cottages'\n",
       "5. 'Hobbies and Recreation'\n",
       "6. 'Personal things'\n",
       "7. 'The property'\n",
       "8. 'The services'\n",
       "9. 'Transport'\n",
       "\n",
       "\n"
      ],
      "text/plain": [
       "[1] \"Animals\"                \"Consumer electronics\"   \"For business\"          \n",
       "[4] \"For home and cottages\"  \"Hobbies and Recreation\" \"Personal things\"       \n",
       "[7] \"The property\"           \"The services\"           \"Transport\"             "
      ]
     },
     "metadata": {},
     "output_type": "display_data"
    }
   ],
   "source": [
    "levels(analysis.anova$parent_category_name)"
   ]
  },
  {
   "cell_type": "markdown",
   "metadata": {},
   "source": [
    "<h1>First Basic data summary</h1>"
   ]
  },
  {
   "cell_type": "code",
   "execution_count": 6,
   "metadata": {},
   "outputs": [
    {
     "name": "stderr",
     "output_type": "stream",
     "text": [
      "\n",
      "Attaching package: 'dplyr'\n",
      "\n",
      "The following objects are masked from 'package:stats':\n",
      "\n",
      "    filter, lag\n",
      "\n",
      "The following objects are masked from 'package:base':\n",
      "\n",
      "    intersect, setdiff, setequal, union\n",
      "\n"
     ]
    },
    {
     "data": {
      "text/html": [
       "<table>\n",
       "<thead><tr><th scope=col>parent_category_name</th><th scope=col>count</th><th scope=col>mean</th><th scope=col>sd</th></tr></thead>\n",
       "<tbody>\n",
       "\t<tr><td>Animals               </td><td> 36597                </td><td>0.23661539            </td><td>0.2869582             </td></tr>\n",
       "\t<tr><td>Consumer electronics  </td><td>120880                </td><td>0.17496128            </td><td>0.2787824             </td></tr>\n",
       "\t<tr><td>For business          </td><td> 12629                </td><td>0.11146424            </td><td>0.2178563             </td></tr>\n",
       "\t<tr><td>For home and cottages </td><td>124477                </td><td>0.17958620            </td><td>0.3065312             </td></tr>\n",
       "\t<tr><td>Hobbies and Recreation</td><td> 60152                </td><td>0.12320775            </td><td>0.2594957             </td></tr>\n",
       "\t<tr><td>Personal things       </td><td>486510                </td><td>0.07596101            </td><td>0.2092683             </td></tr>\n",
       "\t<tr><td>The property          </td><td>106565                </td><td>0.14201891            </td><td>0.1916491             </td></tr>\n",
       "\t<tr><td>The services          </td><td> 44885                </td><td>0.40239752            </td><td>0.3461604             </td></tr>\n",
       "\t<tr><td>Transport             </td><td> 55880                </td><td>0.26201842            </td><td>0.2920424             </td></tr>\n",
       "</tbody>\n",
       "</table>\n"
      ],
      "text/latex": [
       "\\begin{tabular}{r|llll}\n",
       " parent\\_category\\_name & count & mean & sd\\\\\n",
       "\\hline\n",
       "\t Animals                &  36597                 & 0.23661539             & 0.2869582             \\\\\n",
       "\t Consumer electronics   & 120880                 & 0.17496128             & 0.2787824             \\\\\n",
       "\t For business           &  12629                 & 0.11146424             & 0.2178563             \\\\\n",
       "\t For home and cottages  & 124477                 & 0.17958620             & 0.3065312             \\\\\n",
       "\t Hobbies and Recreation &  60152                 & 0.12320775             & 0.2594957             \\\\\n",
       "\t Personal things        & 486510                 & 0.07596101             & 0.2092683             \\\\\n",
       "\t The property           & 106565                 & 0.14201891             & 0.1916491             \\\\\n",
       "\t The services           &  44885                 & 0.40239752             & 0.3461604             \\\\\n",
       "\t Transport              &  55880                 & 0.26201842             & 0.2920424             \\\\\n",
       "\\end{tabular}\n"
      ],
      "text/markdown": [
       "\n",
       "parent_category_name | count | mean | sd | \n",
       "|---|---|---|---|---|---|---|---|---|\n",
       "| Animals                |  36597                 | 0.23661539             | 0.2869582              | \n",
       "| Consumer electronics   | 120880                 | 0.17496128             | 0.2787824              | \n",
       "| For business           |  12629                 | 0.11146424             | 0.2178563              | \n",
       "| For home and cottages  | 124477                 | 0.17958620             | 0.3065312              | \n",
       "| Hobbies and Recreation |  60152                 | 0.12320775             | 0.2594957              | \n",
       "| Personal things        | 486510                 | 0.07596101             | 0.2092683              | \n",
       "| The property           | 106565                 | 0.14201891             | 0.1916491              | \n",
       "| The services           |  44885                 | 0.40239752             | 0.3461604              | \n",
       "| Transport              |  55880                 | 0.26201842             | 0.2920424              | \n",
       "\n",
       "\n"
      ],
      "text/plain": [
       "  parent_category_name   count  mean       sd       \n",
       "1 Animals                 36597 0.23661539 0.2869582\n",
       "2 Consumer electronics   120880 0.17496128 0.2787824\n",
       "3 For business            12629 0.11146424 0.2178563\n",
       "4 For home and cottages  124477 0.17958620 0.3065312\n",
       "5 Hobbies and Recreation  60152 0.12320775 0.2594957\n",
       "6 Personal things        486510 0.07596101 0.2092683\n",
       "7 The property           106565 0.14201891 0.1916491\n",
       "8 The services            44885 0.40239752 0.3461604\n",
       "9 Transport               55880 0.26201842 0.2920424"
      ]
     },
     "metadata": {},
     "output_type": "display_data"
    }
   ],
   "source": [
    "library(dplyr)\n",
    "group_by(analysis.anova, parent_category_name) %>%\n",
    "  summarise(\n",
    "    count = n(),\n",
    "    mean = mean(deal_probability, na.rm = TRUE),\n",
    "    sd = sd(deal_probability, na.rm = TRUE)\n",
    "  )"
   ]
  },
  {
   "cell_type": "code",
   "execution_count": 7,
   "metadata": {},
   "outputs": [
    {
     "data": {
      "image/png": "[encoded data removed]",
      "text/plain": [
       "Plot with title \"Boxplot of deal_probability of 9 Types of parent_category_name \""
      ]
     },
     "metadata": {},
     "output_type": "display_data"
    }
   ],
   "source": [
    "boxplot(analysis.anova$deal_probability~analysis.anova$parent_category_name, main=\"Boxplot of deal_probability of 9 Types of parent_category_name \", las=2,\n",
    "col = c(\"red\",\"sienna\",\"palevioletred1\",\"royalblue2\",\"red\",\"sienna\",\"palevioletred1\", \"royalblue2\",\"red\",\"sienna\",\"palevioletred1\",\"royalblue2\"), , par(mar = c(12, 5, 4, 2) + 0.1), ylab =\"Deal Prob\",  notch = FALSE,    varwidth = TRUE)\n",
    "\n",
    "abline(h=0.6,col=\"red\") # for line above"
   ]
  },
  {
   "cell_type": "code",
   "execution_count": 8,
   "metadata": {},
   "outputs": [
    {
     "data": {},
     "metadata": {},
     "output_type": "display_data"
    },
    {
     "data": {
      "image/png": "[encoded data removed]",
      "text/plain": [
       "plot without title"
      ]
     },
     "metadata": {},
     "output_type": "display_data"
    }
   ],
   "source": [
    "## issue with this\n",
    "library(ggplot2)\n",
    "ggplot(analysis.anova, aes(x=parent_category_name, y=deal_probability,  fill=parent_category_name)) + \n",
    "     geom_boxplot() + \n",
    "     theme(axis.text.x = element_text(angle = 90, vjust=0.5, hjust=1))"
   ]
  },
  {
   "cell_type": "markdown",
   "metadata": {},
   "source": [
    "ANOVA - Oneway Models\n",
    "Parent Category Name is the Levels / Factors/categories. Finding this data against Deal_probability is will give is this significant."
   ]
  },
  {
   "cell_type": "code",
   "execution_count": 9,
   "metadata": {},
   "outputs": [
    {
     "name": "stdout",
     "output_type": "stream",
     "text": [
      "Call:\n",
      "   aov(formula = analysis.anova$deal_probability ~ analysis.anova$parent_category_name)\n",
      "\n",
      "Terms:\n",
      "                analysis.anova$parent_category_name Residuals\n",
      "Sum of Squares                              6628.69  64117.90\n",
      "Deg. of Freedom                                   8   1048566\n",
      "\n",
      "Residual standard error: 0.2472816\n",
      "Estimated effects may be unbalanced\n"
     ]
    },
    {
     "data": {
      "text/plain": [
       "                                         Df Sum Sq Mean Sq F value Pr(>F)    \n",
       "analysis.anova$parent_category_name       8   6629   828.6   13550 <2e-16 ***\n",
       "Residuals                           1048566  64118     0.1                   \n",
       "---\n",
       "Signif. codes:  0 '***' 0.001 '**' 0.01 '*' 0.05 '.' 0.1 ' ' 1"
      ]
     },
     "metadata": {},
     "output_type": "display_data"
    }
   ],
   "source": [
    "model1<- aov(analysis.anova$deal_probability~analysis.anova$parent_category_name)\n",
    "print(model1)\n",
    "summary(model1)"
   ]
  },
  {
   "cell_type": "code",
   "execution_count": 10,
   "metadata": {},
   "outputs": [
    {
     "name": "stdout",
     "output_type": "stream",
     "text": [
      "\n",
      "\tOne-way analysis of means (not assuming equal variances)\n",
      "\n",
      "data:  analysis.anova$deal_probability and analysis.anova$parent_category_name\n",
      "F = 10188, num df = 8, denom df = 150150, p-value < 2.2e-16\n",
      "\n"
     ]
    }
   ],
   "source": [
    "model2 <-  oneway.test(analysis.anova$deal_probability~analysis.anova$parent_category_name)\n",
    "print(model2)"
   ]
  },
  {
   "cell_type": "code",
   "execution_count": 11,
   "metadata": {},
   "outputs": [
    {
     "name": "stdout",
     "output_type": "stream",
     "text": [
      "\n",
      "\tKruskal-Wallis rank sum test\n",
      "\n",
      "data:  analysis.anova$deal_probability by analysis.anova$parent_category_name\n",
      "Kruskal-Wallis chi-squared = 163440, df = 8, p-value < 2.2e-16\n",
      "\n"
     ]
    }
   ],
   "source": [
    "# Chisquare\n",
    "model3 <- kruskal.test(analysis.anova$deal_probability~analysis.anova$parent_category_name)\n",
    "print(model3)"
   ]
  },
  {
   "cell_type": "markdown",
   "metadata": {},
   "source": [
    "<h1> Pairwise T-test </h1>"
   ]
  },
  {
   "cell_type": "code",
   "execution_count": 12,
   "metadata": {},
   "outputs": [
    {
     "data": {
      "text/plain": [
       "\n",
       "\tPairwise comparisons using t tests with non-pooled SD \n",
       "\n",
       "data:  analysis.anova$deal_probability and analysis.anova$parent_category_name \n",
       "\n",
       "                       Animals Consumer electronics For business\n",
       "Consumer electronics   < 2e-16 -                    -           \n",
       "For business           < 2e-16 < 2e-16              -           \n",
       "For home and cottages  < 2e-16 9.2e-05              < 2e-16     \n",
       "Hobbies and Recreation < 2e-16 < 2e-16              1.1e-07     \n",
       "Personal things        < 2e-16 < 2e-16              < 2e-16     \n",
       "The property           < 2e-16 < 2e-16              < 2e-16     \n",
       "The services           < 2e-16 < 2e-16              < 2e-16     \n",
       "Transport              < 2e-16 < 2e-16              < 2e-16     \n",
       "                       For home and cottages Hobbies and Recreation\n",
       "Consumer electronics   -                     -                     \n",
       "For business           -                     -                     \n",
       "For home and cottages  -                     -                     \n",
       "Hobbies and Recreation < 2e-16               -                     \n",
       "Personal things        < 2e-16               < 2e-16               \n",
       "The property           < 2e-16               < 2e-16               \n",
       "The services           < 2e-16               < 2e-16               \n",
       "Transport              < 2e-16               < 2e-16               \n",
       "                       Personal things The property The services\n",
       "Consumer electronics   -               -            -           \n",
       "For business           -               -            -           \n",
       "For home and cottages  -               -            -           \n",
       "Hobbies and Recreation -               -            -           \n",
       "Personal things        -               -            -           \n",
       "The property           < 2e-16         -            -           \n",
       "The services           < 2e-16         < 2e-16      -           \n",
       "Transport              < 2e-16         < 2e-16      < 2e-16     \n",
       "\n",
       "P value adjustment method: BH "
      ]
     },
     "metadata": {},
     "output_type": "display_data"
    }
   ],
   "source": [
    "pairwise.t.test(analysis.anova$deal_probability, analysis.anova$parent_category_name,\n",
    "                 p.adjust.method = \"BH\", pool.sd = FALSE)"
   ]
  },
  {
   "cell_type": "code",
   "execution_count": 14,
   "metadata": {},
   "outputs": [
    {
     "data": {
      "image/png": "[encoded data removed]",
      "text/plain": [
       "Plot with title \"\""
      ]
     },
     "metadata": {},
     "output_type": "display_data"
    }
   ],
   "source": [
    "#normality plot\t\t\t \n",
    "plot(model1, 2)\t\t\n",
    "# You can add 1,3,4, replacing 2, to see other plots"
   ]
  },
  {
   "cell_type": "code",
   "execution_count": 15,
   "metadata": {},
   "outputs": [
    {
     "data": {
      "image/png": "[encoded data removed]",
      "text/plain": [
       "Plot with title \"Histogram of analysis.anova$deal_probability\""
      ]
     },
     "metadata": {},
     "output_type": "display_data"
    }
   ],
   "source": [
    "# Excluded Deal _probality = 0 , zero values are excluded. If you want add in Xlim=c(0.0,1.0)\n",
    "hist(analysis.anova$deal_probability,xlab = \"deal_probability\",col = \"yellow\",border = \"blue\",xlim=c(0.1,1.0), ylim=c(0,80000), breaks=18)"
   ]
  },
  {
   "cell_type": "code",
   "execution_count": 16,
   "metadata": {},
   "outputs": [
    {
     "name": "stderr",
     "output_type": "stream",
     "text": [
      "Warning message:\n",
      "\"Removed 817853 rows containing non-finite values (stat_bin).\"Warning message:\n",
      "\"Removed 1 rows containing missing values (geom_bar).\""
     ]
    },
    {
     "data": {},
     "metadata": {},
     "output_type": "display_data"
    },
    {
     "data": {
      "image/png": "[encoded data removed]",
      "text/plain": [
       "plot without title"
      ]
     },
     "metadata": {},
     "output_type": "display_data"
    }
   ],
   "source": [
    "# Same histogram in Ggplot/qplot. Better Histogram from this !!\n",
    "qplot(analysis.anova$deal_probability, geom=\"histogram\",bins=10, xlim=c(0.2,1.0), fill=I(\"blue\"), alpha=I(.5))"
   ]
  },
  {
   "cell_type": "markdown",
   "metadata": {},
   "source": [
    "<h1> \n",
    "ANOVA Model furthe Analysis</h1>"
   ]
  },
  {
   "cell_type": "code",
   "execution_count": 17,
   "metadata": {},
   "outputs": [
    {
     "data": {
      "text/plain": [
       "  Tukey multiple comparisons of means\n",
       "    99% family-wise confidence level\n",
       "\n",
       "Fit: aov(formula = analysis.anova$deal_probability ~ analysis.anova$parent_category_name)\n",
       "\n",
       "$`analysis.anova$parent_category_name`\n",
       "                                                     diff          lwr\n",
       "Consumer electronics-Animals                 -0.061654111 -0.066951182\n",
       "For business-Animals                         -0.125151152 -0.134313720\n",
       "For home and cottages-Animals                -0.057029190 -0.062308444\n",
       "Hobbies and Recreation-Animals               -0.113407637 -0.119293398\n",
       "Personal things-Animals                      -0.160654379 -0.165466692\n",
       "The property-Animals                         -0.094596476 -0.099975594\n",
       "The services-Animals                          0.165782127  0.159529182\n",
       "Transport-Animals                             0.025403034  0.019432776\n",
       "For business-Consumer electronics            -0.063497041 -0.071799768\n",
       "For home and cottages-Consumer electronics    0.004624921  0.001039794\n",
       "Hobbies and Recreation-Consumer electronics  -0.051753526 -0.056183515\n",
       "Personal things-Consumer electronics         -0.099000268 -0.101853505\n",
       "The property-Consumer electronics            -0.032942366 -0.036672984\n",
       "The services-Consumer electronics             0.227436238  0.222528903\n",
       "Transport-Consumer electronics                0.087057145  0.082515494\n",
       "For home and cottages-For business            0.068121962  0.059830591\n",
       "Hobbies and Recreation-For business           0.011743515  0.003053377\n",
       "Personal things-For business                 -0.035503227 -0.043505394\n",
       "The property-For business                     0.030554675  0.022199365\n",
       "The services-For business                     0.290933279  0.281990369\n",
       "Transport-For business                        0.150554186  0.141806598\n",
       "Hobbies and Recreation-For home and cottages -0.056378447 -0.060787117\n",
       "Personal things-For home and cottages        -0.103625189 -0.106445213\n",
       "The property-For home and cottages           -0.037567287 -0.041272565\n",
       "The services-For home and cottages            0.222811317  0.217923218\n",
       "Transport-For home and cottages               0.082432223  0.077911365\n",
       "Personal things-Hobbies and Recreation       -0.047246742 -0.051083953\n",
       "The property-Hobbies and Recreation           0.018811161  0.014283386\n",
       "The services-Hobbies and Recreation           0.279189764  0.273652150\n",
       "Transport-Hobbies and Recreation              0.138810671  0.133594368\n",
       "The property-Personal things                  0.066057903  0.063055086\n",
       "The services-Personal things                  0.326436507  0.322056856\n",
       "Transport-Personal things                     0.186057413  0.182091813\n",
       "The services-The property                     0.260378604  0.255382817\n",
       "Transport-The property                        0.119999510  0.115362427\n",
       "Transport-The services                       -0.140379094 -0.146006434\n",
       "                                                      upr    p adj\n",
       "Consumer electronics-Animals                 -0.056357040 0.000000\n",
       "For business-Animals                         -0.115988583 0.000000\n",
       "For home and cottages-Animals                -0.051749935 0.000000\n",
       "Hobbies and Recreation-Animals               -0.107521876 0.000000\n",
       "Personal things-Animals                      -0.155842067 0.000000\n",
       "The property-Animals                         -0.089217359 0.000000\n",
       "The services-Animals                          0.172035073 0.000000\n",
       "Transport-Animals                             0.031373292 0.000000\n",
       "For business-Consumer electronics            -0.055194314 0.000000\n",
       "For home and cottages-Consumer electronics    0.008210049 0.000126\n",
       "Hobbies and Recreation-Consumer electronics  -0.047323538 0.000000\n",
       "Personal things-Consumer electronics         -0.096147031 0.000000\n",
       "The property-Consumer electronics            -0.029211747 0.000000\n",
       "The services-Consumer electronics             0.232343574 0.000000\n",
       "Transport-Consumer electronics                0.091598796 0.000000\n",
       "For home and cottages-For business            0.076413334 0.000000\n",
       "Hobbies and Recreation-For business           0.020433653 0.000043\n",
       "Personal things-For business                 -0.027501061 0.000000\n",
       "The property-For business                     0.038909986 0.000000\n",
       "The services-For business                     0.299876189 0.000000\n",
       "Transport-For business                        0.159301773 0.000000\n",
       "Hobbies and Recreation-For home and cottages -0.051969778 0.000000\n",
       "Personal things-For home and cottages        -0.100805166 0.000000\n",
       "The property-For home and cottages           -0.033862009 0.000000\n",
       "The services-For home and cottages            0.227699416 0.000000\n",
       "Transport-For home and cottages               0.086953082 0.000000\n",
       "Personal things-Hobbies and Recreation       -0.043409531 0.000000\n",
       "The property-Hobbies and Recreation           0.023338935 0.000000\n",
       "The services-Hobbies and Recreation           0.284727379 0.000000\n",
       "Transport-Hobbies and Recreation              0.144026974 0.000000\n",
       "The property-Personal things                  0.069060719 0.000000\n",
       "The services-Personal things                  0.330816157 0.000000\n",
       "Transport-Personal things                     0.190023013 0.000000\n",
       "The services-The property                     0.265374391 0.000000\n",
       "Transport-The property                        0.124636593 0.000000\n",
       "Transport-The services                       -0.134751753 0.000000\n"
      ]
     },
     "metadata": {},
     "output_type": "display_data"
    }
   ],
   "source": [
    "TukeyHSD(model1, conf.level = 0.99)"
   ]
  },
  {
   "cell_type": "code",
   "execution_count": 18,
   "metadata": {},
   "outputs": [
    {
     "data": {
      "image/png": "[encoded data removed]",
      "text/plain": [
       "Plot with title \"99% family-wise confidence level\n",
       "\""
      ]
     },
     "metadata": {},
     "output_type": "display_data"
    }
   ],
   "source": [
    "plot(TukeyHSD(model1, conf.level = 0.99),las=1, col = \"red\")"
   ]
  },
  {
   "cell_type": "code",
   "execution_count": 19,
   "metadata": {},
   "outputs": [
    {
     "name": "stderr",
     "output_type": "stream",
     "text": [
      "\n",
      "Attaching package: 'gplots'\n",
      "\n",
      "The following object is masked from 'package:stats':\n",
      "\n",
      "    lowess\n",
      "\n"
     ]
    },
    {
     "data": {
      "image/png": "[encoded data removed]",
      "text/plain": [
       "Plot with title \"Fig.-3: Mean Plot with 95% Confidence Interval\""
      ]
     },
     "metadata": {},
     "output_type": "display_data"
    }
   ],
   "source": [
    "# MEAN Plots\n",
    "\n",
    "library(gplots)\n",
    "suppressWarnings(plotmeans(analysis.anova$deal_probability ~ analysis.anova$parent_category_name, main=\"Fig.-3: Mean Plot with 95% Confidence Interval\", ylab = \"Deal prob\", xlab = \"Brands of Category\", las=2))"
   ]
  },
  {
   "cell_type": "code",
   "execution_count": 21,
   "metadata": {},
   "outputs": [
    {
     "data": {
      "text/plain": [
       "\n",
       "\tBartlett test of homogeneity of variances\n",
       "\n",
       "data:  analysis.anova$deal_probability by analysis.anova$parent_category_name\n",
       "Bartlett's K-squared = 71983, df = 8, p-value < 2.2e-16\n"
      ]
     },
     "metadata": {},
     "output_type": "display_data"
    }
   ],
   "source": [
    "# BARLETT test\n",
    "bartlett.test(analysis.anova$deal_probability~analysis.anova$parent_category_name)"
   ]
  },
  {
   "cell_type": "code",
   "execution_count": 22,
   "metadata": {},
   "outputs": [
    {
     "name": "stderr",
     "output_type": "stream",
     "text": [
      "Loading required package: carData\n",
      "\n",
      "Attaching package: 'car'\n",
      "\n",
      "The following object is masked from 'package:dplyr':\n",
      "\n",
      "    recode\n",
      "\n"
     ]
    },
    {
     "data": {
      "text/html": [
       "<table>\n",
       "<thead><tr><th></th><th scope=col>Df</th><th scope=col>F value</th><th scope=col>Pr(&gt;F)</th></tr></thead>\n",
       "<tbody>\n",
       "\t<tr><th scope=row>group</th><td>      8 </td><td>9778.707</td><td> 0      </td></tr>\n",
       "\t<tr><th scope=row> </th><td>1048566 </td><td>      NA</td><td>NA      </td></tr>\n",
       "</tbody>\n",
       "</table>\n"
      ],
      "text/latex": [
       "\\begin{tabular}{r|lll}\n",
       "  & Df & F value & Pr(>F)\\\\\n",
       "\\hline\n",
       "\tgroup &       8  & 9778.707 &  0      \\\\\n",
       "\t  & 1048566  &       NA & NA      \\\\\n",
       "\\end{tabular}\n"
      ],
      "text/markdown": [
       "\n",
       "| <!--/--> | Df | F value | Pr(>F) | \n",
       "|---|---|\n",
       "| group |       8  | 9778.707 |  0       | \n",
       "|   | 1048566  |       NA | NA       | \n",
       "\n",
       "\n"
      ],
      "text/plain": [
       "      Df      F value  Pr(>F)\n",
       "group       8 9778.707  0    \n",
       "      1048566       NA NA    "
      ]
     },
     "metadata": {},
     "output_type": "display_data"
    }
   ],
   "source": [
    "# levene test\n",
    "library(car)\n",
    "leveneTest(analysis.anova$deal_probability~analysis.anova$parent_category_name)"
   ]
  },
  {
   "cell_type": "code",
   "execution_count": 23,
   "metadata": {},
   "outputs": [
    {
     "name": "stderr",
     "output_type": "stream",
     "text": [
      "Warning message in chisq.test(analysis.anova$parent_category_name, analysis.anova$deal_probability):\n",
      "\"Chi-squared approximation may be incorrect\""
     ]
    },
    {
     "data": {
      "text/plain": [
       "\n",
       "\tPearson's Chi-squared test\n",
       "\n",
       "data:  analysis.anova$parent_category_name and analysis.anova$deal_probability\n",
       "X-squared = 4174200, df = 129410, p-value < 2.2e-16\n"
      ]
     },
     "metadata": {},
     "output_type": "display_data"
    }
   ],
   "source": [
    "## chisq\n",
    "chisq.test(analysis.anova$parent_category_name, analysis.anova$deal_probability)"
   ]
  },
  {
   "cell_type": "code",
   "execution_count": null,
   "metadata": {},
   "outputs": [],
   "source": []
  }
 ],
 "metadata": {
  "kernelspec": {
   "display_name": "R",
   "language": "R",
   "name": "ir"
  },
  "language_info": {
   "codemirror_mode": "r",
   "file_extension": ".r",
   "mimetype": "text/x-r-source",
   "name": "R",
   "pygments_lexer": "r",
   "version": "3.5.0"
  }
 },
 "nbformat": 4,
 "nbformat_minor": 2
}
