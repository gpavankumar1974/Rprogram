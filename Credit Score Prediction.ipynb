{
 "cells": [
  {
   "cell_type": "code",
   "execution_count": 1,
   "metadata": {},
   "outputs": [
    {
     "name": "stdout",
     "output_type": "stream",
     "text": [
      "  id               city state postalCode country dateOfBirth monthsAtAddress\n",
      "1  1         NEW ALBANY    IN      47150     USA   8/18/1982              26\n",
      "2  2              BRONX    NY      10472     USA   6/20/1989               4\n",
      "3  3 HUNTINGTON STATION    NY      11746     USA    8/9/1976             117\n",
      "4  4           Franklin    MI      48025     USA   4/16/1979               6\n",
      "5  5          BALTIMORE    MD      21214     USA    8/8/1956             114\n",
      "6  6           STAUNTON    IL      62088     USA   5/27/1978              85\n",
      "  residenceType housingPayment employmentType employedMonths         occupation\n",
      "1    Own/Buying            100    W2 Employee            129            assbly2\n",
      "2          Rent           1200    W2 Employee             29            Foreman\n",
      "3    Own/Buying            600    W2 Employee            178   Staff Accountant\n",
      "4          Rent           1200    W2 Employee             69           Operator\n",
      "5          Rent           1300    W2 Employee             42              Owner\n",
      "6    Own/Buying            650    W2 Employee            208 Operations manager\n",
      "  monthlyIncome otherIncome downPayment creditScore\n",
      "1          2000           0           0     525-574\n",
      "2          2500           0       10000        625+\n",
      "3          4083           0           0     575-624\n",
      "4          4000        1483        4000     525-574\n",
      "5          2200           0           0     525-574\n",
      "6          8750           0        2000     575-624\n",
      "'data.frame':\t193336 obs. of  16 variables:\n",
      " $ id             : int  1 2 3 4 5 6 7 8 9 10 ...\n",
      " $ city           : Factor w/ 12451 levels \"ABBEVILLE\",\"ABBOT\",..: 7638 1277 5154 3897 536 10698 8905 869 6337 536 ...\n",
      " $ state          : Factor w/ 53 levels \"AB\",\"AK\",\"AL\",..: 17 36 36 24 22 16 11 23 6 22 ...\n",
      " $ postalCode     : Factor w/ 21196 levels \"10001\",\"10002\",..: 10165 80 359 10383 2706 13220 6257 8389 19204 2697 ...\n",
      " $ country        : Factor w/ 2 levels \"CAN\",\"USA\": 2 2 2 2 2 2 2 2 2 2 ...\n",
      " $ dateOfBirth    : Factor w/ 19321 levels \"1/1/1939\",\"1/1/1941\",..: 16594 13518 17701 10045 17632 12249 18262 12509 8366 5854 ...\n",
      " $ monthsAtAddress: int  26 4 117 6 114 85 2 12 114 27 ...\n",
      " $ residenceType  : Factor w/ 4 levels \"Live with Family\",..: 3 4 3 4 4 3 2 2 4 4 ...\n",
      " $ housingPayment : int  100 1200 600 1200 1300 650 300 1 150 900 ...\n",
      " $ employmentType : Factor w/ 3 levels \"1099/Self Employed\",..: 3 3 3 3 3 3 3 3 3 3 ...\n",
      " $ employedMonths : int  129 29 178 69 42 208 226 5 6 131 ...\n",
      " $ occupation     : Factor w/ 52322 levels \"-6015\",\"-na-\",..: 2249 18926 45925 32780 33321 32711 42189 10082 7358 32259 ...\n",
      " $ monthlyIncome  : int  2000 2500 4083 4000 2200 8750 12916 5416 1700 2400 ...\n",
      " $ otherIncome    : int  0 0 0 1483 0 0 0 1208 0 0 ...\n",
      " $ downPayment    : int  0 10000 0 4000 0 2000 1000 2000 0 0 ...\n",
      " $ creditScore    : Factor w/ 12 levels \"400-449\",\"450-474\",..: 7 11 9 7 7 9 7 4 7 7 ...\n",
      "NULL\n"
     ]
    }
   ],
   "source": [
    "#Credit score final\n",
    "library(readr)\n",
    "analysis.anova <- read.csv(\"C:/Users/radha/Desktop/KaranExcel/Analyst Case Study AutoFinance.csv\", sep=\",\", header = TRUE)\n",
    "print(head(analysis.anova))\n",
    "print(str(analysis.anova))"
   ]
  },
  {
   "cell_type": "code",
   "execution_count": 2,
   "metadata": {},
   "outputs": [
    {
     "name": "stderr",
     "output_type": "stream",
     "text": [
      "Loading required package: ggplot2\n"
     ]
    },
    {
     "name": "stdout",
     "output_type": "stream",
     "text": [
      "  id               city state postalCode country dateOfBirth monthsAtAddress\n",
      "1  1         NEW ALBANY    IN      47150     USA   8/18/1982              26\n",
      "2  2              BRONX    NY      10472     USA   6/20/1989               4\n",
      "3  3 HUNTINGTON STATION    NY      11746     USA    8/9/1976             117\n",
      "4  4           Franklin    MI      48025     USA   4/16/1979               6\n",
      "5  5          BALTIMORE    MD      21214     USA    8/8/1956             114\n",
      "6  6           STAUNTON    IL      62088     USA   5/27/1978              85\n",
      "  residenceType housingPayment employmentType employedMonths         occupation\n",
      "1    Own/Buying            100    W2 Employee            129            assbly2\n",
      "2          Rent           1200    W2 Employee             29            Foreman\n",
      "3    Own/Buying            600    W2 Employee            178   Staff Accountant\n",
      "4          Rent           1200    W2 Employee             69           Operator\n",
      "5          Rent           1300    W2 Employee             42              Owner\n",
      "6    Own/Buying            650    W2 Employee            208 Operations manager\n",
      "  monthlyIncome otherIncome downPayment creditScore yourdata.age ndyears\n",
      "1          2000           0           0     525-574           35      10\n",
      "2          2500           0       10000        625+           28       2\n",
      "3          4083           0           0     575-624           41      14\n",
      "4          4000        1483        4000     525-574           39       5\n",
      "5          2200           0           0     525-574           61       3\n",
      "6          8750           0        2000     575-624           40      17\n"
     ]
    }
   ],
   "source": [
    "library(eeptools)\n",
    "#print(analysis.anova$dateOfBirth)\n",
    "x <- as.Date(analysis.anova$dateOfBirth, , format=\"%m/%d/%Y\")\n",
    "yourdata.age <- floor(age_calc(x, units = \"years\"))\n",
    "\n",
    "\n",
    "newdata <- cbind(analysis.anova,yourdata.age)\n",
    "\n",
    "ndyears  <- floor(newdata$employedMonths/12)\n",
    "newdata2 <- cbind(newdata,ndyears)\n",
    "\n",
    "print(head(newdata2))"
   ]
  },
  {
   "cell_type": "code",
   "execution_count": 3,
   "metadata": {},
   "outputs": [
    {
     "name": "stderr",
     "output_type": "stream",
     "text": [
      "\n",
      "Attaching package: 'dplyr'\n",
      "\n",
      "The following objects are masked from 'package:stats':\n",
      "\n",
      "    filter, lag\n",
      "\n",
      "The following objects are masked from 'package:base':\n",
      "\n",
      "    intersect, setdiff, setequal, union\n",
      "\n"
     ]
    }
   ],
   "source": [
    "library(dplyr)\n",
    "newdata3 <- mutate(newdata2, cscore = ifelse(creditScore == \"440-449\" ,1 , \n",
    "                                  ifelse(creditScore == \"450-474\" ,2 ,\n",
    "\t\t\t\t\t\t\t\t  ifelse(creditScore == \"450-499\" ,3 ,\n",
    "\t\t\t\t\t\t\t\t  ifelse(creditScore == \"475-524\" ,4 ,\n",
    "\t\t\t\t\t\t\t\t  ifelse(creditScore == \"500-524\" ,5 ,\n",
    "\t\t\t\t\t\t\t\t  ifelse(creditScore == \"525-549\" ,6 ,\n",
    "\t\t\t\t\t\t\t\t  ifelse(creditScore == \"525-574\" ,7 ,\n",
    "\t\t\t\t\t\t\t\t  ifelse(creditScore == \"550-599\" ,8 ,\n",
    "\t\t\t\t\t\t\t\t  ifelse(creditScore == \"575-624\" ,9 ,\n",
    "\t\t\t\t\t\t\t\t  ifelse(creditScore == \"600-624\" ,10 ,\n",
    "\t\t\t\t\t\t\t\t  ifelse(creditScore == \"625+\" ,11 ,\n",
    "\t\t\t\t\t\t\t\t  ifelse(creditScore == \"Less than 450\" ,12,0 )\n",
    "                                 \n",
    "\t\t\t\t\t\t\t\t))))))))))))\n"
   ]
  },
  {
   "cell_type": "code",
   "execution_count": 4,
   "metadata": {},
   "outputs": [],
   "source": [
    "newdata4 <- mutate(newdata3, cscoreType2 = ifelse(creditScore == \"440-449\" ,445 , \n",
    "                                  ifelse(creditScore == \"450-474\" ,462 ,\n",
    "\t\t\t\t\t\t\t\t  ifelse(creditScore == \"450-499\" ,475 ,\n",
    "\t\t\t\t\t\t\t\t  ifelse(creditScore == \"475-524\" ,500 ,\n",
    "\t\t\t\t\t\t\t\t  ifelse(creditScore == \"500-524\" ,512 ,\n",
    "\t\t\t\t\t\t\t\t  ifelse(creditScore == \"525-549\" ,537 ,\n",
    "\t\t\t\t\t\t\t\t  ifelse(creditScore == \"525-574\" ,550 ,\n",
    "\t\t\t\t\t\t\t\t  ifelse(creditScore == \"550-599\" ,575,\n",
    "\t\t\t\t\t\t\t\t  ifelse(creditScore == \"575-624\" ,600 ,\n",
    "\t\t\t\t\t\t\t\t  ifelse(creditScore == \"600-624\" ,612 ,\n",
    "\t\t\t\t\t\t\t\t  ifelse(creditScore == \"625+\" ,640 ,\n",
    "\t\t\t\t\t\t\t\t  ifelse(creditScore == \"Less than 450\" ,430,400 )\n",
    "                                 \n",
    "\t\t\t\t\t\t\t\t))))))))))))"
   ]
  },
  {
   "cell_type": "code",
   "execution_count": 5,
   "metadata": {},
   "outputs": [],
   "source": [
    "newdata5 <- mutate(newdata4, mIncome = ifelse(monthlyIncome <= 1000 ,1 , \n",
    "                                              ifelse(monthlyIncome <= 2000 ,2 ,\n",
    "                                  ifelse(monthlyIncome <= 3000 ,2,\n",
    "\t\t\t\t\t\t\t\t  ifelse(monthlyIncome <= 4000 ,3 ,\n",
    "\t\t\t\t\t\t\t\t  ifelse(monthlyIncome <= 5000 ,4 ,\n",
    "\t\t\t\t\t\t\t\t  ifelse(monthlyIncome <= 10000 ,5 ,\n",
    "\t\t\t\t\t\t\t\t  ifelse(monthlyIncome <= 20000 ,6 ,\n",
    "\t\t\t\t\t\t\t\t  ifelse(monthlyIncome <= 50000 ,7 ,\n",
    "\t\t\t\t\t\t\t\t  ifelse(monthlyIncome <= 90000 ,8 ,\n",
    "\t\t\t\t\t\t\t\t  ifelse(monthlyIncome > 90000 ,9 ,0\n",
    "\t\t\t\t\t\t\t\t                                 \n",
    "\t\t\t\t\t\t\t\t)))\n",
    "\t\t\t\t\t\t\t\t)))\n",
    "\t\t\t\t\t\t\t\t)))))"
   ]
  },
  {
   "cell_type": "code",
   "execution_count": 6,
   "metadata": {},
   "outputs": [
    {
     "name": "stdout",
     "output_type": "stream",
     "text": [
      "'data.frame':\t193336 obs. of  21 variables:\n",
      " $ id             : int  1 2 3 4 5 6 7 8 9 10 ...\n",
      " $ city           : Factor w/ 12451 levels \"ABBEVILLE\",\"ABBOT\",..: 7638 1277 5154 3897 536 10698 8905 869 6337 536 ...\n",
      " $ state          : Factor w/ 53 levels \"AB\",\"AK\",\"AL\",..: 17 36 36 24 22 16 11 23 6 22 ...\n",
      " $ postalCode     : Factor w/ 21196 levels \"10001\",\"10002\",..: 10165 80 359 10383 2706 13220 6257 8389 19204 2697 ...\n",
      " $ country        : Factor w/ 2 levels \"CAN\",\"USA\": 2 2 2 2 2 2 2 2 2 2 ...\n",
      " $ dateOfBirth    : Factor w/ 19321 levels \"1/1/1939\",\"1/1/1941\",..: 16594 13518 17701 10045 17632 12249 18262 12509 8366 5854 ...\n",
      " $ monthsAtAddress: int  26 4 117 6 114 85 2 12 114 27 ...\n",
      " $ residenceType  : Factor w/ 4 levels \"Live with Family\",..: 3 4 3 4 4 3 2 2 4 4 ...\n",
      " $ housingPayment : int  100 1200 600 1200 1300 650 300 1 150 900 ...\n",
      " $ employmentType : Factor w/ 3 levels \"1099/Self Employed\",..: 3 3 3 3 3 3 3 3 3 3 ...\n",
      " $ employedMonths : int  129 29 178 69 42 208 226 5 6 131 ...\n",
      " $ occupation     : Factor w/ 52322 levels \"-6015\",\"-na-\",..: 2249 18926 45925 32780 33321 32711 42189 10082 7358 32259 ...\n",
      " $ monthlyIncome  : int  2000 2500 4083 4000 2200 8750 12916 5416 1700 2400 ...\n",
      " $ otherIncome    : int  0 0 0 1483 0 0 0 1208 0 0 ...\n",
      " $ downPayment    : int  0 10000 0 4000 0 2000 1000 2000 0 0 ...\n",
      " $ creditScore    : Factor w/ 12 levels \"400-449\",\"450-474\",..: 7 11 9 7 7 9 7 4 7 7 ...\n",
      " $ yourdata.age   : num  35 28 41 39 61 40 59 46 33 37 ...\n",
      " $ ndyears        : num  10 2 14 5 3 17 18 0 0 10 ...\n",
      " $ cscore         : num  7 11 9 7 7 9 7 4 7 7 ...\n",
      " $ cscoreType2    : num  550 640 600 550 550 600 550 500 550 550 ...\n",
      " $ mIncome        : num  2 2 4 3 2 5 6 5 2 2 ...\n"
     ]
    }
   ],
   "source": [
    "str(newdata5)"
   ]
  },
  {
   "cell_type": "code",
   "execution_count": 12,
   "metadata": {},
   "outputs": [
    {
     "data": {
      "image/png": "[encoded data removed]",
      "text/plain": [
       "plot without title"
      ]
     },
     "metadata": {},
     "output_type": "display_data"
    }
   ],
   "source": [
    "library(party)\n",
    "# Create the tree.\n",
    "  output.tree <- ctree(\n",
    "  cscoreType2 ~ residenceType, \n",
    "  data = newdata5)\n",
    "\n",
    "plot(output.tree,type=\"simple\")"
   ]
  },
  {
   "cell_type": "code",
   "execution_count": 13,
   "metadata": {},
   "outputs": [
    {
     "data": {
      "image/png": "[encoded data removed]",
      "text/plain": [
       "plot without title"
      ]
     },
     "metadata": {},
     "output_type": "display_data"
    }
   ],
   "source": [
    "library(party)\n",
    "# Create the tree.\n",
    "  output.tree <- ctree(\n",
    "  cscoreType2 ~ employmentType, \n",
    "  data = newdata5)\n",
    "\n",
    "plot(output.tree,type=\"simple\")"
   ]
  },
  {
   "cell_type": "code",
   "execution_count": 14,
   "metadata": {},
   "outputs": [
    {
     "data": {
      "image/png": "[encoded data removed]",
      "text/plain": [
       "plot without title"
      ]
     },
     "metadata": {},
     "output_type": "display_data"
    }
   ],
   "source": [
    "library(party)\n",
    "# Create the tree.\n",
    "  output.tree <- ctree(\n",
    "  cscoreType2 ~ mIncome, \n",
    "  data = newdata5)\n",
    "\n",
    "plot(output.tree,type=\"simple\")"
   ]
  },
  {
   "cell_type": "code",
   "execution_count": 15,
   "metadata": {},
   "outputs": [
    {
     "data": {
      "image/png": "[encoded data removed]",
      "text/plain": [
       "plot without title"
      ]
     },
     "metadata": {},
     "output_type": "display_data"
    }
   ],
   "source": [
    "library(party)\n",
    "# Create the tree.\n",
    "  output.tree <- ctree(\n",
    "  cscoreType2 ~ ndyears, \n",
    "  data = newdata5)\n",
    "\n",
    "plot(output.tree,type=\"simple\")"
   ]
  },
  {
   "cell_type": "markdown",
   "metadata": {},
   "source": [
    "<h2> More analysis , Multiple variable </h2> <h3> cscoreType2 ~ ndyears+mIncome+employmentType+residenceType  </h3>"
   ]
  },
  {
   "cell_type": "code",
   "execution_count": 47,
   "metadata": {},
   "outputs": [
    {
     "name": "stdout",
     "output_type": "stream",
     "text": [
      "function(node) formatinfo_node(node,\n",
      "  prefix = \" \",\n",
      "  FUN = function(info) paste0(\"[p = \", format.pval(info$p.value), \"]\")\n",
      ")\n",
      "[1] root\n",
      "|   [2] mIncome <= 3 [p = < 2.22e-16]\n",
      "|   |   [3] residenceType in Live with Family, Rent [p = < 2.22e-16]\n",
      "|   |   |   [4] mIncome <= 2 [p = < 2.22e-16]\n",
      "|   |   |   |   [5] employmentType in 1099/Self Employed, Fixed Income [p = 2.1545e-05]\n",
      "|   |   |   |   |   [6] residenceType in Live with Family [p = 0.012087]\n",
      "|   |   |   |   |   |   [7] employmentType in 1099/Self Employed: n = 40, y = (7, 514.725)\n",
      "|   |   |   |   |   |   [8] employmentType in Fixed Income: n = 36, y = (8, 549.611)\n",
      "|   |   |   |   |   [9] residenceType in Rent [p = 0.00013382]\n",
      "|   |   |   |   |   |   [10] mIncome <= 1: n = 197, y = (10, 565.711)\n",
      "|   |   |   |   |   |   [11] mIncome > 1 [p = 0.0030097]\n",
      "|   |   |   |   |   |   |   [12] employmentType in 1099/Self Employed: n = 2199, y = (12, 551.083)\n",
      "|   |   |   |   |   |   |   [13] employmentType in Fixed Income: n = 2330, y = (13, 555.07)\n",
      "|   |   |   |   [14] employmentType in W2 Employee [p = 1.0202e-11]\n",
      "|   |   |   |   |   [15] ndyears <= 5: n = 72368, y = (15, 544.69)\n",
      "|   |   |   |   |   [16] ndyears > 5 [p = 0.018395]\n",
      "|   |   |   |   |   |   [17] ndyears <= 15: n = 15070, y = (17, 546.778)\n",
      "|   |   |   |   |   |   [18] ndyears > 15: n = 190, y = (18, 564.889)\n",
      "|   |   |   [19] mIncome > 2 [p = 1.305e-06]\n",
      "|   |   |   |   [20] employmentType in 1099/Self Employed: n = 562, y = (20, 560.286)\n",
      "|   |   |   |   [21] employmentType in Fixed Income, W2 Employee: n = 14131, y = (21, 554.36)\n",
      "|   |   [22] residenceType in Other, Own/Buying [p = < 2.22e-16]\n",
      "|   |   |   [23] residenceType in Other [p = 2.107e-10]\n",
      "|   |   |   |   [24] mIncome <= 2: n = 11350, y = (24, 568.231)\n",
      "|   |   |   |   [25] mIncome > 2: n = 3511, y = (25, 574.493)\n",
      "|   |   |   [26] residenceType in Own/Buying [p = < 2.22e-16]\n",
      "|   |   |   |   [27] mIncome <= 2 [p = < 2.22e-16]\n",
      "|   |   |   |   |   [28] employmentType in 1099/Self Employed, Fixed Income [p = 0.0025443]\n",
      "|   |   |   |   |   |   [29] mIncome <= 1: n = 123, y = (29, 577.382)\n",
      "|   |   |   |   |   |   [30] mIncome > 1 [p = 0.021537]\n",
      "|   |   |   |   |   |   |   [31] employmentType in 1099/Self Employed [p = 0.002395]\n",
      "|   |   |   |   |   |   |   |   [32] ndyears <= 14: n = 715, y = (32, 557.866)\n",
      "|   |   |   |   |   |   |   |   [33] ndyears > 14: n = 56, y = (33, 593.339)\n",
      "|   |   |   |   |   |   |   [34] employmentType in Fixed Income [p = 0.012682]\n",
      "|   |   |   |   |   |   |   |   [35] ndyears <= 1: n = 1336, y = (35, 566.046)\n",
      "|   |   |   |   |   |   |   |   [36] ndyears > 1: n = 35, y = (36, 544.943)\n",
      "|   |   |   |   |   [37] employmentType in W2 Employee [p = < 2.22e-16]\n",
      "|   |   |   |   |   |   [38] ndyears <= 15 [p = 1.4891e-09]\n",
      "|   |   |   |   |   |   |   [39] ndyears <= 6 [p = 0.011387]\n",
      "|   |   |   |   |   |   |   |   [40] mIncome <= 1: n = 588, y = (40, 555.287)\n",
      "|   |   |   |   |   |   |   |   [41] mIncome > 1: n = 16819, y = (41, 550.402)\n",
      "|   |   |   |   |   |   |   [42] ndyears > 6 [p = 0.048846]\n",
      "|   |   |   |   |   |   |   |   [43] ndyears <= 8 [p = 0.014853]\n",
      "|   |   |   |   |   |   |   |   |   [44] ndyears <= 7: n = 720, y = (44, 554.886)\n",
      "|   |   |   |   |   |   |   |   |   [45] ndyears > 7: n = 1154, y = (45, 560.555)\n",
      "|   |   |   |   |   |   |   |   [46] ndyears > 8: n = 3507, y = (46, 553.782)\n",
      "|   |   |   |   |   |   [47] ndyears > 15: n = 235, y = (47, 584.838)\n",
      "|   |   |   |   [48] mIncome > 2 [p = 1.7583e-06]\n",
      "|   |   |   |   |   [49] ndyears <= 15 [p = 0.0011489]\n",
      "|   |   |   |   |   |   [50] employmentType in 1099/Self Employed, Fixed Income: n = 638, y = (50, 572.929)\n",
      "|   |   |   |   |   |   [51] employmentType in W2 Employee: n = 6111, y = (51, 565.89)\n",
      "|   |   |   |   |   [52] ndyears > 15 [p = 0.0072483]\n",
      "|   |   |   |   |   |   [53] employmentType in 1099/Self Employed [p = 0.03574]\n",
      "|   |   |   |   |   |   |   [54] ndyears <= 22: n = 23, y = (54, 585.652)\n",
      "|   |   |   |   |   |   |   [55] ndyears > 22: n = 21, y = (55, 610.476)\n",
      "|   |   |   |   |   |   [56] employmentType in Fixed Income, W2 Employee: n = 294, y = (56, 587.714)\n",
      "|   [57] mIncome > 3 [p = < 2.22e-16]\n",
      "|   |   [58] residenceType in Live with Family, Rent [p = < 2.22e-16]\n",
      "|   |   |   [59] mIncome <= 4: n = 8441, y = (59, 562.91)\n",
      "|   |   |   [60] mIncome > 4 [p = 6.6495e-16]\n",
      "|   |   |   |   [61] mIncome <= 5 [p = 0.0034595]\n",
      "|   |   |   |   |   [62] employmentType in 1099/Self Employed: n = 548, y = (62, 577.431)\n",
      "|   |   |   |   |   [63] employmentType in Fixed Income, W2 Employee: n = 9050, y = (63, 570.287)\n",
      "|   |   |   |   [64] mIncome > 5 [p = 8.5086e-05]\n",
      "|   |   |   |   |   [65] mIncome <= 6: n = 892, y = (65, 589.048)\n",
      "|   |   |   |   |   [66] mIncome > 6: n = 233, y = (66, 578.897)\n",
      "|   |   [67] residenceType in Other, Own/Buying [p = < 2.22e-16]\n",
      "|   |   |   [68] mIncome <= 5 [p = < 2.22e-16]\n",
      "|   |   |   |   [69] ndyears <= 15 [p = < 2.22e-16]\n",
      "|   |   |   |   |   [70] mIncome <= 4: n = 6919, y = (70, 577.345)\n",
      "|   |   |   |   |   [71] mIncome > 4: n = 9117, y = (71, 583.223)\n",
      "|   |   |   |   [72] ndyears > 15 [p = 0.00015566]\n",
      "|   |   |   |   |   [73] residenceType in Other: n = 262, y = (73, 584.656)\n",
      "|   |   |   |   |   [74] residenceType in Own/Buying: n = 1685, y = (74, 594.586)\n",
      "|   |   |   [75] mIncome > 5 [p = 3.0387e-11]\n",
      "|   |   |   |   [76] residenceType in Other: n = 247, y = (76, 582.109)\n",
      "|   |   |   |   [77] residenceType in Own/Buying: n = 1583, y = (77, 599.865)\n"
     ]
    }
   ],
   "source": [
    "library(party)\n",
    "library(partykit)\n",
    "library(dplyr)\n",
    "# Create the tree.\n",
    "  ct <- ctree(\n",
    "  cscoreType2 ~ ndyears+mIncome+employmentType+residenceType, \n",
    "  data = newdata5)\n",
    "\n",
    "ip <- function(node) formatinfo_node(node,\n",
    "  prefix = \" \",\n",
    "  FUN = function(info) paste0(\"[p = \", format.pval(info$p.value), \"]\")\n",
    ")\n",
    "print(ip)\n",
    "\n",
    "tp <- function(node) formatinfo_node(node,\n",
    "  prefix = \": \",\n",
    "  FUN = function(info) paste0(\n",
    "    \"n = \", n[as.character(node$id)],\n",
    "    \", y = (\", m[as.character(node$id)], \")\"\n",
    "  )\n",
    ")\n",
    "n <- table(ct$fitted[[\"(fitted)\"]])\n",
    "m <- aggregate(ct$fitted[[\"(response)\"]], list(ct$fitted[[\"(fitted)\"]]), mean)\n",
    "m <- apply(m[, ], 1, function(x) paste(round(x, digits = 3), collapse = \", \"))\n",
    "names(m) <- names(n)\n",
    "           \n",
    "#print(output.tree)\n",
    "print.party(ct, inner_panel = ip, terminal_panel = tp)"
   ]
  },
  {
   "cell_type": "markdown",
   "metadata": {},
   "source": [
    "<h3> summary </h3>\n",
    "<h4> highr score </h4>\n",
    "<h4> MonthlyIncome > 3 ( 4000 USD)  , Emp experience (ndyears) over 15 Years, Resident Type- own buying  </h4>\n",
    "<h4> Monthly Income > 5 (10000 USD),  Resident Type - Own Buying </h4>\n",
    "<h4> Resident Type - Own, Monthly Income > 1 , Emp experience (ndyears) over 15 Years </h4>\n",
    "\n"
   ]
  },
  {
   "cell_type": "code",
   "execution_count": null,
   "metadata": {},
   "outputs": [],
   "source": []
  }
 ],
 "metadata": {
  "kernelspec": {
   "display_name": "R",
   "language": "R",
   "name": "ir"
  },
  "language_info": {
   "codemirror_mode": "r",
   "file_extension": ".r",
   "mimetype": "text/x-r-source",
   "name": "R",
   "pygments_lexer": "r",
   "version": "3.5.0"
  }
 },
 "nbformat": 4,
 "nbformat_minor": 2
}
