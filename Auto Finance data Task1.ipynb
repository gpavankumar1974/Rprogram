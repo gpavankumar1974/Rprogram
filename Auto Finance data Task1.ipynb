{
 "cells": [
  {
   "cell_type": "markdown",
   "metadata": {},
   "source": [
    "<h1> # Original File is converted into CSV. </h1>"
   ]
  },
  {
   "cell_type": "code",
   "execution_count": 2,
   "metadata": {},
   "outputs": [
    {
     "name": "stdout",
     "output_type": "stream",
     "text": [
      "  id               city state postalCode country dateOfBirth monthsAtAddress\n",
      "1  1         NEW ALBANY    IN      47150     USA   8/18/1982              26\n",
      "2  2              BRONX    NY      10472     USA   6/20/1989               4\n",
      "3  3 HUNTINGTON STATION    NY      11746     USA    8/9/1976             117\n",
      "4  4           Franklin    MI      48025     USA   4/16/1979               6\n",
      "5  5          BALTIMORE    MD      21214     USA    8/8/1956             114\n",
      "6  6           STAUNTON    IL      62088     USA   5/27/1978              85\n",
      "  residenceType housingPayment employmentType employedMonths         occupation\n",
      "1    Own/Buying            100    W2 Employee            129            assbly2\n",
      "2          Rent           1200    W2 Employee             29            Foreman\n",
      "3    Own/Buying            600    W2 Employee            178   Staff Accountant\n",
      "4          Rent           1200    W2 Employee             69           Operator\n",
      "5          Rent           1300    W2 Employee             42              Owner\n",
      "6    Own/Buying            650    W2 Employee            208 Operations manager\n",
      "  monthlyIncome otherIncome downPayment creditScore\n",
      "1          2000           0           0     525-574\n",
      "2          2500           0       10000        625+\n",
      "3          4083           0           0     575-624\n",
      "4          4000        1483        4000     525-574\n",
      "5          2200           0           0     525-574\n",
      "6          8750           0        2000     575-624\n",
      "'data.frame':\t193336 obs. of  16 variables:\n",
      " $ id             : int  1 2 3 4 5 6 7 8 9 10 ...\n",
      " $ city           : Factor w/ 12451 levels \"ABBEVILLE\",\"ABBOT\",..: 7638 1277 5154 3897 536 10698 8905 869 6337 536 ...\n",
      " $ state          : Factor w/ 53 levels \"AB\",\"AK\",\"AL\",..: 17 36 36 24 22 16 11 23 6 22 ...\n",
      " $ postalCode     : Factor w/ 21196 levels \"10001\",\"10002\",..: 10165 80 359 10383 2706 13220 6257 8389 19204 2697 ...\n",
      " $ country        : Factor w/ 2 levels \"CAN\",\"USA\": 2 2 2 2 2 2 2 2 2 2 ...\n",
      " $ dateOfBirth    : Factor w/ 19321 levels \"1/1/1939\",\"1/1/1941\",..: 16594 13518 17701 10045 17632 12249 18262 12509 8366 5854 ...\n",
      " $ monthsAtAddress: int  26 4 117 6 114 85 2 12 114 27 ...\n",
      " $ residenceType  : Factor w/ 4 levels \"Live with Family\",..: 3 4 3 4 4 3 2 2 4 4 ...\n",
      " $ housingPayment : int  100 1200 600 1200 1300 650 300 1 150 900 ...\n",
      " $ employmentType : Factor w/ 3 levels \"1099/Self Employed\",..: 3 3 3 3 3 3 3 3 3 3 ...\n",
      " $ employedMonths : int  129 29 178 69 42 208 226 5 6 131 ...\n",
      " $ occupation     : Factor w/ 52322 levels \"-6015\",\"-na-\",..: 2249 18926 45925 32780 33321 32711 42189 10082 7358 32259 ...\n",
      " $ monthlyIncome  : int  2000 2500 4083 4000 2200 8750 12916 5416 1700 2400 ...\n",
      " $ otherIncome    : int  0 0 0 1483 0 0 0 1208 0 0 ...\n",
      " $ downPayment    : int  0 10000 0 4000 0 2000 1000 2000 0 0 ...\n",
      " $ creditScore    : Factor w/ 12 levels \"400-449\",\"450-474\",..: 7 11 9 7 7 9 7 4 7 7 ...\n",
      "NULL\n"
     ]
    }
   ],
   "source": [
    "# General Information and distribution of data\n",
    "library(readr)\n",
    "analysis.anova <- read.csv(\"C:/Users/radha/Desktop/KaranExcel/Analyst Case Study AutoFinance.csv\", sep=\",\", header = TRUE)\n",
    "print(head(analysis.anova))\n",
    "print(str(analysis.anova))"
   ]
  },
  {
   "cell_type": "markdown",
   "metadata": {},
   "source": [
    "<h1> Filter relevant columns 2,3,13. 2nd = city, 3rd = state, 13 = Monthly Income </h1>"
   ]
  },
  {
   "cell_type": "code",
   "execution_count": 3,
   "metadata": {},
   "outputs": [],
   "source": [
    "col2 = 2\n",
    "col3 = 3\n",
    "col13 = 13\n",
    "modifiedData = analysis.anova[,c(col2,col3,col13)]\n",
    "write.csv(modifiedData,\"C:\\\\Users\\\\radha\\\\Documents\\\\ClenaDataForTask1.csv\")\n"
   ]
  },
  {
   "cell_type": "code",
   "execution_count": 5,
   "metadata": {},
   "outputs": [
    {
     "data": {
      "text/html": [
       "<table>\n",
       "<thead><tr><th scope=col>X</th><th scope=col>city</th><th scope=col>state</th><th scope=col>monthlyIncome</th></tr></thead>\n",
       "<tbody>\n",
       "\t<tr><td>1                 </td><td>NEW ALBANY        </td><td>IN                </td><td>2000              </td></tr>\n",
       "\t<tr><td>2                 </td><td>BRONX             </td><td>NY                </td><td>2500              </td></tr>\n",
       "\t<tr><td>3                 </td><td>HUNTINGTON STATION</td><td>NY                </td><td>4083              </td></tr>\n",
       "\t<tr><td>4                 </td><td>Franklin          </td><td>MI                </td><td>4000              </td></tr>\n",
       "\t<tr><td>5                 </td><td>BALTIMORE         </td><td>MD                </td><td>2200              </td></tr>\n",
       "\t<tr><td>6                 </td><td>STAUNTON          </td><td>IL                </td><td>8750              </td></tr>\n",
       "</tbody>\n",
       "</table>\n"
      ],
      "text/latex": [
       "\\begin{tabular}{r|llll}\n",
       " X & city & state & monthlyIncome\\\\\n",
       "\\hline\n",
       "\t 1                  & NEW ALBANY         & IN                 & 2000              \\\\\n",
       "\t 2                  & BRONX              & NY                 & 2500              \\\\\n",
       "\t 3                  & HUNTINGTON STATION & NY                 & 4083              \\\\\n",
       "\t 4                  & Franklin           & MI                 & 4000              \\\\\n",
       "\t 5                  & BALTIMORE          & MD                 & 2200              \\\\\n",
       "\t 6                  & STAUNTON           & IL                 & 8750              \\\\\n",
       "\\end{tabular}\n"
      ],
      "text/markdown": [
       "\n",
       "X | city | state | monthlyIncome | \n",
       "|---|---|---|---|---|---|\n",
       "| 1                  | NEW ALBANY         | IN                 | 2000               | \n",
       "| 2                  | BRONX              | NY                 | 2500               | \n",
       "| 3                  | HUNTINGTON STATION | NY                 | 4083               | \n",
       "| 4                  | Franklin           | MI                 | 4000               | \n",
       "| 5                  | BALTIMORE          | MD                 | 2200               | \n",
       "| 6                  | STAUNTON           | IL                 | 8750               | \n",
       "\n",
       "\n"
      ],
      "text/plain": [
       "  X city               state monthlyIncome\n",
       "1 1 NEW ALBANY         IN    2000         \n",
       "2 2 BRONX              NY    2500         \n",
       "3 3 HUNTINGTON STATION NY    4083         \n",
       "4 4 Franklin           MI    4000         \n",
       "5 5 BALTIMORE          MD    2200         \n",
       "6 6 STAUNTON           IL    8750         "
      ]
     },
     "metadata": {},
     "output_type": "display_data"
    }
   ],
   "source": [
    "# Load  new clean file for analysis\n",
    "analysisAfterClean <- read.csv(\"C:\\\\Users\\\\radha\\\\Documents\\\\ClenaDataForTask1.csv\", sep=\",\", header = TRUE)\n",
    "head(analysisAfterClean)"
   ]
  },
  {
   "cell_type": "markdown",
   "metadata": {},
   "source": [
    "<h2> Filter only ORANAGE, LOS ANGELS data </h2>"
   ]
  },
  {
   "cell_type": "code",
   "execution_count": 6,
   "metadata": {},
   "outputs": [],
   "source": [
    "#Filter and only required data\n",
    "Orange_LosAngels <- subset(analysisAfterClean, (city==\"ORANGE\" | city==\"LOS ANGELES\") & state==\"CA\") "
   ]
  },
  {
   "cell_type": "code",
   "execution_count": 7,
   "metadata": {},
   "outputs": [
    {
     "name": "stderr",
     "output_type": "stream",
     "text": [
      "\n",
      "Attaching package: 'dplyr'\n",
      "\n",
      "The following objects are masked from 'package:stats':\n",
      "\n",
      "    filter, lag\n",
      "\n",
      "The following objects are masked from 'package:base':\n",
      "\n",
      "    intersect, setdiff, setequal, union\n",
      "\n"
     ]
    }
   ],
   "source": [
    "## count, monthly Income\n",
    "library(dplyr)\n",
    "result <- Orange_LosAngels %>% group_by(city) %>%  summarize(n(), sum(monthlyIncome) ,mean(monthlyIncome))"
   ]
  },
  {
   "cell_type": "markdown",
   "metadata": {},
   "source": [
    "<h2> Mean Monthly Income of LOS ANGELS and ORANGE </h2>"
   ]
  },
  {
   "cell_type": "code",
   "execution_count": 13,
   "metadata": {},
   "outputs": [
    {
     "name": "stdout",
     "output_type": "stream",
     "text": [
      "# A tibble: 540 x 6\n",
      "# Groups:   employmentType, residenceType [?]\n",
      "   employmentType  residenceType  state `n()` `sum(monthlyInc~ `mean(monthlyIn~\n",
      "   <fct>           <fct>          <fct> <int>            <int>            <dbl>\n",
      " 1 1099/Self Empl~ Live with Fam~ AL        2             4500             2250\n",
      " 2 1099/Self Empl~ Live with Fam~ AZ        1             2500             2500\n",
      " 3 1099/Self Empl~ Live with Fam~ CA        6            18300             3050\n",
      " 4 1099/Self Empl~ Live with Fam~ CO        2             5306             2653\n",
      " 5 1099/Self Empl~ Live with Fam~ CT        1             6000             6000\n",
      " 6 1099/Self Empl~ Live with Fam~ FL        5            12080             2416\n",
      " 7 1099/Self Empl~ Live with Fam~ GA        2            20000            10000\n",
      " 8 1099/Self Empl~ Live with Fam~ IL        1             1800             1800\n",
      " 9 1099/Self Empl~ Live with Fam~ KY        1             1500             1500\n",
      "10 1099/Self Empl~ Live with Fam~ LA        2             4650             2325\n",
      "# ... with 530 more rows\n"
     ]
    }
   ],
   "source": [
    "print(result)"
   ]
  },
  {
   "cell_type": "markdown",
   "metadata": {},
   "source": [
    "<h3>In Monthly Income - Mean - USD</h3>\n",
    "<h3> LOS ANGELS - 3109 </h3>\n",
    "<h3> ORANGE -  5185</h3>"
   ]
  },
  {
   "cell_type": "code",
   "execution_count": 9,
   "metadata": {},
   "outputs": [
    {
     "name": "stdout",
     "output_type": "stream",
     "text": [
      "# A tibble: 3 x 4\n",
      "  employmentType      `n()` `sum(monthlyIncome)` `mean(monthlyIncome)`\n",
      "  <fct>               <int>                <int>                 <dbl>\n",
      "1 1099/Self Employed   7054             52083728                 7384.\n",
      "2 Fixed Income         6325             40013347                 6326.\n",
      "3 W2 Employee        179957            775198614                 4308.\n"
     ]
    }
   ],
   "source": [
    "library(dplyr)\n",
    "result <- analysis.anova %>% group_by(employmentType) %>%  summarize(n(), sum(monthlyIncome) , mean(monthlyIncome))\n",
    "print(result)\n"
   ]
  },
  {
   "cell_type": "code",
   "execution_count": 10,
   "metadata": {},
   "outputs": [
    {
     "name": "stdout",
     "output_type": "stream",
     "text": [
      "# A tibble: 4 x 4\n",
      "  residenceType     `n()` `sum(monthlyIncome)` `mean(monthlyIncome)`\n",
      "  <fct>             <int>                <int>                 <dbl>\n",
      "1 Live with Family    453              1375479                 3036.\n",
      "2 Other             19164            128501458                 6705.\n",
      "3 Own/Buying        47885            311477146                 6505.\n",
      "4 Rent             125834            425941606                 3385.\n"
     ]
    }
   ],
   "source": [
    "library(dplyr)\n",
    "result <- analysis.anova %>% group_by(residenceType) %>%  summarize(n(), sum(monthlyIncome) , mean(monthlyIncome))\n",
    "print(result)"
   ]
  },
  {
   "cell_type": "code",
   "execution_count": 11,
   "metadata": {},
   "outputs": [
    {
     "name": "stdout",
     "output_type": "stream",
     "text": [
      "# A tibble: 53 x 4\n",
      "   state `n()` `sum(monthlyIncome)` `mean(monthlyIncome)`\n",
      "   <fct> <int>                <int>                 <dbl>\n",
      " 1 AB        1                 3680                 3680 \n",
      " 2 AK      285             42635917               149600.\n",
      " 3 AL     6536             17328089                 2651.\n",
      " 4 AR     2480              7286029                 2938.\n",
      " 5 AZ     2698              9863274                 3656.\n",
      " 6 CA    15085            107950615                 7156.\n",
      " 7 CO     2141              7836576                 3660.\n",
      " 8 CT     1643              6750116                 4108.\n",
      " 9 DC      364              2104352                 5781.\n",
      "10 DE      726              3994930                 5503.\n",
      "# ... with 43 more rows\n"
     ]
    }
   ],
   "source": [
    "library(dplyr)\n",
    "result <- analysis.anova %>% group_by(state) %>%  summarize(n(), sum(monthlyIncome) , mean(monthlyIncome))\n",
    "print(result)"
   ]
  },
  {
   "cell_type": "code",
   "execution_count": 12,
   "metadata": {},
   "outputs": [
    {
     "name": "stdout",
     "output_type": "stream",
     "text": [
      "# A tibble: 540 x 6\n",
      "# Groups:   employmentType, residenceType [?]\n",
      "   employmentType  residenceType  state `n()` `sum(monthlyInc~ `mean(monthlyIn~\n",
      "   <fct>           <fct>          <fct> <int>            <int>            <dbl>\n",
      " 1 1099/Self Empl~ Live with Fam~ AL        2             4500             2250\n",
      " 2 1099/Self Empl~ Live with Fam~ AZ        1             2500             2500\n",
      " 3 1099/Self Empl~ Live with Fam~ CA        6            18300             3050\n",
      " 4 1099/Self Empl~ Live with Fam~ CO        2             5306             2653\n",
      " 5 1099/Self Empl~ Live with Fam~ CT        1             6000             6000\n",
      " 6 1099/Self Empl~ Live with Fam~ FL        5            12080             2416\n",
      " 7 1099/Self Empl~ Live with Fam~ GA        2            20000            10000\n",
      " 8 1099/Self Empl~ Live with Fam~ IL        1             1800             1800\n",
      " 9 1099/Self Empl~ Live with Fam~ KY        1             1500             1500\n",
      "10 1099/Self Empl~ Live with Fam~ LA        2             4650             2325\n",
      "# ... with 530 more rows\n"
     ]
    }
   ],
   "source": [
    "# mixed employmentType, residenceType,state\n",
    "library(dplyr)\n",
    "result <- analysis.anova %>% group_by(employmentType, residenceType,state) %>%  summarize(n(), sum(monthlyIncome) , mean(monthlyIncome))\n",
    "print(result)"
   ]
  },
  {
   "cell_type": "markdown",
   "metadata": {},
   "source": [
    "<h2>  Distribution / count of data </h2>"
   ]
  },
  {
   "cell_type": "code",
   "execution_count": 15,
   "metadata": {},
   "outputs": [
    {
     "data": {
      "text/html": [
       "<table>\n",
       "<thead><tr><th></th><th scope=col>1099/Self Employed</th><th scope=col>Fixed Income</th><th scope=col>W2 Employee</th><th scope=col>Sum</th></tr></thead>\n",
       "<tbody>\n",
       "\t<tr><th scope=row>400-449</th><td>  10  </td><td>   9  </td><td>   355</td><td>   374</td></tr>\n",
       "\t<tr><th scope=row>450-474</th><td>  13  </td><td>  12  </td><td>   472</td><td>   497</td></tr>\n",
       "\t<tr><th scope=row>450-499</th><td>  36  </td><td>  27  </td><td>   261</td><td>   324</td></tr>\n",
       "\t<tr><th scope=row>475-524</th><td>1314  </td><td>1266  </td><td> 48163</td><td> 50743</td></tr>\n",
       "\t<tr><th scope=row>500-524</th><td>  58  </td><td>  30  </td><td>   288</td><td>   376</td></tr>\n",
       "\t<tr><th scope=row>525-549</th><td>  36  </td><td>  43  </td><td>   285</td><td>   364</td></tr>\n",
       "\t<tr><th scope=row>525-574</th><td>2404  </td><td>2163  </td><td> 68506</td><td> 73073</td></tr>\n",
       "\t<tr><th scope=row>550-599</th><td>  52  </td><td>  57  </td><td>   295</td><td>   404</td></tr>\n",
       "\t<tr><th scope=row>575-624</th><td>2344  </td><td>2143  </td><td> 50020</td><td> 54507</td></tr>\n",
       "\t<tr><th scope=row>600-624</th><td>  21  </td><td>  25  </td><td>   110</td><td>   156</td></tr>\n",
       "\t<tr><th scope=row>625+</th><td> 753  </td><td> 535  </td><td> 11095</td><td> 12383</td></tr>\n",
       "\t<tr><th scope=row>Less than 450</th><td>  13  </td><td>  15  </td><td>   107</td><td>   135</td></tr>\n",
       "\t<tr><th scope=row>Sum</th><td>7054  </td><td>6325  </td><td>179957</td><td>193336</td></tr>\n",
       "</tbody>\n",
       "</table>\n"
      ],
      "text/latex": [
       "\\begin{tabular}{r|llll}\n",
       "  & 1099/Self Employed & Fixed Income & W2 Employee & Sum\\\\\n",
       "\\hline\n",
       "\t400-449 &   10   &    9   &    355 &    374\\\\\n",
       "\t450-474 &   13   &   12   &    472 &    497\\\\\n",
       "\t450-499 &   36   &   27   &    261 &    324\\\\\n",
       "\t475-524 & 1314   & 1266   &  48163 &  50743\\\\\n",
       "\t500-524 &   58   &   30   &    288 &    376\\\\\n",
       "\t525-549 &   36   &   43   &    285 &    364\\\\\n",
       "\t525-574 & 2404   & 2163   &  68506 &  73073\\\\\n",
       "\t550-599 &   52   &   57   &    295 &    404\\\\\n",
       "\t575-624 & 2344   & 2143   &  50020 &  54507\\\\\n",
       "\t600-624 &   21   &   25   &    110 &    156\\\\\n",
       "\t625+ &  753   &  535   &  11095 &  12383\\\\\n",
       "\tLess than 450 &   13   &   15   &    107 &    135\\\\\n",
       "\tSum & 7054   & 6325   & 179957 & 193336\\\\\n",
       "\\end{tabular}\n"
      ],
      "text/markdown": [
       "\n",
       "| <!--/--> | 1099/Self Employed | Fixed Income | W2 Employee | Sum | \n",
       "|---|---|---|---|---|---|---|---|---|---|---|---|---|\n",
       "| 400-449 |   10   |    9   |    355 |    374 | \n",
       "| 450-474 |   13   |   12   |    472 |    497 | \n",
       "| 450-499 |   36   |   27   |    261 |    324 | \n",
       "| 475-524 | 1314   | 1266   |  48163 |  50743 | \n",
       "| 500-524 |   58   |   30   |    288 |    376 | \n",
       "| 525-549 |   36   |   43   |    285 |    364 | \n",
       "| 525-574 | 2404   | 2163   |  68506 |  73073 | \n",
       "| 550-599 |   52   |   57   |    295 |    404 | \n",
       "| 575-624 | 2344   | 2143   |  50020 |  54507 | \n",
       "| 600-624 |   21   |   25   |    110 |    156 | \n",
       "| 625+ |  753   |  535   |  11095 |  12383 | \n",
       "| Less than 450 |   13   |   15   |    107 |    135 | \n",
       "| Sum | 7054   | 6325   | 179957 | 193336 | \n",
       "\n",
       "\n"
      ],
      "text/plain": [
       "               employmentType\n",
       "creditScore,    1099/Self Employed Fixed Income W2 Employee Sum   \n",
       "  400-449         10                  9            355         374\n",
       "  450-474         13                 12            472         497\n",
       "  450-499         36                 27            261         324\n",
       "  475-524       1314               1266          48163       50743\n",
       "  500-524         58                 30            288         376\n",
       "  525-549         36                 43            285         364\n",
       "  525-574       2404               2163          68506       73073\n",
       "  550-599         52                 57            295         404\n",
       "  575-624       2344               2143          50020       54507\n",
       "  600-624         21                 25            110         156\n",
       "  625+           753                535          11095       12383\n",
       "  Less than 450   13                 15            107         135\n",
       "  Sum           7054               6325         179957      193336"
      ]
     },
     "metadata": {},
     "output_type": "display_data"
    },
    {
     "data": {
      "image/png": "[encoded data removed]",
      "text/plain": [
       "Plot with title \"Side-By-Side Bar Chart\""
      ]
     },
     "metadata": {},
     "output_type": "display_data"
    }
   ],
   "source": [
    "table1 <- table(analysis.anova$creditScore, analysis.anova$employmentType, dnn=c(\"creditScore,\", \"employmentType\")) # Creates a contingency table\n",
    "addmargins(table1) #Displays the table (Not necessary)\n",
    "barplot(table1, ylab=\"Total count\", xlab=\"employmen Type\", main=\"Side-By-Side Bar Chart\", col=c(\"green\", \"blue\", \"orange\",\"coral\", \"cyan\", \"darkcyan\",\"red\",\"pink\",\"darkseagreen\",\"gray70\",\"lightgreen\",\"orchid\" ), beside=TRUE, width=.3)\n",
    "legend(\"top\", title=\" Type of Employess Vs. Credit Scores\", legend= sort(unique(analysis.anova$creditScore)), fill =c(\"green\", \"blue\", \"orange\",\"coral\", \"cyan\", \"darkcyan\",\"red\",\"pink\",\"darkseagreen\",\"gray70\",\"lightgreen\",\"orchid\" ), box.lty=0)\n"
   ]
  },
  {
   "cell_type": "code",
   "execution_count": 16,
   "metadata": {},
   "outputs": [
    {
     "data": {
      "text/html": [
       "<table>\n",
       "<thead><tr><th></th><th scope=col>Live with Family</th><th scope=col>Other</th><th scope=col>Own/Buying</th><th scope=col>Rent</th><th scope=col>Sum</th></tr></thead>\n",
       "<tbody>\n",
       "\t<tr><th scope=row>400-449</th><td>  0   </td><td>   16 </td><td>   91 </td><td>   267</td><td>   374</td></tr>\n",
       "\t<tr><th scope=row>450-474</th><td>  0   </td><td>   18 </td><td>  128 </td><td>   351</td><td>   497</td></tr>\n",
       "\t<tr><th scope=row>450-499</th><td> 87   </td><td>   12 </td><td>   46 </td><td>   179</td><td>   324</td></tr>\n",
       "\t<tr><th scope=row>475-524</th><td>  1   </td><td> 2893 </td><td> 9887 </td><td> 37962</td><td> 50743</td></tr>\n",
       "\t<tr><th scope=row>500-524</th><td> 94   </td><td>   19 </td><td>   56 </td><td>   207</td><td>   376</td></tr>\n",
       "\t<tr><th scope=row>525-549</th><td>100   </td><td>   19 </td><td>   72 </td><td>   173</td><td>   364</td></tr>\n",
       "\t<tr><th scope=row>525-574</th><td>  3   </td><td> 6427 </td><td>16097 </td><td> 50546</td><td> 73073</td></tr>\n",
       "\t<tr><th scope=row>550-599</th><td> 91   </td><td>   21 </td><td>   73 </td><td>   219</td><td>   404</td></tr>\n",
       "\t<tr><th scope=row>575-624</th><td>  0   </td><td> 7575 </td><td>16506 </td><td> 30426</td><td> 54507</td></tr>\n",
       "\t<tr><th scope=row>600-624</th><td> 31   </td><td>    8 </td><td>   38 </td><td>    79</td><td>   156</td></tr>\n",
       "\t<tr><th scope=row>625+</th><td> 15   </td><td> 2149 </td><td> 4867 </td><td>  5352</td><td> 12383</td></tr>\n",
       "\t<tr><th scope=row>Less than 450</th><td> 31   </td><td>    7 </td><td>   24 </td><td>    73</td><td>   135</td></tr>\n",
       "\t<tr><th scope=row>Sum</th><td>453   </td><td>19164 </td><td>47885 </td><td>125834</td><td>193336</td></tr>\n",
       "</tbody>\n",
       "</table>\n"
      ],
      "text/latex": [
       "\\begin{tabular}{r|lllll}\n",
       "  & Live with Family & Other & Own/Buying & Rent & Sum\\\\\n",
       "\\hline\n",
       "\t400-449 &   0    &    16  &    91  &    267 &    374\\\\\n",
       "\t450-474 &   0    &    18  &   128  &    351 &    497\\\\\n",
       "\t450-499 &  87    &    12  &    46  &    179 &    324\\\\\n",
       "\t475-524 &   1    &  2893  &  9887  &  37962 &  50743\\\\\n",
       "\t500-524 &  94    &    19  &    56  &    207 &    376\\\\\n",
       "\t525-549 & 100    &    19  &    72  &    173 &    364\\\\\n",
       "\t525-574 &   3    &  6427  & 16097  &  50546 &  73073\\\\\n",
       "\t550-599 &  91    &    21  &    73  &    219 &    404\\\\\n",
       "\t575-624 &   0    &  7575  & 16506  &  30426 &  54507\\\\\n",
       "\t600-624 &  31    &     8  &    38  &     79 &    156\\\\\n",
       "\t625+ &  15    &  2149  &  4867  &   5352 &  12383\\\\\n",
       "\tLess than 450 &  31    &     7  &    24  &     73 &    135\\\\\n",
       "\tSum & 453    & 19164  & 47885  & 125834 & 193336\\\\\n",
       "\\end{tabular}\n"
      ],
      "text/markdown": [
       "\n",
       "| <!--/--> | Live with Family | Other | Own/Buying | Rent | Sum | \n",
       "|---|---|---|---|---|---|---|---|---|---|---|---|---|\n",
       "| 400-449 |   0    |    16  |    91  |    267 |    374 | \n",
       "| 450-474 |   0    |    18  |   128  |    351 |    497 | \n",
       "| 450-499 |  87    |    12  |    46  |    179 |    324 | \n",
       "| 475-524 |   1    |  2893  |  9887  |  37962 |  50743 | \n",
       "| 500-524 |  94    |    19  |    56  |    207 |    376 | \n",
       "| 525-549 | 100    |    19  |    72  |    173 |    364 | \n",
       "| 525-574 |   3    |  6427  | 16097  |  50546 |  73073 | \n",
       "| 550-599 |  91    |    21  |    73  |    219 |    404 | \n",
       "| 575-624 |   0    |  7575  | 16506  |  30426 |  54507 | \n",
       "| 600-624 |  31    |     8  |    38  |     79 |    156 | \n",
       "| 625+ |  15    |  2149  |  4867  |   5352 |  12383 | \n",
       "| Less than 450 |  31    |     7  |    24  |     73 |    135 | \n",
       "| Sum | 453    | 19164  | 47885  | 125834 | 193336 | \n",
       "\n",
       "\n"
      ],
      "text/plain": [
       "               residenceType\n",
       "creditScore     Live with Family Other Own/Buying Rent   Sum   \n",
       "  400-449         0                 16    91         267    374\n",
       "  450-474         0                 18   128         351    497\n",
       "  450-499        87                 12    46         179    324\n",
       "  475-524         1               2893  9887       37962  50743\n",
       "  500-524        94                 19    56         207    376\n",
       "  525-549       100                 19    72         173    364\n",
       "  525-574         3               6427 16097       50546  73073\n",
       "  550-599        91                 21    73         219    404\n",
       "  575-624         0               7575 16506       30426  54507\n",
       "  600-624        31                  8    38          79    156\n",
       "  625+           15               2149  4867        5352  12383\n",
       "  Less than 450  31                  7    24          73    135\n",
       "  Sum           453              19164 47885      125834 193336"
      ]
     },
     "metadata": {},
     "output_type": "display_data"
    },
    {
     "data": {
      "image/png": "[encoded data removed]",
      "text/plain": [
       "Plot with title \"Side-By-Side Bar Chart\""
      ]
     },
     "metadata": {},
     "output_type": "display_data"
    }
   ],
   "source": [
    "table1 <- table(analysis.anova$creditScore, analysis.anova$residenceType, dnn=c(\"creditScore\", \"residenceType\")) # Creates a contingency table\n",
    "addmargins(table1) #Displays the table (Not necessary)\n",
    "barplot(table1, ylab=\"Total count\", xlab=\"residenceType\", main=\"Side-By-Side Bar Chart\", col=c(\"green\", \"blue\", \"orange\",\"coral\", \"cyan\", \"darkcyan\",\"red\",\"pink\",\"darkseagreen\",\"gray70\",\"lightgreen\",\"orchid\" ), beside=TRUE, width=.3)\n",
    "legend(\"top\", title=\" Type of residenceType Vs. Credit Scores\", legend= sort(unique(analysis.anova$creditScore)), fill =c(\"green\", \"blue\", \"orange\",\"coral\", \"cyan\", \"darkcyan\",\"red\",\"pink\",\"darkseagreen\",\"gray70\",\"lightgreen\",\"orchid\" ), box.lty=0)\n"
   ]
  },
  {
   "cell_type": "code",
   "execution_count": 17,
   "metadata": {},
   "outputs": [
    {
     "data": {
      "text/html": [
       "<table>\n",
       "<thead><tr><th></th><th scope=col>AB</th><th scope=col>AK</th><th scope=col>AL</th><th scope=col>AR</th><th scope=col>AZ</th><th scope=col>CA</th><th scope=col>CO</th><th scope=col>CT</th><th scope=col>DC</th><th scope=col>DE</th><th scope=col>...</th><th scope=col>TN</th><th scope=col>TX</th><th scope=col>UT</th><th scope=col>VA</th><th scope=col>VT</th><th scope=col>WA</th><th scope=col>WI</th><th scope=col>WV</th><th scope=col>WY</th><th scope=col>Sum</th></tr></thead>\n",
       "<tbody>\n",
       "\t<tr><th scope=row>400-449</th><td>0     </td><td>  2   </td><td>  13  </td><td>   3  </td><td>   4  </td><td>   24 </td><td>   3  </td><td>   5  </td><td>  0   </td><td>  1   </td><td>...   </td><td>  19  </td><td>   43 </td><td>   2  </td><td>  13  </td><td>  0   </td><td>   3  </td><td>   7  </td><td>   3  </td><td>  0   </td><td>   374</td></tr>\n",
       "\t<tr><th scope=row>450-474</th><td>0     </td><td>  1   </td><td>  14  </td><td>   3  </td><td>   8  </td><td>   24 </td><td>   7  </td><td>   5  </td><td>  0   </td><td>  7   </td><td>...   </td><td>  17  </td><td>   68 </td><td>   6  </td><td>  10  </td><td>  0   </td><td>   2  </td><td>   3  </td><td>   5  </td><td>  0   </td><td>   497</td></tr>\n",
       "\t<tr><th scope=row>450-499</th><td>0     </td><td>  0   </td><td>  11  </td><td>   4  </td><td>   4  </td><td>   44 </td><td>   4  </td><td>   2  </td><td>  0   </td><td>  4   </td><td>...   </td><td>   4  </td><td>   40 </td><td>   5  </td><td>   7  </td><td>  0   </td><td>   6  </td><td>   3  </td><td>   3  </td><td>  0   </td><td>   324</td></tr>\n",
       "\t<tr><th scope=row>475-524</th><td>0     </td><td> 71   </td><td>2126  </td><td> 738  </td><td> 640  </td><td> 3259 </td><td> 393  </td><td> 310  </td><td> 91   </td><td>206   </td><td>...   </td><td>1771  </td><td> 7363 </td><td> 299  </td><td>1302  </td><td> 65   </td><td> 353  </td><td>1022  </td><td> 443  </td><td> 59   </td><td> 50743</td></tr>\n",
       "\t<tr><th scope=row>500-524</th><td>0     </td><td>  0   </td><td>  10  </td><td>   5  </td><td>  10  </td><td>   48 </td><td>   6  </td><td>   0  </td><td>  0   </td><td>  0   </td><td>...   </td><td>  11  </td><td>   33 </td><td>   1  </td><td>  11  </td><td>  0   </td><td>   2  </td><td>   5  </td><td>   3  </td><td>  1   </td><td>   376</td></tr>\n",
       "\t<tr><th scope=row>525-549</th><td>0     </td><td>  0   </td><td>  13  </td><td>   6  </td><td>  12  </td><td>   37 </td><td>   6  </td><td>   3  </td><td>  1   </td><td>  2   </td><td>...   </td><td>   6  </td><td>   39 </td><td>   0  </td><td>   8  </td><td>  2   </td><td>   5  </td><td>   3  </td><td>   4  </td><td>  1   </td><td>   364</td></tr>\n",
       "\t<tr><th scope=row>525-574</th><td>0     </td><td>102   </td><td>2576  </td><td>1033  </td><td>1002  </td><td> 5457 </td><td> 758  </td><td> 612  </td><td>157   </td><td>281   </td><td>...   </td><td>2600  </td><td> 8778 </td><td> 375  </td><td>1927  </td><td>148   </td><td> 532  </td><td>1152  </td><td> 578  </td><td> 95   </td><td> 73073</td></tr>\n",
       "\t<tr><th scope=row>550-599</th><td>0     </td><td>  2   </td><td>  11  </td><td>   7  </td><td>   9  </td><td>   46 </td><td>   5  </td><td>   4  </td><td>  2   </td><td>  2   </td><td>...   </td><td>  11  </td><td>   40 </td><td>   1  </td><td>   3  </td><td>  0   </td><td>   3  </td><td>   4  </td><td>   7  </td><td>  1   </td><td>   404</td></tr>\n",
       "\t<tr><th scope=row>575-624</th><td>0     </td><td> 82   </td><td>1495  </td><td> 577  </td><td> 773  </td><td> 4806 </td><td> 726  </td><td> 534  </td><td> 92   </td><td>181   </td><td>...   </td><td>1714  </td><td> 6218 </td><td> 316  </td><td>1485  </td><td>100   </td><td> 599  </td><td> 750  </td><td> 460  </td><td> 43   </td><td> 54507</td></tr>\n",
       "\t<tr><th scope=row>600-624</th><td>0     </td><td>  0   </td><td>   6  </td><td>   3  </td><td>   3  </td><td>   18 </td><td>   1  </td><td>   3  </td><td>  0   </td><td>  1   </td><td>...   </td><td>   0  </td><td>   16 </td><td>   1  </td><td>   6  </td><td>  0   </td><td>   4  </td><td>   1  </td><td>   1  </td><td>  0   </td><td>   156</td></tr>\n",
       "\t<tr><th scope=row>625+</th><td>1     </td><td> 25   </td><td> 253  </td><td>  99  </td><td> 233  </td><td> 1310 </td><td> 229  </td><td> 165  </td><td> 20   </td><td> 41   </td><td>...   </td><td> 246  </td><td> 1219 </td><td>  66  </td><td> 332  </td><td> 14   </td><td> 160  </td><td> 173  </td><td>  96  </td><td> 17   </td><td> 12383</td></tr>\n",
       "\t<tr><th scope=row>Less than 450</th><td>0     </td><td>  0   </td><td>   8  </td><td>   2  </td><td>   0  </td><td>   12 </td><td>   3  </td><td>   0  </td><td>  1   </td><td>  0   </td><td>...   </td><td>   2  </td><td>   15 </td><td>   0  </td><td>   2  </td><td>  0   </td><td>   1  </td><td>   2  </td><td>   2  </td><td>  0   </td><td>   135</td></tr>\n",
       "\t<tr><th scope=row>Sum</th><td>1     </td><td>285   </td><td>6536  </td><td>2480  </td><td>2698  </td><td>15085 </td><td>2141  </td><td>1643  </td><td>364   </td><td>726   </td><td>...   </td><td>6401  </td><td>23872 </td><td>1072  </td><td>5106  </td><td>329   </td><td>1670  </td><td>3125  </td><td>1605  </td><td>217   </td><td>193336</td></tr>\n",
       "</tbody>\n",
       "</table>\n"
      ],
      "text/latex": [
       "\\begin{tabular}{r|llllllllllllllllllllllllllllllllllllllllllllllllllllll}\n",
       "  & AB & AK & AL & AR & AZ & CA & CO & CT & DC & DE & ... & TN & TX & UT & VA & VT & WA & WI & WV & WY & Sum\\\\\n",
       "\\hline\n",
       "\t400-449 & 0      &   2    &   13   &    3   &    4   &    24  &    3   &    5   &   0    &   1    & ...    &   19   &    43  &    2   &   13   &   0    &    3   &    7   &    3   &   0    &    374\\\\\n",
       "\t450-474 & 0      &   1    &   14   &    3   &    8   &    24  &    7   &    5   &   0    &   7    & ...    &   17   &    68  &    6   &   10   &   0    &    2   &    3   &    5   &   0    &    497\\\\\n",
       "\t450-499 & 0      &   0    &   11   &    4   &    4   &    44  &    4   &    2   &   0    &   4    & ...    &    4   &    40  &    5   &    7   &   0    &    6   &    3   &    3   &   0    &    324\\\\\n",
       "\t475-524 & 0      &  71    & 2126   &  738   &  640   &  3259  &  393   &  310   &  91    & 206    & ...    & 1771   &  7363  &  299   & 1302   &  65    &  353   & 1022   &  443   &  59    &  50743\\\\\n",
       "\t500-524 & 0      &   0    &   10   &    5   &   10   &    48  &    6   &    0   &   0    &   0    & ...    &   11   &    33  &    1   &   11   &   0    &    2   &    5   &    3   &   1    &    376\\\\\n",
       "\t525-549 & 0      &   0    &   13   &    6   &   12   &    37  &    6   &    3   &   1    &   2    & ...    &    6   &    39  &    0   &    8   &   2    &    5   &    3   &    4   &   1    &    364\\\\\n",
       "\t525-574 & 0      & 102    & 2576   & 1033   & 1002   &  5457  &  758   &  612   & 157    & 281    & ...    & 2600   &  8778  &  375   & 1927   & 148    &  532   & 1152   &  578   &  95    &  73073\\\\\n",
       "\t550-599 & 0      &   2    &   11   &    7   &    9   &    46  &    5   &    4   &   2    &   2    & ...    &   11   &    40  &    1   &    3   &   0    &    3   &    4   &    7   &   1    &    404\\\\\n",
       "\t575-624 & 0      &  82    & 1495   &  577   &  773   &  4806  &  726   &  534   &  92    & 181    & ...    & 1714   &  6218  &  316   & 1485   & 100    &  599   &  750   &  460   &  43    &  54507\\\\\n",
       "\t600-624 & 0      &   0    &    6   &    3   &    3   &    18  &    1   &    3   &   0    &   1    & ...    &    0   &    16  &    1   &    6   &   0    &    4   &    1   &    1   &   0    &    156\\\\\n",
       "\t625+ & 1      &  25    &  253   &   99   &  233   &  1310  &  229   &  165   &  20    &  41    & ...    &  246   &  1219  &   66   &  332   &  14    &  160   &  173   &   96   &  17    &  12383\\\\\n",
       "\tLess than 450 & 0      &   0    &    8   &    2   &    0   &    12  &    3   &    0   &   1    &   0    & ...    &    2   &    15  &    0   &    2   &   0    &    1   &    2   &    2   &   0    &    135\\\\\n",
       "\tSum & 1      & 285    & 6536   & 2480   & 2698   & 15085  & 2141   & 1643   & 364    & 726    & ...    & 6401   & 23872  & 1072   & 5106   & 329    & 1670   & 3125   & 1605   & 217    & 193336\\\\\n",
       "\\end{tabular}\n"
      ],
      "text/markdown": [
       "\n",
       "| <!--/--> | AB | AK | AL | AR | AZ | CA | CO | CT | DC | DE | ... | TN | TX | UT | VA | VT | WA | WI | WV | WY | Sum | \n",
       "|---|---|---|---|---|---|---|---|---|---|---|---|---|\n",
       "| 400-449 | 0      |   2    |   13   |    3   |    4   |    24  |    3   |    5   |   0    |   1    | ...    |   19   |    43  |    2   |   13   |   0    |    3   |    7   |    3   |   0    |    374 | \n",
       "| 450-474 | 0      |   1    |   14   |    3   |    8   |    24  |    7   |    5   |   0    |   7    | ...    |   17   |    68  |    6   |   10   |   0    |    2   |    3   |    5   |   0    |    497 | \n",
       "| 450-499 | 0      |   0    |   11   |    4   |    4   |    44  |    4   |    2   |   0    |   4    | ...    |    4   |    40  |    5   |    7   |   0    |    6   |    3   |    3   |   0    |    324 | \n",
       "| 475-524 | 0      |  71    | 2126   |  738   |  640   |  3259  |  393   |  310   |  91    | 206    | ...    | 1771   |  7363  |  299   | 1302   |  65    |  353   | 1022   |  443   |  59    |  50743 | \n",
       "| 500-524 | 0      |   0    |   10   |    5   |   10   |    48  |    6   |    0   |   0    |   0    | ...    |   11   |    33  |    1   |   11   |   0    |    2   |    5   |    3   |   1    |    376 | \n",
       "| 525-549 | 0      |   0    |   13   |    6   |   12   |    37  |    6   |    3   |   1    |   2    | ...    |    6   |    39  |    0   |    8   |   2    |    5   |    3   |    4   |   1    |    364 | \n",
       "| 525-574 | 0      | 102    | 2576   | 1033   | 1002   |  5457  |  758   |  612   | 157    | 281    | ...    | 2600   |  8778  |  375   | 1927   | 148    |  532   | 1152   |  578   |  95    |  73073 | \n",
       "| 550-599 | 0      |   2    |   11   |    7   |    9   |    46  |    5   |    4   |   2    |   2    | ...    |   11   |    40  |    1   |    3   |   0    |    3   |    4   |    7   |   1    |    404 | \n",
       "| 575-624 | 0      |  82    | 1495   |  577   |  773   |  4806  |  726   |  534   |  92    | 181    | ...    | 1714   |  6218  |  316   | 1485   | 100    |  599   |  750   |  460   |  43    |  54507 | \n",
       "| 600-624 | 0      |   0    |    6   |    3   |    3   |    18  |    1   |    3   |   0    |   1    | ...    |    0   |    16  |    1   |    6   |   0    |    4   |    1   |    1   |   0    |    156 | \n",
       "| 625+ | 1      |  25    |  253   |   99   |  233   |  1310  |  229   |  165   |  20    |  41    | ...    |  246   |  1219  |   66   |  332   |  14    |  160   |  173   |   96   |  17    |  12383 | \n",
       "| Less than 450 | 0      |   0    |    8   |    2   |    0   |    12  |    3   |    0   |   1    |   0    | ...    |    2   |    15  |    0   |    2   |   0    |    1   |    2   |    2   |   0    |    135 | \n",
       "| Sum | 1      | 285    | 6536   | 2480   | 2698   | 15085  | 2141   | 1643   | 364    | 726    | ...    | 6401   | 23872  | 1072   | 5106   | 329    | 1670   | 3125   | 1605   | 217    | 193336 | \n",
       "\n",
       "\n"
      ],
      "text/plain": [
       "              AB AK  AL   AR   AZ   CA    CO   CT   DC  DE  ... TN   TX    UT  \n",
       "400-449       0    2   13    3    4    24    3    5   0   1 ...   19    43    2\n",
       "450-474       0    1   14    3    8    24    7    5   0   7 ...   17    68    6\n",
       "450-499       0    0   11    4    4    44    4    2   0   4 ...    4    40    5\n",
       "475-524       0   71 2126  738  640  3259  393  310  91 206 ... 1771  7363  299\n",
       "500-524       0    0   10    5   10    48    6    0   0   0 ...   11    33    1\n",
       "525-549       0    0   13    6   12    37    6    3   1   2 ...    6    39    0\n",
       "525-574       0  102 2576 1033 1002  5457  758  612 157 281 ... 2600  8778  375\n",
       "550-599       0    2   11    7    9    46    5    4   2   2 ...   11    40    1\n",
       "575-624       0   82 1495  577  773  4806  726  534  92 181 ... 1714  6218  316\n",
       "600-624       0    0    6    3    3    18    1    3   0   1 ...    0    16    1\n",
       "625+          1   25  253   99  233  1310  229  165  20  41 ...  246  1219   66\n",
       "Less than 450 0    0    8    2    0    12    3    0   1   0 ...    2    15    0\n",
       "Sum           1  285 6536 2480 2698 15085 2141 1643 364 726 ... 6401 23872 1072\n",
       "              VA   VT  WA   WI   WV   WY  Sum   \n",
       "400-449         13   0    3    7    3   0    374\n",
       "450-474         10   0    2    3    5   0    497\n",
       "450-499          7   0    6    3    3   0    324\n",
       "475-524       1302  65  353 1022  443  59  50743\n",
       "500-524         11   0    2    5    3   1    376\n",
       "525-549          8   2    5    3    4   1    364\n",
       "525-574       1927 148  532 1152  578  95  73073\n",
       "550-599          3   0    3    4    7   1    404\n",
       "575-624       1485 100  599  750  460  43  54507\n",
       "600-624          6   0    4    1    1   0    156\n",
       "625+           332  14  160  173   96  17  12383\n",
       "Less than 450    2   0    1    2    2   0    135\n",
       "Sum           5106 329 1670 3125 1605 217 193336"
      ]
     },
     "metadata": {},
     "output_type": "display_data"
    },
    {
     "data": {
      "image/png": "[encoded data removed]",
      "text/plain": [
       "Plot with title \"Side-By-Side Bar Chart\""
      ]
     },
     "metadata": {},
     "output_type": "display_data"
    }
   ],
   "source": [
    "table1 <- table(analysis.anova$creditScore, analysis.anova$state, dnn=c(\"creditScore\", \"state\")) # Creates a contingency table\n",
    "addmargins(table1) #Displays the table (Not necessary)\n",
    "barplot(table1, ylab=\"Total count\", xlab=\"state\", main=\"Side-By-Side Bar Chart\", col=c(\"green\", \"blue\", \"orange\",\"coral\", \"cyan\", \"darkcyan\",\"red\",\"pink\",\"darkseagreen\",\"gray70\",\"lightgreen\",\"orchid\" ), beside=TRUE, width=.3)\n",
    "legend(\"top\", title=\" state Vs. Credit Scores\", legend= sort(unique(analysis.anova$creditScore)), fill =c(\"green\", \"blue\", \"orange\",\"coral\", \"cyan\", \"darkcyan\",\"red\",\"pink\",\"darkseagreen\",\"gray70\",\"lightgreen\",\"orchid\" ), box.lty=0)\n"
   ]
  },
  {
   "cell_type": "markdown",
   "metadata": {},
   "source": [
    "<h2> Income per Employment Type </h2>"
   ]
  },
  {
   "cell_type": "code",
   "execution_count": 20,
   "metadata": {},
   "outputs": [
    {
     "name": "stdout",
     "output_type": "stream",
     "text": [
      "# A tibble: 3 x 4\n",
      "  employmentType      `n()` `sum(monthlyIncome)` meansinc\n",
      "  <fct>               <int>                <int>    <dbl>\n",
      "1 1099/Self Employed   7054             52083728    7384.\n",
      "2 Fixed Income         6325             40013347    6326.\n",
      "3 W2 Employee        179957            775198614    4308.\n"
     ]
    },
    {
     "data": {
      "image/png": "[encoded data removed]",
      "text/plain": [
       "plot without title"
      ]
     },
     "metadata": {},
     "output_type": "display_data"
    }
   ],
   "source": [
    "## count, monthly Income  - Income Average Per Empoyment Type\n",
    "library(dplyr)\n",
    "result <- analysis.anova %>% group_by(employmentType) %>%  summarize(n(), sum(monthlyIncome) , meansinc = mean(monthlyIncome))\n",
    "#barplot(newdata$monthlyIncome, names.arg=newdata$emplomentType)\n",
    "print(result)\n",
    "#print(str(result))\n",
    "category1 <- c(\"1099/Self Employed\",\"Fixed Income\" , \"W2 Employee\" )\n",
    "colr <- c(\"brown1\",\"darkcyan\",\"darkorchid1\")\n",
    "barplot(result$meansinc, names.arg=category1, col =colr,  ylab=\"Mean Month Income\", xlab=\"employment Type\")\n",
    "\n",
    "\n"
   ]
  },
  {
   "cell_type": "markdown",
   "metadata": {},
   "source": [
    "<h2>  INCOME per RESIDENT Type </h2>"
   ]
  },
  {
   "cell_type": "code",
   "execution_count": 19,
   "metadata": {},
   "outputs": [
    {
     "name": "stdout",
     "output_type": "stream",
     "text": [
      "# A tibble: 4 x 4\n",
      "  residenceType     `n()` `sum(monthlyIncome)` meansinc\n",
      "  <fct>             <int>                <int>    <dbl>\n",
      "1 Live with Family    453              1375479    3036.\n",
      "2 Other             19164            128501458    6705.\n",
      "3 Own/Buying        47885            311477146    6505.\n",
      "4 Rent             125834            425941606    3385.\n"
     ]
    },
    {
     "data": {
      "image/png": "[encoded data removed]",
      "text/plain": [
       "plot without title"
      ]
     },
     "metadata": {},
     "output_type": "display_data"
    }
   ],
   "source": [
    "#print(str(unique(analysis.anova$residenceType)))\n",
    "## count, monthly Income  - Income Average Per Resident Type\n",
    "library(dplyr)\n",
    "result <- analysis.anova %>% group_by(residenceType) %>%  summarize(n(), sum(monthlyIncome) , meansinc = mean(monthlyIncome))\n",
    "#barplot(newdata$monthlyIncome, names.arg=newdata$emplomentType)\n",
    "print(result)\n",
    "#print(str(result))\n",
    "category1 <- c(\"Live with Family\",\"Other\", \"Own/Buying\" , \"Rent\" )\n",
    "colr <- c(\"brown1\",\"darkcyan\",\"darkorchid1\",\"green1\")\n",
    "barplot(result$meansinc, names.arg=category1, col =colr , ylab=\"Mean Month Income\", xlab=\"Resident Type\")\n",
    "\n"
   ]
  },
  {
   "cell_type": "markdown",
   "metadata": {},
   "source": [
    "<h2> STATE WISE AVERAGE INCOME </h2>"
   ]
  },
  {
   "cell_type": "code",
   "execution_count": 21,
   "metadata": {},
   "outputs": [
    {
     "name": "stdout",
     "output_type": "stream",
     "text": [
      "# A tibble: 53 x 4\n",
      "   state `n()` `sum(monthlyIncome)` meansinc\n",
      "   <fct> <int>                <int>    <dbl>\n",
      " 1 AB        1                 3680    3680 \n",
      " 2 AK      285             42635917  149600.\n",
      " 3 AL     6536             17328089    2651.\n",
      " 4 AR     2480              7286029    2938.\n",
      " 5 AZ     2698              9863274    3656.\n",
      " 6 CA    15085            107950615    7156.\n",
      " 7 CO     2141              7836576    3660.\n",
      " 8 CT     1643              6750116    4108.\n",
      " 9 DC      364              2104352    5781.\n",
      "10 DE      726              3994930    5503.\n",
      "# ... with 43 more rows\n",
      " chr [1:54] \"brown1\" \"darkcyan\" \"darkorchid1\" \"green1\" \"lightsteelblue4\" ...\n",
      " chr [1:54] \"AB\" \"AK\" \"AL\" \"AR\" \"AZ\" \"CA\" \"CO\" \"CT\" \"DC\" \"DE\" \"FL\" \"GA\" ...\n"
     ]
    },
    {
     "data": {
      "image/png": "[encoded data removed]",
      "text/plain": [
       "plot without title"
      ]
     },
     "metadata": {},
     "output_type": "display_data"
    }
   ],
   "source": [
    "## count, monthly Income  - Income Average Per Empoyment Type\n",
    "library(dplyr)\n",
    "result <- analysis.anova %>% group_by(state) %>%  summarize(n(), sum(monthlyIncome) , meansinc = mean(monthlyIncome))\n",
    "#barplot(newdata$monthlyIncome, names.arg=newdata$emplomentType)\n",
    "print(result)\n",
    "#print(str(result))\n",
    "category1 <- c(\"AB\",\"AK\",\"AL\",\"AR\",\"AZ\",\"CA\",\"CO\",\"CT\",\"DC\",\"DE\",\"FL\",\"GA\",\"HI\",\"IA\",\"ID\",\"IL\",\"IN\",\"KS\",\"KY\",\"LA\",\"MA\",\"MD\",\"ME\",\"MI\",\"MN\",\"MO\",\"MS\",\"MI\",\"MT\",\"NC\",\"ND\",\"NE\",\"NH\",\"NJ\",\"NM\",\"NV\",\"NY\",\"OH\",\"OK\",\"OR\",\"ON\",\"PA\",\"RI\",\"SC\",\"SD\",\"TN\",\"TX\",\"UT\",\"VA\",\"VT\",\"WA\",\"WI\",\"WV\",\"WY\")\n",
    "colr <- c(\"brown1\",\"darkcyan\",\"darkorchid1\",\"green1\",\"lightsteelblue4\",\"brown1\",\"darkcyan\",\"darkorchid1\",\"green1\",\"lightsteelblue4\",\"brown1\",\"darkcyan\",\"darkorchid1\",\"green1\",\"lightsteelblue4\",\"brown1\",\"darkcyan\",\"darkorchid1\",\"green1\",\"lightsteelblue4\",\"brown1\",\"darkcyan\",\"darkorchid1\",\"green1\",\"lightsteelblue4\",\"brown1\",\"darkcyan\",\"darkorchid1\",\"green1\",\"lightsteelblue4\",\"brown1\",\"darkcyan\",\"darkorchid1\",\"green1\",\"lightsteelblue4\",\"brown1\",\"darkcyan\",\"darkorchid1\",\"green1\",\"lightsteelblue4\",\"brown1\",\"darkcyan\",\"darkorchid1\",\"green1\",\"lightsteelblue4\",\"brown1\",\"darkcyan\",\"darkorchid1\",\"green1\",\"lightsteelblue4\",\"brown1\",\"darkcyan\",\"darkorchid1\",\"green1\")\n",
    "str(colr)\n",
    "str(category1)\n",
    "\n",
    "barplot(result$meansinc, names.arg=result$state, col=colr, ylab=\"Mean Month Income\", xlab=\"State\",)\n"
   ]
  },
  {
   "cell_type": "markdown",
   "metadata": {},
   "source": [
    "<h2>## REMOVED state AK.\n",
    "# STATE WISE AVERAGE INCOME</h2>"
   ]
  },
  {
   "cell_type": "code",
   "execution_count": 22,
   "metadata": {},
   "outputs": [
    {
     "name": "stdout",
     "output_type": "stream",
     "text": [
      "# A tibble: 52 x 4\n",
      "   state `n()` `sum(monthlyIncome)` meansinc\n",
      "   <fct> <int>                <int>    <dbl>\n",
      " 1 AB        1                 3680    3680 \n",
      " 2 AL     6536             17328089    2651.\n",
      " 3 AR     2480              7286029    2938.\n",
      " 4 AZ     2698              9863274    3656.\n",
      " 5 CA    15085            107950615    7156.\n",
      " 6 CO     2141              7836576    3660.\n",
      " 7 CT     1643              6750116    4108.\n",
      " 8 DC      364              2104352    5781.\n",
      " 9 DE      726              3994930    5503.\n",
      "10 FL    13793             55856205    4050.\n",
      "# ... with 42 more rows\n",
      " chr [1:53] \"brown1\" \"darkorchid1\" \"green1\" \"lightsteelblue4\" \"brown1\" ...\n",
      " chr [1:53] \"AB\" \"AL\" \"AR\" \"AZ\" \"CA\" \"CO\" \"CT\" \"DC\" \"DE\" \"FL\" \"GA\" \"HI\" ...\n"
     ]
    },
    {
     "data": {
      "image/png": "[encoded data removed]",
      "text/plain": [
       "plot without title"
      ]
     },
     "metadata": {},
     "output_type": "display_data"
    }
   ],
   "source": [
    "## REMOVED state AK.\n",
    "# STATE WISE AVERAGE INCOME\n",
    "library(dplyr)\n",
    "#Filter and only required data\n",
    "CleanAK <- subset(analysis.anova, state!=\"AK\") \n",
    "result <- CleanAK  %>% group_by(state) %>%  summarize(n(), sum(monthlyIncome) , meansinc = mean(monthlyIncome))\n",
    "#barplot(newdata$monthlyIncome, names.arg=newdata$emplomentType)\n",
    "print(result)\n",
    "#print(str(result))\n",
    "category1 <- c(\"AB\",\"AL\",\"AR\",\"AZ\",\"CA\",\"CO\",\"CT\",\"DC\",\"DE\",\"FL\",\"GA\",\"HI\",\"IA\",\"ID\",\"IL\",\"IN\",\"KS\",\"KY\",\"LA\",\"MA\",\"MD\",\"ME\",\"MI\",\"MN\",\"MO\",\"MS\",\"MI\",\"MT\",\"NC\",\"ND\",\"NE\",\"NH\",\"NJ\",\"NM\",\"NV\",\"NY\",\"OH\",\"OK\",\"OR\",\"ON\",\"PA\",\"RI\",\"SC\",\"SD\",\"TN\",\"TX\",\"UT\",\"VA\",\"VT\",\"WA\",\"WI\",\"WV\",\"WY\")\n",
    "colr <- c(\"brown1\",\"darkorchid1\",\"green1\",\"lightsteelblue4\",\"brown1\",\"darkcyan\",\"darkorchid1\",\"green1\",\"lightsteelblue4\",\"brown1\",\"darkcyan\",\"darkorchid1\",\"green1\",\"lightsteelblue4\",\"brown1\",\"darkcyan\",\"darkorchid1\",\"green1\",\"lightsteelblue4\",\"brown1\",\"darkcyan\",\"darkorchid1\",\"green1\",\"lightsteelblue4\",\"brown1\",\"darkcyan\",\"darkorchid1\",\"green1\",\"lightsteelblue4\",\"brown1\",\"darkcyan\",\"darkorchid1\",\"green1\",\"lightsteelblue4\",\"brown1\",\"darkcyan\",\"darkorchid1\",\"green1\",\"lightsteelblue4\",\"brown1\",\"darkcyan\",\"darkorchid1\",\"green1\",\"lightsteelblue4\",\"brown1\",\"darkcyan\",\"darkorchid1\",\"green1\",\"lightsteelblue4\",\"brown1\",\"darkcyan\",\"darkorchid1\",\"green1\")\n",
    "str(colr)\n",
    "str(category1)\n",
    "\n",
    "barplot(result$meansinc, names.arg=result$state, col=colr,las=2,beside=F,width=.5, ylab=\"Mean Month Income\", xlab=\"state, other than AK\")\n"
   ]
  },
  {
   "cell_type": "code",
   "execution_count": null,
   "metadata": {},
   "outputs": [],
   "source": []
  }
 ],
 "metadata": {
  "kernelspec": {
   "display_name": "R",
   "language": "R",
   "name": "ir"
  },
  "language_info": {
   "codemirror_mode": "r",
   "file_extension": ".r",
   "mimetype": "text/x-r-source",
   "name": "R",
   "pygments_lexer": "r",
   "version": "3.5.0"
  }
 },
 "nbformat": 4,
 "nbformat_minor": 2
}
