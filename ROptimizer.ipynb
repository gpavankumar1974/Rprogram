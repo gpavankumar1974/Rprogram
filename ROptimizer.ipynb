{
 "cells": [
  {
   "cell_type": "code",
   "execution_count": 1,
   "metadata": {},
   "outputs": [],
   "source": [
    "# 20y1 + 12 y2 <= 1800 (Resource Constraint)\n",
    "# 4y1 + 4y2 <= 8*60 (Time constraint)"
   ]
  },
  {
   "cell_type": "code",
   "execution_count": 3,
   "metadata": {},
   "outputs": [
    {
     "name": "stderr",
     "output_type": "stream",
     "text": [
      "Loading required package: lpSolve\n",
      "Warning message:\n",
      "\"package 'lpSolve' was built under R version 3.5.2\""
     ]
    }
   ],
   "source": [
    "require(lpSolve)"
   ]
  },
  {
   "cell_type": "code",
   "execution_count": 4,
   "metadata": {},
   "outputs": [],
   "source": [
    " objective.in  <- c(25, 20)"
   ]
  },
  {
   "cell_type": "code",
   "execution_count": 5,
   "metadata": {},
   "outputs": [],
   "source": [
    "const <- matrix(c(20,  12, 4, 4), nrow=2, byrow=TRUE)"
   ]
  },
  {
   "cell_type": "code",
   "execution_count": 6,
   "metadata": {},
   "outputs": [],
   "source": [
    "time_constraints <- (8*60)"
   ]
  },
  {
   "cell_type": "code",
   "execution_count": 7,
   "metadata": {},
   "outputs": [],
   "source": [
    "resource_constraints <- 1800"
   ]
  },
  {
   "cell_type": "code",
   "execution_count": 8,
   "metadata": {},
   "outputs": [],
   "source": [
    "rhs <- c(resource_constraints, time_constraints)"
   ]
  },
  {
   "cell_type": "code",
   "execution_count": 9,
   "metadata": {},
   "outputs": [],
   "source": [
    "direction  <- c(\"<=\", \"<=\")"
   ]
  },
  {
   "cell_type": "code",
   "execution_count": 10,
   "metadata": {},
   "outputs": [
    {
     "data": {
      "text/plain": [
       "Success: the objective function is 2625 "
      ]
     },
     "metadata": {},
     "output_type": "display_data"
    }
   ],
   "source": [
    "optimum <-  lp(direction=\"max\",  objective.in, const, direction,  rhs)\n",
    "optimum"
   ]
  },
  {
   "cell_type": "code",
   "execution_count": 11,
   "metadata": {},
   "outputs": [
    {
     "data": {
      "text/plain": [
       "                 Length Class  Mode     \n",
       "direction        1      -none- numeric  \n",
       "x.count          1      -none- numeric  \n",
       "objective        2      -none- numeric  \n",
       "const.count      1      -none- numeric  \n",
       "constraints      8      -none- numeric  \n",
       "int.count        1      -none- numeric  \n",
       "int.vec          1      -none- numeric  \n",
       "bin.count        1      -none- numeric  \n",
       "binary.vec       1      -none- numeric  \n",
       "num.bin.solns    1      -none- numeric  \n",
       "objval           1      -none- numeric  \n",
       "solution         2      -none- numeric  \n",
       "presolve         1      -none- numeric  \n",
       "compute.sens     1      -none- numeric  \n",
       "sens.coef.from   1      -none- numeric  \n",
       "sens.coef.to     1      -none- numeric  \n",
       "duals            1      -none- numeric  \n",
       "duals.from       1      -none- numeric  \n",
       "duals.to         1      -none- numeric  \n",
       "scale            1      -none- numeric  \n",
       "use.dense        1      -none- numeric  \n",
       "dense.col        1      -none- numeric  \n",
       "dense.val        1      -none- numeric  \n",
       "dense.const.nrow 1      -none- numeric  \n",
       "dense.ctr        1      -none- numeric  \n",
       "use.rw           1      -none- numeric  \n",
       "tmp              1      -none- character\n",
       "status           1      -none- numeric  "
      ]
     },
     "metadata": {},
     "output_type": "display_data"
    }
   ],
   "source": [
    "summary(optimum)"
   ]
  },
  {
   "cell_type": "code",
   "execution_count": 14,
   "metadata": {},
   "outputs": [
    {
     "data": {
      "text/html": [
       "<ol class=list-inline>\n",
       "\t<li>45</li>\n",
       "\t<li>75</li>\n",
       "</ol>\n"
      ],
      "text/latex": [
       "\\begin{enumerate*}\n",
       "\\item 45\n",
       "\\item 75\n",
       "\\end{enumerate*}\n"
      ],
      "text/markdown": [
       "1. 45\n",
       "2. 75\n",
       "\n",
       "\n"
      ],
      "text/plain": [
       "[1] 45 75"
      ]
     },
     "metadata": {},
     "output_type": "display_data"
    }
   ],
   "source": [
    "# Product A and B\n",
    "optimum$solution"
   ]
  },
  {
   "cell_type": "code",
   "execution_count": 15,
   "metadata": {},
   "outputs": [
    {
     "data": {
      "text/html": [
       "2625"
      ],
      "text/latex": [
       "2625"
      ],
      "text/markdown": [
       "2625"
      ],
      "text/plain": [
       "[1] 2625"
      ]
     },
     "metadata": {},
     "output_type": "display_data"
    }
   ],
   "source": [
    "# Max sale\n",
    "optimum$objval"
   ]
  },
  {
   "cell_type": "code",
   "execution_count": null,
   "metadata": {},
   "outputs": [],
   "source": []
  }
 ],
 "metadata": {
  "kernelspec": {
   "display_name": "R",
   "language": "R",
   "name": "ir"
  },
  "language_info": {
   "codemirror_mode": "r",
   "file_extension": ".r",
   "mimetype": "text/x-r-source",
   "name": "R",
   "pygments_lexer": "r",
   "version": "3.5.1"
  }
 },
 "nbformat": 4,
 "nbformat_minor": 2
}
