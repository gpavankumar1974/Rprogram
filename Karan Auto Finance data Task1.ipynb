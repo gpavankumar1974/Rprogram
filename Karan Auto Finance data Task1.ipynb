{
 "cells": [
  {
   "cell_type": "markdown",
   "metadata": {},
   "source": [
    "<h1> # Original File is converted into CSV. </h1>"
   ]
  },
  {
   "cell_type": "markdown",
   "metadata": {},
   "source": [
    "\n",
    "library(readr)\n",
    "analysis.anova <- read.csv(\"C:/Users/radha/Desktop/KaranExcel/Analyst Case Study AutoFinance.csv\", sep=\",\", header = TRUE)\n",
    "head(analysis.anova)\n",
    "str(analysis.anova)"
   ]
  },
  {
   "cell_type": "markdown",
   "metadata": {},
   "source": [
    "<h1> Filter relevant columns 2,3,13. 2nd = city, 3rd = state, 13 = Monthly Income </h1>"
   ]
  },
  {
   "cell_type": "code",
   "execution_count": 4,
   "metadata": {},
   "outputs": [],
   "source": [
    "col2 = 2\n",
    "col3 = 3\n",
    "col13 = 13\n",
    "modifiedData = analysis.anova[,c(col2,col3,col13)]\n",
    "write.csv(modifiedData,\"C:\\\\Users\\\\radha\\\\Documents\\\\ClenaDataForTask1.csv\")\n"
   ]
  },
  {
   "cell_type": "code",
   "execution_count": 10,
   "metadata": {},
   "outputs": [
    {
     "data": {
      "text/html": [
       "<table>\n",
       "<thead><tr><th scope=col>X</th><th scope=col>city</th><th scope=col>state</th><th scope=col>monthlyIncome</th></tr></thead>\n",
       "<tbody>\n",
       "\t<tr><td>1                 </td><td>NEW ALBANY        </td><td>IN                </td><td>2000              </td></tr>\n",
       "\t<tr><td>2                 </td><td>BRONX             </td><td>NY                </td><td>2500              </td></tr>\n",
       "\t<tr><td>3                 </td><td>HUNTINGTON STATION</td><td>NY                </td><td>4083              </td></tr>\n",
       "\t<tr><td>4                 </td><td>Franklin          </td><td>MI                </td><td>4000              </td></tr>\n",
       "\t<tr><td>5                 </td><td>BALTIMORE         </td><td>MD                </td><td>2200              </td></tr>\n",
       "\t<tr><td>6                 </td><td>STAUNTON          </td><td>IL                </td><td>8750              </td></tr>\n",
       "</tbody>\n",
       "</table>\n"
      ],
      "text/latex": [
       "\\begin{tabular}{r|llll}\n",
       " X & city & state & monthlyIncome\\\\\n",
       "\\hline\n",
       "\t 1                  & NEW ALBANY         & IN                 & 2000              \\\\\n",
       "\t 2                  & BRONX              & NY                 & 2500              \\\\\n",
       "\t 3                  & HUNTINGTON STATION & NY                 & 4083              \\\\\n",
       "\t 4                  & Franklin           & MI                 & 4000              \\\\\n",
       "\t 5                  & BALTIMORE          & MD                 & 2200              \\\\\n",
       "\t 6                  & STAUNTON           & IL                 & 8750              \\\\\n",
       "\\end{tabular}\n"
      ],
      "text/markdown": [
       "\n",
       "X | city | state | monthlyIncome | \n",
       "|---|---|---|---|---|---|\n",
       "| 1                  | NEW ALBANY         | IN                 | 2000               | \n",
       "| 2                  | BRONX              | NY                 | 2500               | \n",
       "| 3                  | HUNTINGTON STATION | NY                 | 4083               | \n",
       "| 4                  | Franklin           | MI                 | 4000               | \n",
       "| 5                  | BALTIMORE          | MD                 | 2200               | \n",
       "| 6                  | STAUNTON           | IL                 | 8750               | \n",
       "\n",
       "\n"
      ],
      "text/plain": [
       "  X city               state monthlyIncome\n",
       "1 1 NEW ALBANY         IN    2000         \n",
       "2 2 BRONX              NY    2500         \n",
       "3 3 HUNTINGTON STATION NY    4083         \n",
       "4 4 Franklin           MI    4000         \n",
       "5 5 BALTIMORE          MD    2200         \n",
       "6 6 STAUNTON           IL    8750         "
      ]
     },
     "metadata": {},
     "output_type": "display_data"
    }
   ],
   "source": [
    "# Load  new clean file for analysis\n",
    "analysisAfterClean <- read.csv(\"C:\\\\Users\\\\radha\\\\Documents\\\\ClenaDataForTask1.csv\", sep=\",\", header = TRUE)\n",
    "head(analysisAfterClean)"
   ]
  },
  {
   "cell_type": "markdown",
   "metadata": {},
   "source": [
    "<h2> Filter only ORANAGE, LOS ANGELS data </h2>"
   ]
  },
  {
   "cell_type": "code",
   "execution_count": 7,
   "metadata": {},
   "outputs": [],
   "source": [
    "#Filter and only required data\n",
    "Orange_LosAngels <- subset(analysisAfterClean, (city==\"ORANGE\" | city==\"LOS ANGELES\") & state==\"CA\") "
   ]
  },
  {
   "cell_type": "code",
   "execution_count": 11,
   "metadata": {},
   "outputs": [],
   "source": [
    "## count, monthly Income\n",
    "library(dplyr)\n",
    "result <- Orange_LosAngels %>% group_by(city) %>%  summarize(n(), sum(monthlyIncome) ,mean(monthlyIncome))"
   ]
  },
  {
   "cell_type": "markdown",
   "metadata": {},
   "source": [
    "<h2> Mean Monthly Income of LOS ANGELS and ORANGE </h2>"
   ]
  },
  {
   "cell_type": "code",
   "execution_count": 9,
   "metadata": {},
   "outputs": [
    {
     "name": "stdout",
     "output_type": "stream",
     "text": [
      "# A tibble: 2 x 4\n",
      "  city        `n()` `sum(monthlyIncome)` `mean(monthlyIncome)`\n",
      "  <fct>       <int>                <int>                 <dbl>\n",
      "1 LOS ANGELES  1018              3164913                 3109.\n",
      "2 ORANGE         56               290353                 5185.\n"
     ]
    }
   ],
   "source": [
    "print(result)"
   ]
  },
  {
   "cell_type": "markdown",
   "metadata": {},
   "source": [
    "<h3>In Monthly Income - Mean - USD</h3>\n",
    "<h3> LOS ANGELS - 3109 </h3>\n",
    "<h3> ORANGE -  5185</h3>"
   ]
  },
  {
   "cell_type": "code",
   "execution_count": null,
   "metadata": {},
   "outputs": [],
   "source": []
  }
 ],
 "metadata": {
  "kernelspec": {
   "display_name": "R",
   "language": "R",
   "name": "ir"
  },
  "language_info": {
   "codemirror_mode": "r",
   "file_extension": ".r",
   "mimetype": "text/x-r-source",
   "name": "R",
   "pygments_lexer": "r",
   "version": "3.5.0"
  }
 },
 "nbformat": 4,
 "nbformat_minor": 2
}
