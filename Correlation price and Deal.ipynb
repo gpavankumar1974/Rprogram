{
 "cells": [
  {
   "cell_type": "code",
   "execution_count": 22,
   "metadata": {},
   "outputs": [],
   "source": [
    "library(readr)\n",
    "analysis.anova <- read.csv(\"D:/Alex/train_price_deal.csv\", sep=\",\", header = TRUE)"
   ]
  },
  {
   "cell_type": "code",
   "execution_count": 23,
   "metadata": {},
   "outputs": [
    {
     "data": {
      "text/html": [
       "85362"
      ],
      "text/latex": [
       "85362"
      ],
      "text/markdown": [
       "85362"
      ],
      "text/plain": [
       "[1] 85362"
      ]
     },
     "metadata": {},
     "output_type": "display_data"
    },
    {
     "data": {
      "text/html": [
       "0"
      ],
      "text/latex": [
       "0"
      ],
      "text/markdown": [
       "0"
      ],
      "text/plain": [
       "[1] 0"
      ]
     },
     "metadata": {},
     "output_type": "display_data"
    }
   ],
   "source": [
    "## Find empty price data, count\n",
    "sum(is.na(analysis.anova$price))\n",
    "sum(is.na(analysis.anova$deal_probability))"
   ]
  },
  {
   "cell_type": "code",
   "execution_count": 30,
   "metadata": {},
   "outputs": [
    {
     "name": "stdout",
     "output_type": "stream",
     "text": [
      "'data.frame':\t1503424 obs. of  4 variables:\n",
      " $ X               : int  0 1 2 3 4 5 6 7 8 9 ...\n",
      " $ item_id         : Factor w/ 1503424 levels \"0000081eebda\",..: 1087112 267624 1095558 15143 731528 480070 1156611 630862 1161181 1041815 ...\n",
      " $ price           : num  400 3000 4000 2200 40000 1300 11000 500 500 400 ...\n",
      " $ deal_probability: num  0.128 0 0.432 0.803 0.208 ...\n",
      "Total coumns 4 \n",
      "Total rows  1503424 \n"
     ]
    }
   ],
   "source": [
    "str(analysis.anova)\n",
    "# after clean\n",
    "cat(\"Total coumns\", ncol(analysis.anova) ,\"\\n\")\n",
    "cat(\"Total rows \", nrow(analysis.anova),\"\\n\")"
   ]
  },
  {
   "cell_type": "code",
   "execution_count": 27,
   "metadata": {},
   "outputs": [
    {
     "data": {
      "text/html": [
       "<table>\n",
       "<thead><tr><th scope=col>X</th><th scope=col>item_id</th><th scope=col>price</th><th scope=col>deal_probability</th></tr></thead>\n",
       "<tbody>\n",
       "\t<tr><td>0           </td><td>b912c3c6a6ad</td><td>  400       </td><td>0.12789     </td></tr>\n",
       "\t<tr><td>1           </td><td>2dac0150717d</td><td> 3000       </td><td>0.00000     </td></tr>\n",
       "\t<tr><td>2           </td><td>ba83aefab5dc</td><td> 4000       </td><td>0.43177     </td></tr>\n",
       "\t<tr><td>3           </td><td>02996f1dd2ea</td><td> 2200       </td><td>0.80323     </td></tr>\n",
       "\t<tr><td>4           </td><td>7c90be56d2ab</td><td>40000       </td><td>0.20797     </td></tr>\n",
       "\t<tr><td>5           </td><td>51e0962387f7</td><td> 1300       </td><td>0.80323     </td></tr>\n",
       "</tbody>\n",
       "</table>\n"
      ],
      "text/latex": [
       "\\begin{tabular}{r|llll}\n",
       " X & item\\_id & price & deal\\_probability\\\\\n",
       "\\hline\n",
       "\t 0            & b912c3c6a6ad &   400        & 0.12789     \\\\\n",
       "\t 1            & 2dac0150717d &  3000        & 0.00000     \\\\\n",
       "\t 2            & ba83aefab5dc &  4000        & 0.43177     \\\\\n",
       "\t 3            & 02996f1dd2ea &  2200        & 0.80323     \\\\\n",
       "\t 4            & 7c90be56d2ab & 40000        & 0.20797     \\\\\n",
       "\t 5            & 51e0962387f7 &  1300        & 0.80323     \\\\\n",
       "\\end{tabular}\n"
      ],
      "text/markdown": [
       "\n",
       "X | item_id | price | deal_probability | \n",
       "|---|---|---|---|---|---|\n",
       "| 0            | b912c3c6a6ad |   400        | 0.12789      | \n",
       "| 1            | 2dac0150717d |  3000        | 0.00000      | \n",
       "| 2            | ba83aefab5dc |  4000        | 0.43177      | \n",
       "| 3            | 02996f1dd2ea |  2200        | 0.80323      | \n",
       "| 4            | 7c90be56d2ab | 40000        | 0.20797      | \n",
       "| 5            | 51e0962387f7 |  1300        | 0.80323      | \n",
       "\n",
       "\n"
      ],
      "text/plain": [
       "  X item_id      price deal_probability\n",
       "1 0 b912c3c6a6ad   400 0.12789         \n",
       "2 1 2dac0150717d  3000 0.00000         \n",
       "3 2 ba83aefab5dc  4000 0.43177         \n",
       "4 3 02996f1dd2ea  2200 0.80323         \n",
       "5 4 7c90be56d2ab 40000 0.20797         \n",
       "6 5 51e0962387f7  1300 0.80323         "
      ]
     },
     "metadata": {},
     "output_type": "display_data"
    },
    {
     "data": {
      "text/html": [
       "0"
      ],
      "text/latex": [
       "0"
      ],
      "text/markdown": [
       "0"
      ],
      "text/plain": [
       "[1] 0"
      ]
     },
     "metadata": {},
     "output_type": "display_data"
    }
   ],
   "source": [
    "# Clean Empty records\n",
    "library(dplyr)\n",
    "df2018 = read.csv(\"D:/Alex/train_price_deal.csv\", na.strings = c(\"\", \"NA\"))\n",
    "df2018 = df2018 %>% na.omit()\n",
    "head(df2018)\n",
    "sum(is.na(df2018$price))\n",
    "\n"
   ]
  },
  {
   "cell_type": "code",
   "execution_count": 29,
   "metadata": {},
   "outputs": [
    {
     "name": "stdout",
     "output_type": "stream",
     "text": [
      "Total coumns 4 \n",
      "Total rows  1418062 \n"
     ]
    }
   ],
   "source": [
    "# after clean\n",
    "cat(\"Total coumns\", ncol(df2018) ,\"\\n\")\n",
    "cat(\"Total rows \", nrow(df2018),\"\\n\")"
   ]
  },
  {
   "cell_type": "markdown",
   "metadata": {},
   "source": [
    "<h1> correlation test </h1>\n",
    "cor.test(x, y, method=c(\"pearson\", \"kendall\", \"spearman\"))"
   ]
  },
  {
   "cell_type": "code",
   "execution_count": 31,
   "metadata": {},
   "outputs": [
    {
     "data": {
      "text/plain": [
       "\n",
       "\tPearson's product-moment correlation\n",
       "\n",
       "data:  df2018$price and df2018$deal_probability\n",
       "t = -1.3066, df = 1418100, p-value = 0.1913\n",
       "alternative hypothesis: true correlation is not equal to 0\n",
       "95 percent confidence interval:\n",
       " -0.0027431253  0.0005486488\n",
       "sample estimates:\n",
       "         cor \n",
       "-0.001097241 \n"
      ]
     },
     "metadata": {},
     "output_type": "display_data"
    }
   ],
   "source": [
    "# Correlation\n",
    "cor.test(df2018$price, df2018$deal_probability, method=c(\"pearson\"), use = \"complete.obs\", na.rm = TRUE)\n"
   ]
  },
  {
   "cell_type": "code",
   "execution_count": 32,
   "metadata": {},
   "outputs": [
    {
     "name": "stderr",
     "output_type": "stream",
     "text": [
      "Warning message in cor.test.default(df2018$price, df2018$deal_probability, method = c(\"spearman\"), :\n",
      "\"Cannot compute exact p-value with ties\""
     ]
    },
    {
     "data": {
      "text/plain": [
       "\n",
       "\tSpearman's rank correlation rho\n",
       "\n",
       "data:  df2018$price and df2018$deal_probability\n",
       "S = 3.7673e+17, p-value < 2.2e-16\n",
       "alternative hypothesis: true rho is not equal to 0\n",
       "sample estimates:\n",
       "     rho \n",
       "0.207315 \n"
      ]
     },
     "metadata": {},
     "output_type": "display_data"
    }
   ],
   "source": [
    "# Correlation\n",
    "cor.test(df2018$price, df2018$deal_probability, method=c(\"spearman\"), use = \"complete.obs\" , na.rm = TRUE)"
   ]
  },
  {
   "cell_type": "code",
   "execution_count": 33,
   "metadata": {},
   "outputs": [
    {
     "ename": "ERROR",
     "evalue": "Error in shapiro.test(df2018$price): sample size must be between 3 and 5000\n",
     "output_type": "error",
     "traceback": [
      "Error in shapiro.test(df2018$price): sample size must be between 3 and 5000\nTraceback:\n",
      "1. shapiro.test(df2018$price)",
      "2. stop(\"sample size must be between 3 and 5000\")"
     ]
    }
   ],
   "source": [
    "shapiro.test(df2018$price)"
   ]
  },
  {
   "cell_type": "code",
   "execution_count": 34,
   "metadata": {},
   "outputs": [
    {
     "name": "stdout",
     "output_type": "stream",
     "text": [
      "\n",
      "Call:\n",
      "lm(formula = df2018$deal_probability ~ df2018$price, data = df2018)\n",
      "\n",
      "Coefficients:\n",
      " (Intercept)  df2018$price  \n",
      "   1.346e-01    -4.233e-12  \n",
      "\n"
     ]
    },
    {
     "data": {
      "text/plain": [
       "\n",
       "Call:\n",
       "lm(formula = df2018$deal_probability ~ df2018$price, data = df2018)\n",
       "\n",
       "Residuals:\n",
       "     Min       1Q   Median       3Q      Max \n",
       "-0.13455 -0.13455 -0.13455 -0.00154  0.86587 \n",
       "\n",
       "Coefficients:\n",
       "               Estimate Std. Error t value Pr(>|t|)    \n",
       "(Intercept)   1.346e-01  2.167e-04 620.910   <2e-16 ***\n",
       "df2018$price -4.233e-12  3.240e-12  -1.307    0.191    \n",
       "---\n",
       "Signif. codes:  0 '***' 0.001 '**' 0.01 '*' 0.05 '.' 0.1 ' ' 1\n",
       "\n",
       "Residual standard error: 0.2581 on 1418060 degrees of freedom\n",
       "Multiple R-squared:  1.204e-06,\tAdjusted R-squared:  4.988e-07 \n",
       "F-statistic: 1.707 on 1 and 1418060 DF,  p-value: 0.1913\n"
      ]
     },
     "metadata": {},
     "output_type": "display_data"
    }
   ],
   "source": [
    "responsereg <- lm(df2018$deal_probability ~ df2018$price, df2018)\n",
    "print(responsereg)\n",
    "summary(responsereg)\n"
   ]
  },
  {
   "cell_type": "code",
   "execution_count": 35,
   "metadata": {},
   "outputs": [
    {
     "data": {},
     "metadata": {},
     "output_type": "display_data"
    },
    {
     "data": {
      "image/png": "[encoded data removed]",
      "text/plain": [
       "plot without title"
      ]
     },
     "metadata": {},
     "output_type": "display_data"
    }
   ],
   "source": [
    "library(ggplot2)\n",
    "library(\"ggpubr\")\n",
    "ggqqplot(df2018$price,, ylab = \"Price\")"
   ]
  },
  {
   "cell_type": "code",
   "execution_count": 38,
   "metadata": {},
   "outputs": [
    {
     "data": {
      "image/png": "[encoded data removed]",
      "text/plain": [
       "Plot with title \"Plot Price vs Deal\""
      ]
     },
     "metadata": {},
     "output_type": "display_data"
    }
   ],
   "source": [
    "plot(df2018$deal_probability ~ df2018$price, data = df2018,\n",
    "  xlab = \"Price\",\n",
    "  ylab = \"deal_probability\",\n",
    "  main = \"Plot Price vs Deal\"\n",
    ")"
   ]
  },
  {
   "cell_type": "code",
   "execution_count": 40,
   "metadata": {},
   "outputs": [
    {
     "data": {},
     "metadata": {},
     "output_type": "display_data"
    },
    {
     "data": {
      "image/png": "[encoded data removed]",
      "text/plain": [
       "plot without title"
      ]
     },
     "metadata": {},
     "output_type": "display_data"
    }
   ],
   "source": [
    "library(lattice)\n",
    "xyplot(df2018$deal_probability ~ df2018$price, data = df2018,\n",
    "  xlab = \"price\",\n",
    "  ylab = \"Deal Probability\",\n",
    "  main = \"Price vs Deal probability\"\n",
    ")"
   ]
  },
  {
   "cell_type": "markdown",
   "metadata": {},
   "source": [
    "<h1> This indicates Outliers causing problems <h1>"
   ]
  },
  {
   "cell_type": "code",
   "execution_count": 41,
   "metadata": {},
   "outputs": [
    {
     "data": {},
     "metadata": {},
     "output_type": "display_data"
    },
    {
     "data": {
      "image/png": "[encoded data removed]",
      "text/plain": [
       "plot without title"
      ]
     },
     "metadata": {},
     "output_type": "display_data"
    }
   ],
   "source": [
    "xyplot(df2018$deal_probability ~ df2018$price, data = df2018,\n",
    "  xlab = \"price\",\n",
    "  ylab = \"Deal Probability\",\n",
    "  main = \"Price vs Deal probability\",\n",
    "       xlim=c(0,10000)\n",
    ")"
   ]
  },
  {
   "cell_type": "code",
   "execution_count": 42,
   "metadata": {},
   "outputs": [
    {
     "data": {
      "text/plain": [
       "     Min.   1st Qu.    Median      Mean   3rd Qu.      Max. \n",
       "0.000e+00 5.000e+02 1.300e+03 3.167e+05 7.000e+03 7.950e+10 "
      ]
     },
     "metadata": {},
     "output_type": "display_data"
    }
   ],
   "source": [
    "summary(df2018$price)\n",
    "# this indicates High price variation"
   ]
  },
  {
   "cell_type": "code",
   "execution_count": null,
   "metadata": {},
   "outputs": [],
   "source": [
    "# Filte"
   ]
  }
 ],
 "metadata": {
  "kernelspec": {
   "display_name": "R",
   "language": "R",
   "name": "ir"
  },
  "language_info": {
   "codemirror_mode": "r",
   "file_extension": ".r",
   "mimetype": "text/x-r-source",
   "name": "R",
   "pygments_lexer": "r",
   "version": "3.5.0"
  }
 },
 "nbformat": 4,
 "nbformat_minor": 2
}
