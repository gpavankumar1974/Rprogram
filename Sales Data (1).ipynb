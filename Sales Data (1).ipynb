{
 "cells": [
  {
   "cell_type": "code",
   "execution_count": 1,
   "metadata": {},
   "outputs": [
    {
     "name": "stdout",
     "output_type": "stream",
     "text": [
      "                      Campaign.Name UTM.Medium    UTM.Source Account.Industry\n",
      "1 2016_00_InboundWeb_Request_A_Demo        cpc          bing   Small Business\n",
      "2 2016_00_InboundWeb_Request_A_Demo        cpc        google                 \n",
      "3 2016_00_InboundWeb_Request_A_Demo                            Small Business\n",
      "4 2016_00_InboundWeb_Request_A_Demo    organic www.google.ca           Dental\n",
      "5 2016_00_InboundWeb_Request_A_Demo                                 Lifestyle\n",
      "6 2016_00_InboundWeb_Request_A_Demo       none        direct                 \n",
      "  Oppt.Close.Date      Stage Opportunity.Amount       City State.Province\n",
      "1       1/20/2016 Closed Won             $4,186    Chicago             IL\n",
      "2                                                                      VA\n",
      "3      10/21/2016       Lost             $3,887   Lakeland             FL\n",
      "4       12/2/2016       Lost             $3,887     Mocton             NB\n",
      "5       11/3/2016   Forecast             $3,887 Middletown             CT\n",
      "6                                                                        \n",
      "  Account.Rating\n",
      "1 Under Contract\n",
      "2               \n",
      "3           Lost\n",
      "4           Lost\n",
      "5       Prospect\n",
      "6               \n",
      "'data.frame':\t16430 obs. of  10 variables:\n",
      " $ Campaign.Name     : Factor w/ 46 levels \"2016_00_Inbound_SalesTeam_Referral_Registration\",..: 4 4 4 4 4 4 4 4 4 4 ...\n",
      " $ UTM.Medium        : Factor w/ 13 levels \"\",\"cpc\",\"email\",..: 2 2 1 7 1 6 7 2 6 7 ...\n",
      " $ UTM.Source        : Factor w/ 105 levels \"\",\"1\",\"accountants.intuit.com\",..: 4 15 1 66 1 10 56 15 10 73 ...\n",
      " $ Account.Industry  : Factor w/ 8 levels \"\",\"Animal Care\",..: 8 1 8 4 5 1 4 3 3 6 ...\n",
      " $ Oppt.Close.Date   : Factor w/ 225 levels \"\",\"1/20/2016\",..: 2 1 19 69 51 1 225 88 34 1 ...\n",
      " $ Stage             : Factor w/ 5 levels \"\",\"Closed Won\",..: 2 1 5 5 4 1 5 2 5 1 ...\n",
      " $ Opportunity.Amount: Factor w/ 30 levels \"\",\"$1,089\",\"$1,188\",..: 19 1 17 17 17 1 17 15 17 1 ...\n",
      " $ City              : Factor w/ 1585 levels \"\",\"32765\",\"33432\",..: 268 1 731 896 875 1 640 1331 1580 1 ...\n",
      " $ State.Province    : Factor w/ 169 levels \"\",\"??\",\"AB\",\"AE\",..: 49 156 37 86 28 1 144 120 125 137 ...\n",
      " $ Account.Rating    : Factor w/ 8 levels \"\",\"Beta\",\"Cancelled\",..: 8 1 4 4 6 1 4 8 4 8 ...\n",
      "NULL\n"
     ]
    }
   ],
   "source": [
    "#Sales data\n",
    "library(readr)\n",
    "salesLeads <- read.csv(\"C:/Users/radha/Desktop/KaranExcel/Analyst Case Study salesLeads.csv\", sep=\",\", header = TRUE)\n",
    "print(head(salesLeads))\n",
    "print(str(salesLeads))"
   ]
  },
  {
   "cell_type": "code",
   "execution_count": 17,
   "metadata": {},
   "outputs": [
    {
     "name": "stderr",
     "output_type": "stream",
     "text": [
      "\n",
      "Attaching package: 'dplyr'\n",
      "\n",
      "The following objects are masked from 'package:stats':\n",
      "\n",
      "    filter, lag\n",
      "\n",
      "The following objects are masked from 'package:base':\n",
      "\n",
      "    intersect, setdiff, setequal, union\n",
      "\n"
     ]
    },
    {
     "name": "stdout",
     "output_type": "stream",
     "text": [
      "                      Campaign.Name UTM.Medium    UTM.Source Account.Industry\n",
      "1 2016_00_InboundWeb_Request_A_Demo        cpc          bing   Small Business\n",
      "2 2016_00_InboundWeb_Request_A_Demo    organic www.google.ca           Dental\n",
      "3 2016_00_InboundWeb_Request_A_Demo    organic  www.bing.com           Dental\n",
      "4 2016_00_InboundWeb_Request_A_Demo        cpc        google       Automotive\n",
      "5 2016_00_InboundWeb_Request_A_Demo       none        direct       Automotive\n",
      "6 2016_00_InboundWeb_Request_A_Demo    organic www.google.ca           Dental\n",
      "  Oppt.Close.Date      Stage Opportunity.Amount        City State.Province\n",
      "1       1/20/2016 Closed Won             $4,186     Chicago             IL\n",
      "2       12/2/2016       Lost             $3,887      Mocton             NB\n",
      "3        9/9/2016       Lost             $3,887     Houston          Texas\n",
      "4       2/17/2016 Closed Won             $3,588 Springfield             OR\n",
      "5      11/11/2016       Lost             $3,887        York             PA\n",
      "6        5/2/2016       Lost             $3,887                           \n",
      "  Account.Rating\n",
      "1 Under Contract\n",
      "2           Lost\n",
      "3           Lost\n",
      "4 Under Contract\n",
      "5           Lost\n",
      "6      Cancelled\n",
      "'data.frame':\t364 obs. of  10 variables:\n",
      " $ Campaign.Name     : Factor w/ 46 levels \"2016_00_Inbound_SalesTeam_Referral_Registration\",..: 4 4 4 4 4 4 4 4 4 4 ...\n",
      " $ UTM.Medium        : Factor w/ 13 levels \"\",\"cpc\",\"email\",..: 2 7 7 2 6 7 7 5 6 6 ...\n",
      " $ UTM.Source        : Factor w/ 105 levels \"\",\"1\",\"accountants.intuit.com\",..: 4 66 56 15 10 66 73 28 10 10 ...\n",
      " $ Account.Industry  : Factor w/ 8 levels \"\",\"Animal Care\",..: 8 4 4 3 3 4 5 4 4 5 ...\n",
      " $ Oppt.Close.Date   : Factor w/ 225 levels \"\",\"1/20/2016\",..: 2 69 225 88 34 136 13 161 137 26 ...\n",
      " $ Stage             : Factor w/ 5 levels \"\",\"Closed Won\",..: 2 5 5 2 5 5 5 2 5 5 ...\n",
      " $ Opportunity.Amount: Factor w/ 30 levels \"\",\"$1,089\",\"$1,188\",..: 19 17 17 15 17 17 17 15 17 17 ...\n",
      " $ City              : Factor w/ 1585 levels \"\",\"32765\",\"33432\",..: 268 896 640 1331 1580 1 593 98 264 1267 ...\n",
      " $ State.Province    : Factor w/ 169 levels \"\",\"??\",\"AB\",\"AE\",..: 49 86 144 120 125 1 63 24 156 16 ...\n",
      " $ Account.Rating    : Factor w/ 8 levels \"\",\"Beta\",\"Cancelled\",..: 8 4 4 8 4 3 4 8 4 4 ...\n",
      "NULL\n"
     ]
    }
   ],
   "source": [
    "#\n",
    "library(dplyr)\n",
    "salesLeadsClean <- salesLeads %>%\n",
    "  filter(Stage != \"\",         # remove missing species_id\n",
    "         Campaign.Name != \"\",\n",
    "         UTM.Medium != \"\",\n",
    "         UTM.Source  != \"\")   \n",
    "\n",
    "print(head(salesLeadsClean))\n",
    "print(str(salesLeadsClean))"
   ]
  },
  {
   "cell_type": "code",
   "execution_count": 9,
   "metadata": {},
   "outputs": [
    {
     "name": "stdout",
     "output_type": "stream",
     "text": [
      " [1] 2016_00_InboundWeb_Request_A_Demo               \n",
      " [2] 2016_00_InboundWeb_InboundCall&Chat             \n",
      " [3] 2016_04_PPC_Google_Generic                      \n",
      " [4] 2016_09_Hotleads_EngagementPrograms             \n",
      " [5] 2016_10_Email_ZocDoc Competitive Takeaway       \n",
      " [6] 2016_00_InboundWeb_ContactUs                    \n",
      " [7] 2016_09_Tabletop_ODSM_Dental                    \n",
      " [8] 2016_05_Tradeshow_CDAAnaheim_Dental             \n",
      " [9] 2016_10_Tradeshow_ADA_Dental                    \n",
      "[10] 2016_09_Tradeshow_CDA SF_Dental                 \n",
      "[11] 2016_03_Roadshow_StraineWorkshop_Dental         \n",
      "[12] 2016_07_Tradeshow_AAHA                          \n",
      "[13] 2016_04_PPC_Google_Medical                      \n",
      "[14] 2016_11_Tradeshow_GNYDM_Dental                  \n",
      "[15] 2016_06_Tradeshow_FDC_Dental                    \n",
      "[16] 2016_00_Inbound_SalesTeam_Referral_Registration \n",
      "[17] 2016_09_Winbacks_Dental                         \n",
      "[18] 2016_10_Email_Winback_MeetNewEmployee           \n",
      "[19] 2016_11_Email_Winback_TwoWay_Text               \n",
      "[20] 2016_11_PPC_Facebook_Medical                    \n",
      "[21] 2016_11_PPC_Linkedin_Lifestyle                  \n",
      "[22] 2016_04_PPC_Bing_Lifestyle                      \n",
      "[23] 2016_10_Email_Winback_Google_Local              \n",
      "[24] 2016_04_PPC_Bing_Animal                         \n",
      "[25] 2016_04_PPC_Google_Auto                         \n",
      "[26] 2016_04_PPC_Google_Lifestyle                    \n",
      "[27] 2016_00_PPC_Bing_Generic                        \n",
      "[28] 2016_04_PPC_Google_Dental                       \n",
      "[29] 2016_10_Email_Newsletter_2-Way_Text_Announcement\n",
      "[30] 2016_11_Tabletop_Hand&Stone_Lifestyle           \n",
      "[31] 2016_11_PPC_Linkedin_Generic                    \n",
      "[32] 2016_11_PPC_Linkedin_Dental                     \n",
      "[33] 2016_11_PPC_Linkedin_Auto                       \n",
      "[34] 2016_11_PPC_Facebook_Generic                    \n",
      "[35] 2016_11_PPC_Facebook_Dental                     \n",
      "[36] 2016_11_PPC_Facebook_Auto                       \n",
      "[37] 2016_11_PPC_Facebook_Lifestyle                  \n",
      "[38] 2016_11_PPC_LinkedIn_Animal                     \n",
      "[39] 2016_11_PPC_Linkedin_Medical                    \n",
      "[40] 2016_11_PPC_Facebook_Animal                     \n",
      "[41] 2016_04_PPC_Google_Animal                       \n",
      "[42] 2016_12_Telemarketing_Infocore_Animal           \n",
      "[43] 2016_12_Telemarketing_Infocore_Auto             \n",
      "[44] 2016_12_Telemarketing_Infocore_Dental           \n",
      "[45] 2016_12_Telemarketing_Infocore_Spa-Salon        \n",
      "[46] 2016_12_Telemarketing_Infocore_Medical          \n",
      "46 Levels: 2016_00_Inbound_SalesTeam_Referral_Registration ...\n"
     ]
    }
   ],
   "source": [
    "print(unique(salesLeads$Campaign.Name ))\n",
    "#46 levels - values"
   ]
  },
  {
   "cell_type": "code",
   "execution_count": 6,
   "metadata": {},
   "outputs": [
    {
     "name": "stdout",
     "output_type": "stream",
     "text": [
      " [1] cpc                                       organic             \n",
      " [4] none                 na                   email               \n",
      " [7] referral             phone                social              \n",
      "[10] partner              Tradeshow            webinar             \n",
      "[13] in-product discovery\n",
      "13 Levels:  cpc email in-product discovery na none organic partner ... webinar\n"
     ]
    }
   ],
   "source": [
    "print(unique(salesLeads$UTM.Medium ))\n",
    "# 13 levels - values"
   ]
  },
  {
   "cell_type": "code",
   "execution_count": 8,
   "metadata": {},
   "outputs": [
    {
     "name": "stdout",
     "output_type": "stream",
     "text": [
      "  [1] bing                                   \n",
      "  [2] google                                 \n",
      "  [3]                                        \n",
      "  [4] www.google.ca                          \n",
      "  [5] direct                                 \n",
      "  [6] www.bing.com                           \n",
      "  [7] www.google.com                         \n",
      "  [8] r.search.yahoo.com                     \n",
      "  [9] na                                     \n",
      " [10] WinOMS                                 \n",
      " [11] www.intuit.com                         \n",
      " [12] www.demandforced3.com                  \n",
      " [13] www.athenahealth.com                   \n",
      " [14] search.aol.com                         \n",
      " [15] quickbooks.intuit.com                  \n",
      " [16] email.demandforce.com                  \n",
      " [17] facebook                               \n",
      " [18] search.yahoo.com                       \n",
      " [19] www.henryschein.com                    \n",
      " [20] www.weburlopener.com                   \n",
      " [21] napatracs.com                          \n",
      " [22] local.intuit.com                       \n",
      " [23] search.earthlink.net                   \n",
      " [24] www.bridgewaterfamilydental.com        \n",
      " [25] info.demandforce.com                   \n",
      " [26] www.salontoday.com                     \n",
      " [27] com.google.android.googlequicksearchbox\n",
      " [28] www.kauffmantire.net                   \n",
      " [29] client.compulinkadvantage.com          \n",
      " [30] streetfightmag.com                     \n",
      " [31] www.google.com.pr                      \n",
      " [32] enterprisesuite.intuit.com             \n",
      " [33] www.urlopener.com                      \n",
      " [34] www.google.co.in                       \n",
      " [35] m.facebook.com                         \n",
      " [36] www.openmultipleurl.com                \n",
      " [37] www.localseoguide.com                  \n",
      " [38] www.google.co.uk                       \n",
      " [39] www.stoneclinic.com                    \n",
      " [40] weburlopener.com                       \n",
      " [41] demandforced3.com                      \n",
      " [42] www.downtownphoenixdental.com          \n",
      " [43] robertcromeans.com                     \n",
      " [44] leanmarketing.ca                       \n",
      " [45] www.kareo.com                          \n",
      " [46] www.dentrix.com                        \n",
      " [47] www.google.com.ph                      \n",
      " [48] urlopener.blogspot.com                 \n",
      " [49] www.carestreamdental.com               \n",
      " [50] searchengineland.com                   \n",
      " [51] search.myway.com                       \n",
      " [52] www.internetbrands.com                 \n",
      " [53] www.google.co.za                       \n",
      " [54] www.flyingscissorssalon.com            \n",
      " [55] www.google.hu                          \n",
      " [56] www.practicalecommerce.com             \n",
      " [57] search.tb.ask.com                      \n",
      " [58] www.localvisibilitysystem.com          \n",
      " [59] www.google.com.mx                      \n",
      " [60] www.google.co.il                       \n",
      " [61] www.yext.com                           \n",
      " [62] accountants.intuit.com                 \n",
      " [63] www.google.co.kr                       \n",
      " [64] www.facebook.com                       \n",
      " [65] mdpmconsulting.com                     \n",
      " [66] www.ani-mall.com                       \n",
      " [67] marketo                                \n",
      " [68] www.google.si                          \n",
      " [69] www.google.co.id                       \n",
      " [70] www.google.ru                          \n",
      " [71] www.geekwire.com                       \n",
      " [72] www.google.com.bh                      \n",
      " [73] www.google.mu                          \n",
      " [74] www.dralanmarkowitz.com                \n",
      " [75] partner                                \n",
      " [76] www.google.it                          \n",
      " [77] social                                 \n",
      " [78] www.privesalonorlando.com              \n",
      " [79] payroll.intuit.com                     \n",
      " [80] www.google.com.hk                      \n",
      " [81] www.google.lk                          \n",
      " [82] search.demandforce.com                 \n",
      " [83] webscrape                              \n",
      " [84] winback                                \n",
      " [85] int.search.tb.ask.com                  \n",
      " [86] demandforce.com                        \n",
      " [87] smallbusiness.intuit.com               \n",
      " [88] www.google.com.ar                      \n",
      " [89] demandforcelive.com                    \n",
      " [90] www.google.com.au                      \n",
      " [91] hvacpartners.com                       \n",
      " [92] thebacklinkslist.blogspot.in           \n",
      " [93] Facebook                               \n",
      " [94] www.google.tt                          \n",
      " [95] www.google.com.pk                      \n",
      " [96] www.ads2020.marketing                  \n",
      " [97] www.linkedin.com                       \n",
      " [98] LinkedIn                               \n",
      " [99] urlopener.blogspot.ae                  \n",
      "[100] 1                                      \n",
      "[101] t.co                                   \n",
      "[102] helpset.ru                             \n",
      "[103] m.dentalproductshopper.com             \n",
      "[104] linkedin                               \n",
      "[105] www.totallyoptical.com                 \n",
      "105 Levels:  1 accountants.intuit.com bing ... www.yext.com\n"
     ]
    }
   ],
   "source": [
    "print(unique(salesLeads$UTM.Source))\n",
    "# 105 levels - values"
   ]
  },
  {
   "cell_type": "code",
   "execution_count": 13,
   "metadata": {},
   "outputs": [
    {
     "name": "stdout",
     "output_type": "stream",
     "text": [
      "[1] Small Business                              Dental               \n",
      "[4] Lifestyle             Automotive            Medical              \n",
      "[7] Animal Care           Professional Services\n",
      "8 Levels:  Animal Care Automotive Dental Lifestyle ... Small Business\n",
      "[1] Under Contract                Lost           Prospect       Cancelled     \n",
      "[6] Undefined      Beta           Opportunity   \n",
      "8 Levels:  Beta Cancelled Lost Opportunity Prospect ... Under Contract\n",
      "[1] Closed Won            Lost       Forecast   Demo      \n",
      "Levels:  Closed Won Demo Forecast Lost\n"
     ]
    }
   ],
   "source": [
    "print(unique(salesLeads$Account.Industry))\n",
    "# 8 levels - values\n",
    "print(unique(salesLeads$Account.Rating))\n",
    "# 8 levels - values\n",
    "print(unique(salesLeads$Stage))\n",
    "# % levels\n"
   ]
  },
  {
   "cell_type": "markdown",
   "metadata": {},
   "source": [
    "<h2><font color=\"blue\">Note: Out of 16,430 Records, only 364 having good records. Many are empty on Stage, Campaign.Name,UTM.Medium, UTM.Source</font></h2>"
   ]
  },
  {
   "cell_type": "code",
   "execution_count": 216,
   "metadata": {},
   "outputs": [],
   "source": [
    "# Task 1 - Moodification in \"Campaign Name\" column to new \"Campaign.NameMain\"\n",
    "# Campaign Name  Column Modification 2016_00_InboundWeb_Request_A_Demo  to  \"InboundWeb\"  \n",
    "# salesLeads\n",
    "# Campaign.Name\n",
    "# convert fcator to character\n",
    "library(dplyr)\n",
    "slcName <- as.character(salesLeads$Campaign.Name)\n",
    "\n",
    "#Campaign.NameNew =   strsplit(slcName , \"_\",fixed=FALSE)\n",
    "#head(Campaign.NameNew[[2]][3])\n",
    "\n",
    "newSalesLeaddata = salesLeads %>%   mutate( \n",
    "   Campaign.NameMain = sapply(strsplit(slcName, split=\"_\"), \"[\", 3)\n",
    "    )\n",
    "\n",
    "# test new column - Campaign.NameMain. which is derived from Campaign.Name\n",
    "\n",
    "#print(newSalesLeaddata[, c(2,10,11)])\n",
    "\n",
    "##PPC_google is not possible, as pattern is not uniform\n"
   ]
  },
  {
   "cell_type": "code",
   "execution_count": 79,
   "metadata": {},
   "outputs": [
    {
     "name": "stdout",
     "output_type": "stream",
     "text": [
      "# A tibble: 12 x 3\n",
      "# Groups:   UTM.Medium [12]\n",
      "   UTM.Medium            size     n\n",
      "   <fct>                <int> <int>\n",
      " 1 cpc                   1120  1120\n",
      " 2 email                   24    24\n",
      " 3 in-product discovery     1     1\n",
      " 4 na                       5     5\n",
      " 5 none                   966   966\n",
      " 6 organic                977   977\n",
      " 7 partner                  5     5\n",
      " 8 phone                  476   476\n",
      " 9 referral               293   293\n",
      "10 social                  24    24\n",
      "11 Tradeshow               15    15\n",
      "12 webinar                  2     2\n"
     ]
    },
    {
     "data": {
      "image/png": "[encoded data removed]",
      "text/plain": [
       "plot without title"
      ]
     },
     "metadata": {},
     "output_type": "display_data"
    }
   ],
   "source": [
    "# Distribution of\n",
    "#print(str(unique(analysis.anova$residenceType)))\n",
    "## count, monthly Income  - Income Average Per Resident Type\n",
    "# Removed Empty data\n",
    "library(dplyr)\n",
    "result <- newSalesLeaddata %>% group_by(UTM.Medium)  %>%  count( size= n())\n",
    "resultClean <- result %>%   filter( UTM.Medium != \"\") \n",
    "print(resultClean)\n",
    "\n",
    "\n",
    "category1 <- c(\"cpc\",\"email\",\"in-product discovery\",\"na\",\"none\",\"organic\",\"partner\",\"phone\",\"referral\",\"social\",\"Tradeshow\",\"webinar\" )\n",
    "colr <- c(\"aquamarine\", \"burlywood4\", \"chartreuse1\",\"coral2\",\"brown1\",\"darkgoldenrod1\", \"red\",\"green\",\"blue\",\"darkmagenta\",\"deepskyblue\",\"mediumorchid1\")\n",
    "\n",
    "# orange , olivedrab2, palevioletred1\n",
    "barplot(resultClean$size, names.arg=category1, col =colr,las=2)\n"
   ]
  },
  {
   "cell_type": "markdown",
   "metadata": {},
   "source": [
    "<h3> in<b> UTM Medium </b> : CPC, none, Organic, phone referral showing more data </h3> As per above bar Diagram . Note: \"none\" also"
   ]
  },
  {
   "cell_type": "markdown",
   "metadata": {},
   "source": [
    "<h2><font color=\"red\">## Observe Below some Records are omitted, afetr clean. All these where stage has some value !!</font></h2>"
   ]
  },
  {
   "cell_type": "markdown",
   "metadata": {},
   "source": [
    "salesLeadsClean <- salesLeads %>%\n",
    "  filter(Stage != \"\",         # remove missing species_id\n",
    "         Campaign.Name != \"\",\n",
    "         UTM.Medium != \"\",\n",
    "         UTM.Source  != \"\")  "
   ]
  },
  {
   "cell_type": "code",
   "execution_count": 218,
   "metadata": {},
   "outputs": [
    {
     "name": "stdout",
     "output_type": "stream",
     "text": [
      "# A tibble: 12 x 3\n",
      "# Groups:   UTM.Medium [12]\n",
      "   UTM.Medium            size     n\n",
      "   <fct>                <int> <int>\n",
      " 1 cpc                   1120  1120\n",
      " 2 email                   24    24\n",
      " 3 in-product discovery     1     1\n",
      " 4 na                       5     5\n",
      " 5 none                   966   966\n",
      " 6 organic                977   977\n",
      " 7 partner                  5     5\n",
      " 8 phone                  476   476\n",
      " 9 referral               293   293\n",
      "10 social                  24    24\n",
      "11 Tradeshow               15    15\n",
      "12 webinar                  2     2\n"
     ]
    },
    {
     "data": {
      "image/png": "[encoded data removed]",
      "text/plain": [
       "plot without title"
      ]
     },
     "metadata": {},
     "output_type": "display_data"
    }
   ],
   "source": [
    "\n",
    "#-----\n",
    "library(dplyr)\n",
    "result <- salesLeads %>% group_by(UTM.Medium)  %>%  count( size= n())\n",
    "resultClean <- result %>%   filter( UTM.Medium != \"\") \n",
    "print(resultClean)\n",
    "\n",
    "\n",
    "category1 <- c(\"cpc\",\"email\",\"in-product discovery\",\"na\",\"none\",\"organic\",\"partner\",\"phone\",\"referral\",\"social\",\"Tradeshow\",\"webinar\" )\n",
    "colr <- c(\"aquamarine\", \"burlywood4\", \"chartreuse1\",\"coral2\",\"brown1\",\"darkgoldenrod1\", \"red\",\"green\",\"blue\",\"darkmagenta\",\"deepskyblue\",\"mediumorchid1\")\n",
    "\n",
    "# orange , olivedrab2, palevioletred1\n",
    "barplot(resultClean$size, names.arg=category1, col =colr,las=2)\n"
   ]
  },
  {
   "cell_type": "markdown",
   "metadata": {},
   "source": [
    "<h3> <font  color=\"blue\"> No \"STAGE\" Records on  \"social\",\"Tradeshow\",\"webinar\" . So this is NOT effective </font></h3>"
   ]
  },
  {
   "cell_type": "code",
   "execution_count": 225,
   "metadata": {},
   "outputs": [
    {
     "name": "stdout",
     "output_type": "stream",
     "text": [
      "# A tibble: 27 x 4\n",
      "# Groups:   UTM.Medium, Stage [27]\n",
      "   UTM.Medium           Stage       size     n\n",
      "   <fct>                <fct>      <int> <int>\n",
      " 1 cpc                  Closed Won    26    26\n",
      " 2 cpc                  Demo          17    17\n",
      " 3 cpc                  Forecast      24    24\n",
      " 4 cpc                  Lost          18    18\n",
      " 5 email                Closed Won     2     2\n",
      " 6 email                Demo           2     2\n",
      " 7 in-product discovery Forecast       1     1\n",
      " 8 na                   Closed Won     1     1\n",
      " 9 none                 Closed Won    26    26\n",
      "10 none                 Demo          13    13\n",
      "# ... with 17 more rows\n"
     ]
    }
   ],
   "source": [
    "library(dplyr)\n",
    "result <- salesLeads %>% group_by(UTM.Medium,Stage)  %>%  count( size= n())\n",
    "resultClean <- result %>%   filter( UTM.Medium != \"\" & Stage != \"\") \n",
    "print(resultClean)\n",
    "\n",
    "\n"
   ]
  },
  {
   "cell_type": "markdown",
   "metadata": {},
   "source": [
    "<h3> Below data for Each stage to each UTM.Medium </h3>"
   ]
  },
  {
   "cell_type": "code",
   "execution_count": 226,
   "metadata": {},
   "outputs": [
    {
     "data": {
      "text/html": [
       "<table>\n",
       "<thead><tr><th></th><th scope=col></th><th scope=col>cpc</th><th scope=col>email</th><th scope=col>in-product discovery</th><th scope=col>na</th><th scope=col>none</th><th scope=col>organic</th><th scope=col>partner</th><th scope=col>phone</th><th scope=col>referral</th><th scope=col>social</th><th scope=col>Tradeshow</th><th scope=col>webinar</th><th scope=col>Sum</th></tr></thead>\n",
       "<tbody>\n",
       "\t<tr><th scope=row></th><td>0 </td><td>0 </td><td>0 </td><td>0 </td><td>0 </td><td>0 </td><td>0 </td><td>0 </td><td>0 </td><td>0 </td><td>0 </td><td>0 </td><td>0 </td><td> 0</td></tr>\n",
       "\t<tr><th scope=row>Closed Won</th><td>0 </td><td>1 </td><td>1 </td><td>0 </td><td>1 </td><td>1 </td><td>1 </td><td>0 </td><td>1 </td><td>1 </td><td>0 </td><td>1 </td><td>0 </td><td> 8</td></tr>\n",
       "\t<tr><th scope=row>Demo</th><td>0 </td><td>1 </td><td>1 </td><td>0 </td><td>0 </td><td>1 </td><td>1 </td><td>1 </td><td>1 </td><td>1 </td><td>0 </td><td>0 </td><td>0 </td><td> 7</td></tr>\n",
       "\t<tr><th scope=row>Forecast</th><td>0 </td><td>1 </td><td>0 </td><td>1 </td><td>0 </td><td>1 </td><td>1 </td><td>1 </td><td>1 </td><td>1 </td><td>0 </td><td>0 </td><td>0 </td><td> 7</td></tr>\n",
       "\t<tr><th scope=row>Lost</th><td>0 </td><td>1 </td><td>0 </td><td>0 </td><td>0 </td><td>1 </td><td>1 </td><td>0 </td><td>1 </td><td>1 </td><td>0 </td><td>0 </td><td>0 </td><td> 5</td></tr>\n",
       "\t<tr><th scope=row>Sum</th><td>0 </td><td>4 </td><td>2 </td><td>1 </td><td>1 </td><td>4 </td><td>4 </td><td>2 </td><td>4 </td><td>4 </td><td>0 </td><td>1 </td><td>0 </td><td>27</td></tr>\n",
       "</tbody>\n",
       "</table>\n"
      ],
      "text/latex": [
       "\\begin{tabular}{r|llllllllllllll}\n",
       "  &  & cpc & email & in-product discovery & na & none & organic & partner & phone & referral & social & Tradeshow & webinar & Sum\\\\\n",
       "\\hline\n",
       "\t & 0  & 0  & 0  & 0  & 0  & 0  & 0  & 0  & 0  & 0  & 0  & 0  & 0  &  0\\\\\n",
       "\tClosed Won & 0  & 1  & 1  & 0  & 1  & 1  & 1  & 0  & 1  & 1  & 0  & 1  & 0  &  8\\\\\n",
       "\tDemo & 0  & 1  & 1  & 0  & 0  & 1  & 1  & 1  & 1  & 1  & 0  & 0  & 0  &  7\\\\\n",
       "\tForecast & 0  & 1  & 0  & 1  & 0  & 1  & 1  & 1  & 1  & 1  & 0  & 0  & 0  &  7\\\\\n",
       "\tLost & 0  & 1  & 0  & 0  & 0  & 1  & 1  & 0  & 1  & 1  & 0  & 0  & 0  &  5\\\\\n",
       "\tSum & 0  & 4  & 2  & 1  & 1  & 4  & 4  & 2  & 4  & 4  & 0  & 1  & 0  & 27\\\\\n",
       "\\end{tabular}\n"
      ],
      "text/markdown": [
       "\n",
       "| <!--/--> |  | cpc | email | in-product discovery | na | none | organic | partner | phone | referral | social | Tradeshow | webinar | Sum | \n",
       "|---|---|---|---|---|---|\n",
       "|  | 0  | 0  | 0  | 0  | 0  | 0  | 0  | 0  | 0  | 0  | 0  | 0  | 0  |  0 | \n",
       "| Closed Won | 0  | 1  | 1  | 0  | 1  | 1  | 1  | 0  | 1  | 1  | 0  | 1  | 0  |  8 | \n",
       "| Demo | 0  | 1  | 1  | 0  | 0  | 1  | 1  | 1  | 1  | 1  | 0  | 0  | 0  |  7 | \n",
       "| Forecast | 0  | 1  | 0  | 1  | 0  | 1  | 1  | 1  | 1  | 1  | 0  | 0  | 0  |  7 | \n",
       "| Lost | 0  | 1  | 0  | 0  | 0  | 1  | 1  | 0  | 1  | 1  | 0  | 0  | 0  |  5 | \n",
       "| Sum | 0  | 4  | 2  | 1  | 1  | 4  | 4  | 2  | 4  | 4  | 0  | 1  | 0  | 27 | \n",
       "\n",
       "\n"
      ],
      "text/plain": [
       "            UTM medium\n",
       "stage          cpc email in-product discovery na none organic partner phone\n",
       "             0 0   0     0                    0  0    0       0       0    \n",
       "  Closed Won 0 1   1     0                    1  1    1       0       1    \n",
       "  Demo       0 1   1     0                    0  1    1       1       1    \n",
       "  Forecast   0 1   0     1                    0  1    1       1       1    \n",
       "  Lost       0 1   0     0                    0  1    1       0       1    \n",
       "  Sum        0 4   2     1                    1  4    4       2       4    \n",
       "            UTM medium\n",
       "stage        referral social Tradeshow webinar Sum\n",
       "             0        0      0         0        0 \n",
       "  Closed Won 1        0      1         0        8 \n",
       "  Demo       1        0      0         0        7 \n",
       "  Forecast   1        0      0         0        7 \n",
       "  Lost       1        0      0         0        5 \n",
       "  Sum        4        0      1         0       27 "
      ]
     },
     "metadata": {},
     "output_type": "display_data"
    }
   ],
   "source": [
    "#print(result)\n",
    "# side by side bar chart\n",
    "table1 <- table(resultClean$Stage, resultClean$UTM.Medium, dnn=c(\"stage\", \"UTM medium\")) # Creates a contingency table\n",
    "addmargins(table1) #Displays the table (Not necessary)\n"
   ]
  },
  {
   "cell_type": "markdown",
   "metadata": {},
   "source": [
    "<h3> Bar for UTM medium Vs stage  with Number(frequency) </h3>"
   ]
  },
  {
   "cell_type": "code",
   "execution_count": 227,
   "metadata": {},
   "outputs": [
    {
     "data": {},
     "metadata": {},
     "output_type": "display_data"
    },
    {
     "data": {
      "image/png": "[encoded data removed]",
      "text/plain": [
       "plot without title"
      ]
     },
     "metadata": {},
     "output_type": "display_data"
    }
   ],
   "source": [
    "library(ggplot2)\n",
    "# No legend, since the information is redundant\n",
    "# A bar graph\n",
    "q <- ggplot(data=resultClean, aes(x=UTM.Medium, y=size, fill=Stage)) + \n",
    "    geom_bar(colour=\"black\", stat=\"identity\", position=position_dodge(), size=.3) +                        # Thinner lines\n",
    "    scale_fill_hue(name=\"Stage Legend\") +      # Set legend title\n",
    "    xlab(\"utm MEDIUM\") + ylab(\"Total\") + # Set axis labels\n",
    "    ggtitle(\"utm MEDIUM  v Stage \")      # Set title\n",
    "    \n",
    "q + theme(axis.text.x = element_text(angle = 90, hjust = 1))"
   ]
  },
  {
   "cell_type": "markdown",
   "metadata": {},
   "source": [
    "<h3> UTM SOURCE analysis </h3>"
   ]
  },
  {
   "cell_type": "code",
   "execution_count": 228,
   "metadata": {},
   "outputs": [
    {
     "name": "stdout",
     "output_type": "stream",
     "text": [
      "# A tibble: 15 x 4\n",
      "# Groups:   UTM.Source, Stage [15]\n",
      "   UTM.Source                    Stage       size     n\n",
      "   <fct>                         <fct>      <int> <int>\n",
      " 1 bing                          Closed Won     5     5\n",
      " 2 client.compulinkadvantage.com Closed Won     1     1\n",
      " 3 direct                        Closed Won    26    26\n",
      " 4 google                        Closed Won    22    22\n",
      " 5 na                            Closed Won     1     1\n",
      " 6 napatracs.com                 Closed Won     1     1\n",
      " 7 partner                       Closed Won     3     3\n",
      " 8 r.search.yahoo.com            Closed Won     3     3\n",
      " 9 search.aol.com                Closed Won     1     1\n",
      "10 www.athenahealth.com          Closed Won     1     1\n",
      "11 www.bing.com                  Closed Won     1     1\n",
      "12 www.carestreamdental.com      Closed Won     1     1\n",
      "13 www.demandforced3.com         Closed Won     2     2\n",
      "14 www.google.ca                 Closed Won     4     4\n",
      "15 www.google.com                Closed Won    55    55\n"
     ]
    }
   ],
   "source": [
    "library(dplyr)\n",
    "result <- salesLeads %>% group_by(UTM.Source,Stage)  %>%  count( size= n())\n",
    "resultClean <- result %>%   filter( UTM.Source != \"\" & Stage != \"\") \n",
    "resultClean <- resultClean %>%   filter( Stage == \"Closed Won\") \n",
    "print(resultClean)\n"
   ]
  },
  {
   "cell_type": "code",
   "execution_count": 229,
   "metadata": {},
   "outputs": [
    {
     "data": {},
     "metadata": {},
     "output_type": "display_data"
    },
    {
     "data": {
      "image/png": "[encoded data removed]",
      "text/plain": [
       "plot without title"
      ]
     },
     "metadata": {},
     "output_type": "display_data"
    }
   ],
   "source": [
    "library(ggplot2)\n",
    "# No legend, since the information is redundant\n",
    "# A bar graph\n",
    "q2 <- ggplot(data=resultClean, aes(x=UTM.Source, y=size, fill=Stage)) + \n",
    "    geom_bar(colour=\"black\", stat=\"identity\", position=position_dodge(), size=.3) +                        # Thinner lines\n",
    "    scale_fill_hue(name=\"Stage Legend\") +      # Set legend title\n",
    "    xlab(\"UTM.Source\") + ylab(\"Total\") + # Set axis labels\n",
    "    ggtitle(\"UTM.Source v Stage \")      # Set title\n",
    "    \n",
    "q2 + theme(axis.text.x = element_text(angle = 90, hjust = 1))"
   ]
  },
  {
   "cell_type": "markdown",
   "metadata": {},
   "source": [
    "<h3> Google com , Direct , Bing are useful in success of the deal - Stage </h3>"
   ]
  },
  {
   "cell_type": "code",
   "execution_count": 233,
   "metadata": {},
   "outputs": [
    {
     "data": {
      "text/html": [
       "<table>\n",
       "<thead><tr><th scope=col>Campaign.Name</th><th scope=col>UTM.Medium</th><th scope=col>UTM.Source</th><th scope=col>Account.Industry</th><th scope=col>Oppt.Close.Date</th><th scope=col>Stage</th><th scope=col>Opportunity.Amount</th><th scope=col>City</th><th scope=col>State.Province</th><th scope=col>Account.Rating</th><th scope=col>Campaign.NameNew</th></tr></thead>\n",
       "<tbody>\n",
       "\t<tr><td>2016_00_InboundWeb_Request_A_Demo</td><td>cpc                              </td><td>bing                             </td><td>Small Business                   </td><td>1/20/2016                        </td><td>Closed Won                       </td><td>$4,186                           </td><td>Chicago                          </td><td>IL                               </td><td>Under Contract                   </td><td>InboundWeb                       </td></tr>\n",
       "\t<tr><td>2016_00_InboundWeb_Request_A_Demo</td><td>organic                          </td><td>www.google.ca                    </td><td>Dental                           </td><td>12/2/2016                        </td><td>Lost                             </td><td>$3,887                           </td><td>Mocton                           </td><td>NB                               </td><td>Lost                             </td><td>InboundWeb                       </td></tr>\n",
       "\t<tr><td>2016_00_InboundWeb_Request_A_Demo</td><td>organic                          </td><td>www.bing.com                     </td><td>Dental                           </td><td>9/9/2016                         </td><td>Lost                             </td><td>$3,887                           </td><td>Houston                          </td><td>Texas                            </td><td>Lost                             </td><td>InboundWeb                       </td></tr>\n",
       "\t<tr><td>2016_00_InboundWeb_Request_A_Demo</td><td>cpc                              </td><td>google                           </td><td>Automotive                       </td><td>2/17/2016                        </td><td>Closed Won                       </td><td>$3,588                           </td><td>Springfield                      </td><td>OR                               </td><td>Under Contract                   </td><td>InboundWeb                       </td></tr>\n",
       "\t<tr><td>2016_00_InboundWeb_Request_A_Demo</td><td>none                             </td><td>direct                           </td><td>Automotive                       </td><td>11/11/2016                       </td><td>Lost                             </td><td>$3,887                           </td><td>York                             </td><td>PA                               </td><td>Lost                             </td><td>InboundWeb                       </td></tr>\n",
       "\t<tr><td>2016_00_InboundWeb_Request_A_Demo</td><td>organic                          </td><td>www.google.ca                    </td><td>Dental                           </td><td>5/2/2016                         </td><td>Lost                             </td><td>$3,887                           </td><td>                                 </td><td>                                 </td><td>Cancelled                        </td><td>InboundWeb                       </td></tr>\n",
       "</tbody>\n",
       "</table>\n"
      ],
      "text/latex": [
       "\\begin{tabular}{r|lllllllllll}\n",
       " Campaign.Name & UTM.Medium & UTM.Source & Account.Industry & Oppt.Close.Date & Stage & Opportunity.Amount & City & State.Province & Account.Rating & Campaign.NameNew\\\\\n",
       "\\hline\n",
       "\t 2016\\_00\\_InboundWeb\\_Request\\_A\\_Demo & cpc                                         & bing                                        & Small Business                              & 1/20/2016                                   & Closed Won                                  & \\$4,186                                    & Chicago                                     & IL                                          & Under Contract                              & InboundWeb                                 \\\\\n",
       "\t 2016\\_00\\_InboundWeb\\_Request\\_A\\_Demo & organic                                     & www.google.ca                               & Dental                                      & 12/2/2016                                   & Lost                                        & \\$3,887                                    & Mocton                                      & NB                                          & Lost                                        & InboundWeb                                 \\\\\n",
       "\t 2016\\_00\\_InboundWeb\\_Request\\_A\\_Demo & organic                                     & www.bing.com                                & Dental                                      & 9/9/2016                                    & Lost                                        & \\$3,887                                    & Houston                                     & Texas                                       & Lost                                        & InboundWeb                                 \\\\\n",
       "\t 2016\\_00\\_InboundWeb\\_Request\\_A\\_Demo & cpc                                         & google                                      & Automotive                                  & 2/17/2016                                   & Closed Won                                  & \\$3,588                                    & Springfield                                 & OR                                          & Under Contract                              & InboundWeb                                 \\\\\n",
       "\t 2016\\_00\\_InboundWeb\\_Request\\_A\\_Demo & none                                        & direct                                      & Automotive                                  & 11/11/2016                                  & Lost                                        & \\$3,887                                    & York                                        & PA                                          & Lost                                        & InboundWeb                                 \\\\\n",
       "\t 2016\\_00\\_InboundWeb\\_Request\\_A\\_Demo & organic                                     & www.google.ca                               & Dental                                      & 5/2/2016                                    & Lost                                        & \\$3,887                                    &                                             &                                             & Cancelled                                   & InboundWeb                                 \\\\\n",
       "\\end{tabular}\n"
      ],
      "text/markdown": [
       "\n",
       "Campaign.Name | UTM.Medium | UTM.Source | Account.Industry | Oppt.Close.Date | Stage | Opportunity.Amount | City | State.Province | Account.Rating | Campaign.NameNew | \n",
       "|---|---|---|---|---|---|\n",
       "| 2016_00_InboundWeb_Request_A_Demo | cpc                               | bing                              | Small Business                    | 1/20/2016                         | Closed Won                        | $4,186                            | Chicago                           | IL                                | Under Contract                    | InboundWeb                        | \n",
       "| 2016_00_InboundWeb_Request_A_Demo | organic                           | www.google.ca                     | Dental                            | 12/2/2016                         | Lost                              | $3,887                            | Mocton                            | NB                                | Lost                              | InboundWeb                        | \n",
       "| 2016_00_InboundWeb_Request_A_Demo | organic                           | www.bing.com                      | Dental                            | 9/9/2016                          | Lost                              | $3,887                            | Houston                           | Texas                             | Lost                              | InboundWeb                        | \n",
       "| 2016_00_InboundWeb_Request_A_Demo | cpc                               | google                            | Automotive                        | 2/17/2016                         | Closed Won                        | $3,588                            | Springfield                       | OR                                | Under Contract                    | InboundWeb                        | \n",
       "| 2016_00_InboundWeb_Request_A_Demo | none                              | direct                            | Automotive                        | 11/11/2016                        | Lost                              | $3,887                            | York                              | PA                                | Lost                              | InboundWeb                        | \n",
       "| 2016_00_InboundWeb_Request_A_Demo | organic                           | www.google.ca                     | Dental                            | 5/2/2016                          | Lost                              | $3,887                            |                                   |                                   | Cancelled                         | InboundWeb                        | \n",
       "\n",
       "\n"
      ],
      "text/plain": [
       "  Campaign.Name                     UTM.Medium UTM.Source    Account.Industry\n",
       "1 2016_00_InboundWeb_Request_A_Demo cpc        bing          Small Business  \n",
       "2 2016_00_InboundWeb_Request_A_Demo organic    www.google.ca Dental          \n",
       "3 2016_00_InboundWeb_Request_A_Demo organic    www.bing.com  Dental          \n",
       "4 2016_00_InboundWeb_Request_A_Demo cpc        google        Automotive      \n",
       "5 2016_00_InboundWeb_Request_A_Demo none       direct        Automotive      \n",
       "6 2016_00_InboundWeb_Request_A_Demo organic    www.google.ca Dental          \n",
       "  Oppt.Close.Date Stage      Opportunity.Amount City        State.Province\n",
       "1 1/20/2016       Closed Won $4,186             Chicago     IL            \n",
       "2 12/2/2016       Lost       $3,887             Mocton      NB            \n",
       "3 9/9/2016        Lost       $3,887             Houston     Texas         \n",
       "4 2/17/2016       Closed Won $3,588             Springfield OR            \n",
       "5 11/11/2016      Lost       $3,887             York        PA            \n",
       "6 5/2/2016        Lost       $3,887                                       \n",
       "  Account.Rating Campaign.NameNew\n",
       "1 Under Contract InboundWeb      \n",
       "2 Lost           InboundWeb      \n",
       "3 Lost           InboundWeb      \n",
       "4 Under Contract InboundWeb      \n",
       "5 Lost           InboundWeb      \n",
       "6 Cancelled      InboundWeb      "
      ]
     },
     "metadata": {},
     "output_type": "display_data"
    },
    {
     "name": "stdout",
     "output_type": "stream",
     "text": [
      "# A tibble: 2 x 4\n",
      "# Groups:   Campaign.NameNew, Stage [2]\n",
      "  Campaign.NameNew Stage       size     n\n",
      "  <chr>            <fct>      <int> <int>\n",
      "1 InboundWeb       Closed Won   116   116\n",
      "2 PPC              Closed Won    10    10\n"
     ]
    }
   ],
   "source": [
    "library(dplyr)\n",
    "# Q2 - aTask1 also\n",
    "# mutate\n",
    "slcName <- as.character(salesLeadsClean$Campaign.Name)\n",
    "\n",
    "newSalesLeaddata = salesLeadsClean %>%   mutate( \n",
    "   Campaign.NameNew = sapply(strsplit(slcName, split=\"_\"), \"[\", 3)\n",
    "    )\n",
    "head(newSalesLeaddata)\n",
    "result <- newSalesLeaddata %>% group_by(Campaign.NameNew,Stage)  %>%  count( size= n())\n",
    "resultClean <- result %>%   filter( Stage == \"Closed Won\") \n",
    "print(resultClean)\n"
   ]
  },
  {
   "cell_type": "code",
   "execution_count": 234,
   "metadata": {},
   "outputs": [
    {
     "data": {},
     "metadata": {},
     "output_type": "display_data"
    },
    {
     "data": {
      "image/png": "[encoded data removed]",
      "text/plain": [
       "plot without title"
      ]
     },
     "metadata": {},
     "output_type": "display_data"
    }
   ],
   "source": [
    "library(ggplot2)\n",
    "# No legend, since the information is redundant\n",
    "# A bar graph\n",
    "q2 <- ggplot(data=resultClean, aes(x=Campaign.NameNew, y=size, fill=Stage)) + \n",
    "    geom_bar(colour=\"black\", stat=\"identity\", position=position_dodge(), size=.3) +                        # Thinner lines\n",
    "    scale_fill_hue(name=\"Stage Legend\") +      # Set legend title\n",
    "    xlab(\"Campaign Name\") + ylab(\"Total\") + # Set axis labels\n",
    "    ggtitle(\"Campaign.Name v Stage \")      # Set title\n",
    "    \n",
    "q2 + theme(axis.text.x = element_text(angle = 90, hjust = 1))"
   ]
  },
  {
   "cell_type": "markdown",
   "metadata": {},
   "source": [
    "<h3> Campaign with \"inboundweb\" , \"ppc\"  are good for close wons </h3>"
   ]
  },
  {
   "cell_type": "markdown",
   "metadata": {},
   "source": [
    "<h3> Final summary </h3>\n",
    "<h3> Stage column provide status of lead like won/lost/demo etc </h3>\n",
    "<h4>\n",
    "1. Note: Out of 16,430 Records, only 364 having good records. Many are empty on Stage, Campaign.Name,UTM.Medium, UTM.Source\n",
    "</h4>\n",
    "<h4>\n",
    "2. in UTM Medium : CPC, none, Organic, phone referral showing more data. Note: \"none\" also\n",
    "</h4>\n",
    "<h4>3. in UTM mdium  : No \"STAGE\" Records on  \"social\",\"Tradeshow\",\"webinar\" in UTM mdium. So this is NOT effective </h4>\n",
    "<h4>4. in UTM mdium  : CPC, ORGANIC, None are effective </h4>\n",
    "\n",
    "<h4>5. in UTM Source  :Google com , Direct , Bing are are good for close wons </h4>\n",
    "<h4>6. in Campaign Name  : Campaign with \"inboundweb\" , \"ppc\" are good for close wons </h4>\n"
   ]
  },
  {
   "cell_type": "code",
   "execution_count": null,
   "metadata": {},
   "outputs": [],
   "source": []
  }
 ],
 "metadata": {
  "kernelspec": {
   "display_name": "R",
   "language": "R",
   "name": "ir"
  },
  "language_info": {
   "codemirror_mode": "r",
   "file_extension": ".r",
   "mimetype": "text/x-r-source",
   "name": "R",
   "pygments_lexer": "r",
   "version": "3.5.0"
  }
 },
 "nbformat": 4,
 "nbformat_minor": 2
}
